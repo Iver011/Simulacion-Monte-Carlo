{
 "cells": [
  {
   "cell_type": "markdown",
   "id": "a802a9fe-5585-44b4-a680-8fe0a36c9a96",
   "metadata": {},
   "source": [
    "## ANALISIS DE FINANCIERO USANDO EL MODELO DE MONTE CARLO"
   ]
  },
  {
   "cell_type": "markdown",
   "id": "da2e8fa3-bfe7-4813-a0f3-e26d46217f08",
   "metadata": {},
   "source": [
    "#### 1. PROYECCION DE VENTAS Y GANANCIAS \n",
    "La simulación de Monte Carlo, también llamada simulación aleatoria, fue propuesta por científicos estadounidenses en la década de 1940. El método obtiene resultados aproximados mediante análisis estadístico y simulación estocástica de variables aleatorias. Tomemos como ejemplo el modelo DCF, si el flujo de efectivo libre del proyecto de inversión en el futuro se expresa como una variable aleatoria con una cierta distribución de probabilidad, podemos mejorar la precisión del modelo tradicional de acuerdo con la distribución de probabilidad de estas variables aleatorias. En condiciones manuales, es difícil para las personas realizar miles de pruebas. En este caso, las personas prefieren utilizar Matlab en la aplicación de la simulación de Monte Carlo.\n",
    "En términos del proyecto, haremos las siguientes suposiciones:"
   ]
  },
  {
   "cell_type": "markdown",
   "id": "145ca6ae-5e9a-4777-a2c7-937269aa1f7b",
   "metadata": {},
   "source": [
    "- Tasa impositiva: 20% (Impuestos a las utilidades)\n",
    "- Tasa de descuento: valor mínimo del 5% y valor máximo del 10%. . (Costo de capital)\n",
    "- Tasa de crecimiento perpetuo: 3% (la tasa de crecimiento perpetuo suele estar entre la tasa de inflación histórica del 2-3% y la tasa de crecimiento del PIB histórica del 4-5%).\n",
    "- Múltiplo EV/EBITDA de 2019: 5x, que es igual a 623,4 / 123,10. Estamos utilizando estos datos debido al EBITDA negativo en 2020. EV=Valor Empresarial=Capitalización de mercado +\r\n",
    "deuda total−efectivo y equivalentes de efectivo\r\n",
    "EBITDA=Ganancias antes de intereses, impuestos, depreciación\r\n",
    "y amortizac\r\n",
    "​\r\n",
    "\n",
    "- Precio por acción: CHF 96,65\n",
    "- Precio actual por acción: CHF 140,40\n",
    "- Acciones en circulación: 4.479.637,00\n",
    "- Capitalización bursátil 2020: CHF 431,9M\n",
    "- Capitalización bursátil 2019: CHF 623,4M"
   ]
  },
  {
   "cell_type": "markdown",
   "id": "2fc0f2ab-8d61-4e2d-b918-5eab8a6da2ff",
   "metadata": {},
   "source": [
    "Para el proyecto, los datos utilizados consisten en los estados financieros de una empresa suiza (que eran públicos). La empresa cotiza en la Bolsa de Valores de Suiza. En lo que respecta al proyecto, no se revelará el nombre de la empresa (solo para no crearles ningún problema).\r\n",
    "Además, en lo que respecta a los cálculos que se realizarán en el desarrollo del proyecto, agregaremos algunos supuestos adicionales que respalden los cálculos y la utilización del método de simulación de Monte Carlo en relación con la evaluación de la empresa."
   ]
  },
  {
   "cell_type": "markdown",
   "id": "67d4a47e-cc45-4f93-9b6d-8b104ed987e0",
   "metadata": {},
   "source": [
    "Parámetros del análisis:\n",
    "1. Intervalo de tiempo: más de 5 años de datos históricos (estados financieros), 18 años de datos históricos de ventas y 5 años de predicción.\n",
    "2. Cálculos adicionales basados ​​en las predicciones.\n",
    "3. Estados financieros de la empresa.\n",
    "4. Modelo de Excel con el cálculo del flujo de caja descontado que se utilizará para las simulaciones."
   ]
  },
  {
   "cell_type": "code",
   "execution_count": 1,
   "id": "38fd91b0-8ece-4ad0-94e5-1037d3f111e1",
   "metadata": {},
   "outputs": [],
   "source": [
    "%matplotlib inline"
   ]
  },
  {
   "cell_type": "code",
   "execution_count": 2,
   "id": "3f8b623f-ee7f-4565-890a-f5d08774b99a",
   "metadata": {
    "scrolled": true
   },
   "outputs": [
    {
     "name": "stdout",
     "output_type": "stream",
     "text": [
      "Requirement already satisfied: xlwings in c:\\users\\asus\\appdata\\local\\programs\\python\\python312\\lib\\site-packages (0.33.6)\n",
      "Requirement already satisfied: pandas in c:\\users\\asus\\appdata\\local\\programs\\python\\python312\\lib\\site-packages (2.2.3)\n",
      "Requirement already satisfied: matplotlib in c:\\users\\asus\\appdata\\local\\programs\\python\\python312\\lib\\site-packages (3.10.0)\n",
      "Requirement already satisfied: nose in c:\\users\\asus\\appdata\\local\\programs\\python\\python312\\lib\\site-packages (1.3.7)\n",
      "Requirement already satisfied: numpy in c:\\users\\asus\\appdata\\local\\programs\\python\\python312\\lib\\site-packages (1.26.4)\n",
      "Requirement already satisfied: seaborn in c:\\users\\asus\\appdata\\local\\programs\\python\\python312\\lib\\site-packages (0.13.2)\n",
      "Requirement already satisfied: ipython in c:\\users\\asus\\appdata\\local\\programs\\python\\python312\\lib\\site-packages (8.18.1)\n",
      "Requirement already satisfied: pywin32>=224 in c:\\users\\asus\\appdata\\local\\programs\\python\\python312\\lib\\site-packages (from xlwings) (306)\n",
      "Requirement already satisfied: python-dateutil>=2.8.2 in c:\\users\\asus\\appdata\\local\\programs\\python\\python312\\lib\\site-packages (from pandas) (2.8.2)\n",
      "Requirement already satisfied: pytz>=2020.1 in c:\\users\\asus\\appdata\\local\\programs\\python\\python312\\lib\\site-packages (from pandas) (2023.3.post1)\n",
      "Requirement already satisfied: tzdata>=2022.7 in c:\\users\\asus\\appdata\\local\\programs\\python\\python312\\lib\\site-packages (from pandas) (2023.3)\n",
      "Requirement already satisfied: contourpy>=1.0.1 in c:\\users\\asus\\appdata\\local\\programs\\python\\python312\\lib\\site-packages (from matplotlib) (1.2.0)\n",
      "Requirement already satisfied: cycler>=0.10 in c:\\users\\asus\\appdata\\local\\programs\\python\\python312\\lib\\site-packages (from matplotlib) (0.12.1)\n",
      "Requirement already satisfied: fonttools>=4.22.0 in c:\\users\\asus\\appdata\\local\\programs\\python\\python312\\lib\\site-packages (from matplotlib) (4.47.0)\n",
      "Requirement already satisfied: kiwisolver>=1.3.1 in c:\\users\\asus\\appdata\\local\\programs\\python\\python312\\lib\\site-packages (from matplotlib) (1.4.5)\n",
      "Requirement already satisfied: packaging>=20.0 in c:\\users\\asus\\appdata\\local\\programs\\python\\python312\\lib\\site-packages (from matplotlib) (23.2)\n",
      "Requirement already satisfied: pillow>=8 in c:\\users\\asus\\appdata\\local\\programs\\python\\python312\\lib\\site-packages (from matplotlib) (10.1.0)\n",
      "Requirement already satisfied: pyparsing>=2.3.1 in c:\\users\\asus\\appdata\\local\\programs\\python\\python312\\lib\\site-packages (from matplotlib) (3.1.1)\n",
      "Requirement already satisfied: decorator in c:\\users\\asus\\appdata\\local\\programs\\python\\python312\\lib\\site-packages (from ipython) (5.1.1)\n",
      "Requirement already satisfied: jedi>=0.16 in c:\\users\\asus\\appdata\\local\\programs\\python\\python312\\lib\\site-packages (from ipython) (0.19.1)\n",
      "Requirement already satisfied: matplotlib-inline in c:\\users\\asus\\appdata\\local\\programs\\python\\python312\\lib\\site-packages (from ipython) (0.1.6)\n",
      "Requirement already satisfied: prompt-toolkit<3.1.0,>=3.0.41 in c:\\users\\asus\\appdata\\local\\programs\\python\\python312\\lib\\site-packages (from ipython) (3.0.43)\n",
      "Requirement already satisfied: pygments>=2.4.0 in c:\\users\\asus\\appdata\\local\\programs\\python\\python312\\lib\\site-packages (from ipython) (2.17.2)\n",
      "Requirement already satisfied: stack-data in c:\\users\\asus\\appdata\\local\\programs\\python\\python312\\lib\\site-packages (from ipython) (0.6.3)\n",
      "Requirement already satisfied: traitlets>=5 in c:\\users\\asus\\appdata\\local\\programs\\python\\python312\\lib\\site-packages (from ipython) (5.14.0)\n",
      "Requirement already satisfied: colorama in c:\\users\\asus\\appdata\\local\\programs\\python\\python312\\lib\\site-packages (from ipython) (0.4.6)\n",
      "Requirement already satisfied: parso<0.9.0,>=0.8.3 in c:\\users\\asus\\appdata\\local\\programs\\python\\python312\\lib\\site-packages (from jedi>=0.16->ipython) (0.8.3)\n",
      "Requirement already satisfied: wcwidth in c:\\users\\asus\\appdata\\local\\programs\\python\\python312\\lib\\site-packages (from prompt-toolkit<3.1.0,>=3.0.41->ipython) (0.2.12)\n",
      "Requirement already satisfied: six>=1.5 in c:\\users\\asus\\appdata\\local\\programs\\python\\python312\\lib\\site-packages (from python-dateutil>=2.8.2->pandas) (1.16.0)\n",
      "Requirement already satisfied: executing>=1.2.0 in c:\\users\\asus\\appdata\\local\\programs\\python\\python312\\lib\\site-packages (from stack-data->ipython) (2.0.1)\n",
      "Requirement already satisfied: asttokens>=2.1.0 in c:\\users\\asus\\appdata\\local\\programs\\python\\python312\\lib\\site-packages (from stack-data->ipython) (2.4.1)\n",
      "Requirement already satisfied: pure-eval in c:\\users\\asus\\appdata\\local\\programs\\python\\python312\\lib\\site-packages (from stack-data->ipython) (0.2.2)\n"
     ]
    },
    {
     "name": "stderr",
     "output_type": "stream",
     "text": [
      "\n",
      "[notice] A new release of pip is available: 23.3.2 -> 25.0.1\n",
      "[notice] To update, run: python.exe -m pip install --upgrade pip\n"
     ]
    }
   ],
   "source": [
    "import sys\n",
    "!{sys.executable} -m pip install xlwings pandas matplotlib nose numpy seaborn ipython"
   ]
  },
  {
   "cell_type": "code",
   "execution_count": 3,
   "id": "cddeda81-f1e8-4e43-b599-9d6a7627a0ce",
   "metadata": {},
   "outputs": [],
   "source": [
    "import xlwings as xw\n",
    "import pandas as pd\n",
    "import random\n",
    "import matplotlib.pyplot as plt\n",
    "import matplotlib as mlp\n",
    "import numpy as np\n",
    "import os\n",
    "import seaborn as sns\n",
    "from IPython.display import Markdown, display\n",
    "from numpy.random import uniform\n",
    "from xlwings.utils import rgb_to_int\n",
    "\n",
    "# Configuración de estilo de los gráficos de matplotlib\n",
    "sns.set_style(\"darkgrid\")\n",
    "#se elimino nose.tools en su lugar se puede usar unittesy para pruebas unitarias"
   ]
  },
  {
   "cell_type": "markdown",
   "id": "6a2ade9e-66dc-4bfb-a8e5-96e34fa6e7f5",
   "metadata": {},
   "source": [
    "#### I. Obtención, depuración y exploración de los datos\n",
    "Obtención de la información de los archivos preparados que se utilizarán para el análisis y las simulaciones.\n",
    "En esta sección, depuraremos y exploraremos un poco los datos mientras los preparamos para la creación del modelo. Además, presentaremos y veremos las fórmulas principales que se necesitarán para construir el modelo DCF y ejecutar la simulación de Monte Carlo."
   ]
  },
  {
   "cell_type": "code",
   "execution_count": 4,
   "id": "891ab499-b2f4-4b23-8942-575977fa0f6e",
   "metadata": {},
   "outputs": [
    {
     "name": "stdout",
     "output_type": "stream",
     "text": [
      "C:\\Users\\Asus\\python_finanzas\\Simulacion Monte Carlo\n"
     ]
    }
   ],
   "source": [
    "print(os.getcwd()) #muestra el directorio actual de trabajo"
   ]
  },
  {
   "cell_type": "code",
   "execution_count": 5,
   "id": "f78dc95a-dc67-4910-bc26-b8cceeeafeee",
   "metadata": {},
   "outputs": [
    {
     "name": "stdout",
     "output_type": "stream",
     "text": [
      "['.ipynb_checkpoints', 'balance-general-trad-2020-2016.xlsx', 'Company Sales in Million CHF Data.xlsx', 'Consolidated-Balance-Sheet-2020-2016-en.xlsx', 'CONSOLIDATED_INCOME_STATEMENT_2016-2020.xlsx', 'Consolidated_Reports_2016-2020.xlsx', 'DCF_file_Statement.xlsx', 'DCF_Model_Monte_Carlo.xlsx', 'estado-de-resultados-2020-2016.xlsx', 'Flujo_de_caja.xlsx', 'MonteCarlo.ipynb', 'reportes-consolidados.xlsx']\n"
     ]
    }
   ],
   "source": [
    "print(os.listdir(os.getcwd())) #lista todos los archivos y carpetas dentro del directorio"
   ]
  },
  {
   "cell_type": "code",
   "execution_count": 6,
   "id": "a53697ed-7be1-4931-a840-cf2ebf4d8bcb",
   "metadata": {},
   "outputs": [
    {
     "name": "stdout",
     "output_type": "stream",
     "text": [
      "Requirement already satisfied: openpyxl in c:\\users\\asus\\appdata\\local\\programs\\python\\python312\\lib\\site-packages (3.1.5)\n",
      "Requirement already satisfied: et-xmlfile in c:\\users\\asus\\appdata\\local\\programs\\python\\python312\\lib\\site-packages (from openpyxl) (2.0.0)\n",
      "Note: you may need to restart the kernel to use updated packages.\n"
     ]
    },
    {
     "name": "stderr",
     "output_type": "stream",
     "text": [
      "\n",
      "[notice] A new release of pip is available: 23.3.2 -> 25.0.1\n",
      "[notice] To update, run: python.exe -m pip install --upgrade pip\n"
     ]
    }
   ],
   "source": [
    "pip install openpyxl"
   ]
  },
  {
   "cell_type": "code",
   "execution_count": 7,
   "id": "6816772a-e978-4551-ad7a-265e8c3c106a",
   "metadata": {},
   "outputs": [
    {
     "data": {
      "text/html": [
       "<div>\n",
       "<style scoped>\n",
       "    .dataframe tbody tr th:only-of-type {\n",
       "        vertical-align: middle;\n",
       "    }\n",
       "\n",
       "    .dataframe tbody tr th {\n",
       "        vertical-align: top;\n",
       "    }\n",
       "\n",
       "    .dataframe thead th {\n",
       "        text-align: right;\n",
       "    }\n",
       "</style>\n",
       "<table border=\"1\" class=\"dataframe\">\n",
       "  <thead>\n",
       "    <tr style=\"text-align: right;\">\n",
       "      <th></th>\n",
       "      <th>BALANCE GENERAL (Expresado en millones)</th>\n",
       "      <th>2016</th>\n",
       "      <th>2017</th>\n",
       "      <th>2018</th>\n",
       "      <th>2019</th>\n",
       "      <th>2020</th>\n",
       "      <th>Unnamed: 6</th>\n",
       "      <th>Unnamed: 7</th>\n",
       "      <th>Unnamed: 8</th>\n",
       "      <th>Unnamed: 9</th>\n",
       "    </tr>\n",
       "  </thead>\n",
       "  <tbody>\n",
       "    <tr>\n",
       "      <th>0</th>\n",
       "      <td>Caja y bancos</td>\n",
       "      <td>365.6</td>\n",
       "      <td>243.3</td>\n",
       "      <td>256.2</td>\n",
       "      <td>284.1</td>\n",
       "      <td>282.3</td>\n",
       "      <td>NaN</td>\n",
       "      <td>NaN</td>\n",
       "      <td>NaN</td>\n",
       "      <td>NaN</td>\n",
       "    </tr>\n",
       "    <tr>\n",
       "      <th>1</th>\n",
       "      <td>Cuentas por cobrar C/P</td>\n",
       "      <td>7.0</td>\n",
       "      <td>1.1</td>\n",
       "      <td>0.9</td>\n",
       "      <td>0.9</td>\n",
       "      <td>0.9</td>\n",
       "      <td>NaN</td>\n",
       "      <td>NaN</td>\n",
       "      <td>NaN</td>\n",
       "      <td>NaN</td>\n",
       "    </tr>\n",
       "    <tr>\n",
       "      <th>2</th>\n",
       "      <td>Cuentas por cobrar</td>\n",
       "      <td>59.4</td>\n",
       "      <td>88.3</td>\n",
       "      <td>80.2</td>\n",
       "      <td>68.2</td>\n",
       "      <td>50.4</td>\n",
       "      <td>NaN</td>\n",
       "      <td>NaN</td>\n",
       "      <td>NaN</td>\n",
       "      <td>NaN</td>\n",
       "    </tr>\n",
       "    <tr>\n",
       "      <th>3</th>\n",
       "      <td>Otras cuentas por cobrar</td>\n",
       "      <td>47.1</td>\n",
       "      <td>62.1</td>\n",
       "      <td>43.7</td>\n",
       "      <td>24.2</td>\n",
       "      <td>26.1</td>\n",
       "      <td>NaN</td>\n",
       "      <td>NaN</td>\n",
       "      <td>NaN</td>\n",
       "      <td>NaN</td>\n",
       "    </tr>\n",
       "    <tr>\n",
       "      <th>4</th>\n",
       "      <td>RE-IVA</td>\n",
       "      <td>0.0</td>\n",
       "      <td>0.0</td>\n",
       "      <td>0.0</td>\n",
       "      <td>6.9</td>\n",
       "      <td>3.5</td>\n",
       "      <td>NaN</td>\n",
       "      <td>NaN</td>\n",
       "      <td>NaN</td>\n",
       "      <td>NaN</td>\n",
       "    </tr>\n",
       "    <tr>\n",
       "      <th>5</th>\n",
       "      <td>Inventarios</td>\n",
       "      <td>163.2</td>\n",
       "      <td>192.4</td>\n",
       "      <td>186.6</td>\n",
       "      <td>182.9</td>\n",
       "      <td>192.5</td>\n",
       "      <td>NaN</td>\n",
       "      <td>NaN</td>\n",
       "      <td>NaN</td>\n",
       "      <td>NaN</td>\n",
       "    </tr>\n",
       "    <tr>\n",
       "      <th>6</th>\n",
       "      <td>Activos mantenidos para la venta</td>\n",
       "      <td>11.5</td>\n",
       "      <td>11.0</td>\n",
       "      <td>10.2</td>\n",
       "      <td>0.0</td>\n",
       "      <td>0.0</td>\n",
       "      <td>NaN</td>\n",
       "      <td>NaN</td>\n",
       "      <td>NaN</td>\n",
       "      <td>NaN</td>\n",
       "    </tr>\n",
       "    <tr>\n",
       "      <th>7</th>\n",
       "      <td>TOTAL ACTIVOS CORRIENTES</td>\n",
       "      <td>653.8</td>\n",
       "      <td>598.2</td>\n",
       "      <td>577.8</td>\n",
       "      <td>567.2</td>\n",
       "      <td>555.7</td>\n",
       "      <td>NaN</td>\n",
       "      <td>NaN</td>\n",
       "      <td>NaN</td>\n",
       "      <td>NaN</td>\n",
       "    </tr>\n",
       "    <tr>\n",
       "      <th>8</th>\n",
       "      <td>Activos Fijos</td>\n",
       "      <td>237.2</td>\n",
       "      <td>232.6</td>\n",
       "      <td>212.8</td>\n",
       "      <td>209.7</td>\n",
       "      <td>210.6</td>\n",
       "      <td>NaN</td>\n",
       "      <td>NaN</td>\n",
       "      <td>NaN</td>\n",
       "      <td>NaN</td>\n",
       "    </tr>\n",
       "    <tr>\n",
       "      <th>9</th>\n",
       "      <td>Activos intangibles y fondos de comercio</td>\n",
       "      <td>10.1</td>\n",
       "      <td>107.8</td>\n",
       "      <td>98.0</td>\n",
       "      <td>93.6</td>\n",
       "      <td>89.5</td>\n",
       "      <td>NaN</td>\n",
       "      <td>NaN</td>\n",
       "      <td>NaN</td>\n",
       "      <td>NaN</td>\n",
       "    </tr>\n",
       "    <tr>\n",
       "      <th>10</th>\n",
       "      <td>Inversiores Permanentes</td>\n",
       "      <td>3.0</td>\n",
       "      <td>4.0</td>\n",
       "      <td>15.9</td>\n",
       "      <td>16.2</td>\n",
       "      <td>15.8</td>\n",
       "      <td>NaN</td>\n",
       "      <td>NaN</td>\n",
       "      <td>NaN</td>\n",
       "      <td>NaN</td>\n",
       "    </tr>\n",
       "    <tr>\n",
       "      <th>11</th>\n",
       "      <td>Activos por impuestos diferidos</td>\n",
       "      <td>62.7</td>\n",
       "      <td>62.0</td>\n",
       "      <td>62.7</td>\n",
       "      <td>62.7</td>\n",
       "      <td>62.7</td>\n",
       "      <td>NaN</td>\n",
       "      <td>NaN</td>\n",
       "      <td>NaN</td>\n",
       "      <td>NaN</td>\n",
       "    </tr>\n",
       "    <tr>\n",
       "      <th>12</th>\n",
       "      <td>Activos para beneficios a empleados.</td>\n",
       "      <td>16.2</td>\n",
       "      <td>29.2</td>\n",
       "      <td>26.4</td>\n",
       "      <td>24.1</td>\n",
       "      <td>22.1</td>\n",
       "      <td>NaN</td>\n",
       "      <td>NaN</td>\n",
       "      <td>NaN</td>\n",
       "      <td>NaN</td>\n",
       "    </tr>\n",
       "    <tr>\n",
       "      <th>13</th>\n",
       "      <td>Otros activos no corrientes</td>\n",
       "      <td>15.1</td>\n",
       "      <td>14.4</td>\n",
       "      <td>8.7</td>\n",
       "      <td>9.5</td>\n",
       "      <td>7.1</td>\n",
       "      <td>NaN</td>\n",
       "      <td>NaN</td>\n",
       "      <td>NaN</td>\n",
       "      <td>NaN</td>\n",
       "    </tr>\n",
       "    <tr>\n",
       "      <th>14</th>\n",
       "      <td>TOTAL ACTIVOS NO CORRIENTES</td>\n",
       "      <td>344.3</td>\n",
       "      <td>450.0</td>\n",
       "      <td>424.5</td>\n",
       "      <td>415.8</td>\n",
       "      <td>407.8</td>\n",
       "      <td>NaN</td>\n",
       "      <td>NaN</td>\n",
       "      <td>NaN</td>\n",
       "      <td>NaN</td>\n",
       "    </tr>\n",
       "    <tr>\n",
       "      <th>15</th>\n",
       "      <td>TOTAL ACTIVOS</td>\n",
       "      <td>998.1</td>\n",
       "      <td>1048.2</td>\n",
       "      <td>1002.3</td>\n",
       "      <td>983.0</td>\n",
       "      <td>963.5</td>\n",
       "      <td>NaN</td>\n",
       "      <td>NaN</td>\n",
       "      <td>NaN</td>\n",
       "      <td>NaN</td>\n",
       "    </tr>\n",
       "    <tr>\n",
       "      <th>16</th>\n",
       "      <td>Cuentas por pagar</td>\n",
       "      <td>79.4</td>\n",
       "      <td>88.2</td>\n",
       "      <td>96.3</td>\n",
       "      <td>68.9</td>\n",
       "      <td>47.7</td>\n",
       "      <td>NaN</td>\n",
       "      <td>NaN</td>\n",
       "      <td>NaN</td>\n",
       "      <td>NaN</td>\n",
       "    </tr>\n",
       "    <tr>\n",
       "      <th>17</th>\n",
       "      <td>Anticipos de Clientes</td>\n",
       "      <td>86.7</td>\n",
       "      <td>77.9</td>\n",
       "      <td>58.6</td>\n",
       "      <td>69.3</td>\n",
       "      <td>95.5</td>\n",
       "      <td>NaN</td>\n",
       "      <td>NaN</td>\n",
       "      <td>NaN</td>\n",
       "      <td>NaN</td>\n",
       "    </tr>\n",
       "    <tr>\n",
       "      <th>18</th>\n",
       "      <td>Otras cuentas por pagar</td>\n",
       "      <td>96.7</td>\n",
       "      <td>105.4</td>\n",
       "      <td>114.1</td>\n",
       "      <td>85.2</td>\n",
       "      <td>78.8</td>\n",
       "      <td>NaN</td>\n",
       "      <td>NaN</td>\n",
       "      <td>NaN</td>\n",
       "      <td>NaN</td>\n",
       "    </tr>\n",
       "    <tr>\n",
       "      <th>19</th>\n",
       "      <td>Obligaciones financieras</td>\n",
       "      <td>9.1</td>\n",
       "      <td>7.3</td>\n",
       "      <td>0.2</td>\n",
       "      <td>121.0</td>\n",
       "      <td>151.4</td>\n",
       "      <td>NaN</td>\n",
       "      <td>NaN</td>\n",
       "      <td>NaN</td>\n",
       "      <td>NaN</td>\n",
       "    </tr>\n",
       "    <tr>\n",
       "      <th>20</th>\n",
       "      <td>Impuestos por pagar</td>\n",
       "      <td>6.5</td>\n",
       "      <td>11.5</td>\n",
       "      <td>5.3</td>\n",
       "      <td>38.0</td>\n",
       "      <td>24.9</td>\n",
       "      <td>NaN</td>\n",
       "      <td>NaN</td>\n",
       "      <td>NaN</td>\n",
       "      <td>NaN</td>\n",
       "    </tr>\n",
       "    <tr>\n",
       "      <th>21</th>\n",
       "      <td>Gastos Corrientes</td>\n",
       "      <td>26.5</td>\n",
       "      <td>32.9</td>\n",
       "      <td>46.1</td>\n",
       "      <td>28.3</td>\n",
       "      <td>30.0</td>\n",
       "      <td>NaN</td>\n",
       "      <td>NaN</td>\n",
       "      <td>NaN</td>\n",
       "      <td>NaN</td>\n",
       "    </tr>\n",
       "    <tr>\n",
       "      <th>22</th>\n",
       "      <td>TOTAL PASIVOS CORRIENTES</td>\n",
       "      <td>304.9</td>\n",
       "      <td>323.2</td>\n",
       "      <td>320.6</td>\n",
       "      <td>410.7</td>\n",
       "      <td>428.3</td>\n",
       "      <td>NaN</td>\n",
       "      <td>NaN</td>\n",
       "      <td>NaN</td>\n",
       "      <td>NaN</td>\n",
       "    </tr>\n",
       "    <tr>\n",
       "      <th>23</th>\n",
       "      <td>Cuentas por pagar L/P</td>\n",
       "      <td>100.0</td>\n",
       "      <td>106.6</td>\n",
       "      <td>106.7</td>\n",
       "      <td>1.9</td>\n",
       "      <td>90.5</td>\n",
       "      <td>NaN</td>\n",
       "      <td>NaN</td>\n",
       "      <td>NaN</td>\n",
       "      <td>NaN</td>\n",
       "    </tr>\n",
       "    <tr>\n",
       "      <th>24</th>\n",
       "      <td>Provisiones por beneficios a empleados</td>\n",
       "      <td>25.9</td>\n",
       "      <td>28.6</td>\n",
       "      <td>30.2</td>\n",
       "      <td>33.2</td>\n",
       "      <td>32.3</td>\n",
       "      <td>NaN</td>\n",
       "      <td>NaN</td>\n",
       "      <td>NaN</td>\n",
       "      <td>NaN</td>\n",
       "    </tr>\n",
       "    <tr>\n",
       "      <th>25</th>\n",
       "      <td>Pasivos por impuesto diferido</td>\n",
       "      <td>34.4</td>\n",
       "      <td>45.0</td>\n",
       "      <td>40.5</td>\n",
       "      <td>34.6</td>\n",
       "      <td>31.1</td>\n",
       "      <td>NaN</td>\n",
       "      <td>NaN</td>\n",
       "      <td>NaN</td>\n",
       "      <td>NaN</td>\n",
       "    </tr>\n",
       "    <tr>\n",
       "      <th>26</th>\n",
       "      <td>Otros pasivos no corrientes</td>\n",
       "      <td>1.0</td>\n",
       "      <td>0.4</td>\n",
       "      <td>0.0</td>\n",
       "      <td>0.1</td>\n",
       "      <td>0.1</td>\n",
       "      <td>NaN</td>\n",
       "      <td>NaN</td>\n",
       "      <td>NaN</td>\n",
       "      <td>NaN</td>\n",
       "    </tr>\n",
       "    <tr>\n",
       "      <th>27</th>\n",
       "      <td>Gastos corrientes L/P</td>\n",
       "      <td>71.2</td>\n",
       "      <td>86.9</td>\n",
       "      <td>57.7</td>\n",
       "      <td>32.9</td>\n",
       "      <td>30.3</td>\n",
       "      <td>NaN</td>\n",
       "      <td>NaN</td>\n",
       "      <td>NaN</td>\n",
       "      <td>NaN</td>\n",
       "    </tr>\n",
       "    <tr>\n",
       "      <th>28</th>\n",
       "      <td>TOTAL PASIVOS NO CORRIENTES</td>\n",
       "      <td>232.5</td>\n",
       "      <td>267.5</td>\n",
       "      <td>235.1</td>\n",
       "      <td>102.7</td>\n",
       "      <td>184.3</td>\n",
       "      <td>NaN</td>\n",
       "      <td>NaN</td>\n",
       "      <td>NaN</td>\n",
       "      <td>NaN</td>\n",
       "    </tr>\n",
       "    <tr>\n",
       "      <th>29</th>\n",
       "      <td>TOTAL PASIVOS</td>\n",
       "      <td>537.4</td>\n",
       "      <td>590.7</td>\n",
       "      <td>555.7</td>\n",
       "      <td>513.4</td>\n",
       "      <td>612.6</td>\n",
       "      <td>NaN</td>\n",
       "      <td>NaN</td>\n",
       "      <td>NaN</td>\n",
       "      <td>NaN</td>\n",
       "    </tr>\n",
       "    <tr>\n",
       "      <th>30</th>\n",
       "      <td>Patrimonio neto</td>\n",
       "      <td>459.6</td>\n",
       "      <td>456.8</td>\n",
       "      <td>445.9</td>\n",
       "      <td>468.8</td>\n",
       "      <td>350.6</td>\n",
       "      <td>NaN</td>\n",
       "      <td>NaN</td>\n",
       "      <td>NaN</td>\n",
       "      <td>NaN</td>\n",
       "    </tr>\n",
       "    <tr>\n",
       "      <th>31</th>\n",
       "      <td>Aportes de capital por acciones</td>\n",
       "      <td>1.1</td>\n",
       "      <td>0.7</td>\n",
       "      <td>0.7</td>\n",
       "      <td>0.8</td>\n",
       "      <td>0.3</td>\n",
       "      <td>NaN</td>\n",
       "      <td>NaN</td>\n",
       "      <td>NaN</td>\n",
       "      <td>NaN</td>\n",
       "    </tr>\n",
       "    <tr>\n",
       "      <th>32</th>\n",
       "      <td>TOTAL PATRIMONIO</td>\n",
       "      <td>460.7</td>\n",
       "      <td>457.5</td>\n",
       "      <td>446.6</td>\n",
       "      <td>469.6</td>\n",
       "      <td>350.9</td>\n",
       "      <td>NaN</td>\n",
       "      <td>NaN</td>\n",
       "      <td>NaN</td>\n",
       "      <td>NaN</td>\n",
       "    </tr>\n",
       "    <tr>\n",
       "      <th>33</th>\n",
       "      <td>TOTAL PATRIMONIO Y PASIVOS</td>\n",
       "      <td>998.1</td>\n",
       "      <td>1048.2</td>\n",
       "      <td>1002.3</td>\n",
       "      <td>983.0</td>\n",
       "      <td>963.5</td>\n",
       "      <td>NaN</td>\n",
       "      <td>NaN</td>\n",
       "      <td>NaN</td>\n",
       "      <td>NaN</td>\n",
       "    </tr>\n",
       "    <tr>\n",
       "      <th>34</th>\n",
       "      <td>Capital de trabajo neto (activos corrientes- p...</td>\n",
       "      <td>348.9</td>\n",
       "      <td>275.0</td>\n",
       "      <td>257.2</td>\n",
       "      <td>156.5</td>\n",
       "      <td>127.4</td>\n",
       "      <td>-1.4</td>\n",
       "      <td>2015 Non-Cash WC 2015</td>\n",
       "      <td>NaN</td>\n",
       "      <td>cantidad de dinero que una empresa necesita pa...</td>\n",
       "    </tr>\n",
       "    <tr>\n",
       "      <th>35</th>\n",
       "      <td>Variaciones en el capital de trabajo</td>\n",
       "      <td>0.0</td>\n",
       "      <td>-73.9</td>\n",
       "      <td>-17.8</td>\n",
       "      <td>-100.7</td>\n",
       "      <td>-29.1</td>\n",
       "      <td>NaN</td>\n",
       "      <td>NaN</td>\n",
       "      <td>NaN</td>\n",
       "      <td>NaN</td>\n",
       "    </tr>\n",
       "    <tr>\n",
       "      <th>36</th>\n",
       "      <td>Capital de trabajo no monetario</td>\n",
       "      <td>-16.7</td>\n",
       "      <td>31.7</td>\n",
       "      <td>1.0</td>\n",
       "      <td>-127.6</td>\n",
       "      <td>-154.9</td>\n",
       "      <td>NaN</td>\n",
       "      <td>NaN</td>\n",
       "      <td>NaN</td>\n",
       "      <td>NaN</td>\n",
       "    </tr>\n",
       "    <tr>\n",
       "      <th>37</th>\n",
       "      <td>Cambios en el capital de trabajo no monetario</td>\n",
       "      <td>-15.3</td>\n",
       "      <td>48.4</td>\n",
       "      <td>-30.7</td>\n",
       "      <td>-128.6</td>\n",
       "      <td>-27.3</td>\n",
       "      <td>NaN</td>\n",
       "      <td>NaN</td>\n",
       "      <td>NaN</td>\n",
       "      <td>NaN</td>\n",
       "    </tr>\n",
       "  </tbody>\n",
       "</table>\n",
       "</div>"
      ],
      "text/plain": [
       "              BALANCE GENERAL (Expresado en millones)   2016    2017    2018  \\\n",
       "0                                       Caja y bancos  365.6   243.3   256.2   \n",
       "1                              Cuentas por cobrar C/P    7.0     1.1     0.9   \n",
       "2                                  Cuentas por cobrar   59.4    88.3    80.2   \n",
       "3                           Otras cuentas por cobrar    47.1    62.1    43.7   \n",
       "4                                              RE-IVA    0.0     0.0     0.0   \n",
       "5                                         Inventarios  163.2   192.4   186.6   \n",
       "6                    Activos mantenidos para la venta   11.5    11.0    10.2   \n",
       "7                            TOTAL ACTIVOS CORRIENTES  653.8   598.2   577.8   \n",
       "8                                       Activos Fijos  237.2   232.6   212.8   \n",
       "9            Activos intangibles y fondos de comercio   10.1   107.8    98.0   \n",
       "10                            Inversiores Permanentes    3.0     4.0    15.9   \n",
       "11                    Activos por impuestos diferidos   62.7    62.0    62.7   \n",
       "12               Activos para beneficios a empleados.   16.2    29.2    26.4   \n",
       "13                        Otros activos no corrientes   15.1    14.4     8.7   \n",
       "14                        TOTAL ACTIVOS NO CORRIENTES  344.3   450.0   424.5   \n",
       "15                                      TOTAL ACTIVOS  998.1  1048.2  1002.3   \n",
       "16                                  Cuentas por pagar   79.4    88.2    96.3   \n",
       "17                              Anticipos de Clientes   86.7    77.9    58.6   \n",
       "18                            Otras cuentas por pagar   96.7   105.4   114.1   \n",
       "19                           Obligaciones financieras    9.1     7.3     0.2   \n",
       "20                                Impuestos por pagar    6.5    11.5     5.3   \n",
       "21                                  Gastos Corrientes   26.5    32.9    46.1   \n",
       "22                           TOTAL PASIVOS CORRIENTES  304.9   323.2   320.6   \n",
       "23                              Cuentas por pagar L/P  100.0   106.6   106.7   \n",
       "24             Provisiones por beneficios a empleados   25.9    28.6    30.2   \n",
       "25                      Pasivos por impuesto diferido   34.4    45.0    40.5   \n",
       "26                        Otros pasivos no corrientes    1.0     0.4     0.0   \n",
       "27                              Gastos corrientes L/P   71.2    86.9    57.7   \n",
       "28                        TOTAL PASIVOS NO CORRIENTES  232.5   267.5   235.1   \n",
       "29                                      TOTAL PASIVOS  537.4   590.7   555.7   \n",
       "30                                    Patrimonio neto  459.6   456.8   445.9   \n",
       "31                    Aportes de capital por acciones    1.1     0.7     0.7   \n",
       "32                                   TOTAL PATRIMONIO  460.7   457.5   446.6   \n",
       "33                         TOTAL PATRIMONIO Y PASIVOS  998.1  1048.2  1002.3   \n",
       "34  Capital de trabajo neto (activos corrientes- p...  348.9   275.0   257.2   \n",
       "35               Variaciones en el capital de trabajo    0.0   -73.9   -17.8   \n",
       "36                    Capital de trabajo no monetario  -16.7    31.7     1.0   \n",
       "37      Cambios en el capital de trabajo no monetario  -15.3    48.4   -30.7   \n",
       "\n",
       "     2019   2020  Unnamed: 6             Unnamed: 7  Unnamed: 8  \\\n",
       "0   284.1  282.3         NaN                    NaN         NaN   \n",
       "1     0.9    0.9         NaN                    NaN         NaN   \n",
       "2    68.2   50.4         NaN                    NaN         NaN   \n",
       "3    24.2   26.1         NaN                    NaN         NaN   \n",
       "4     6.9    3.5         NaN                    NaN         NaN   \n",
       "5   182.9  192.5         NaN                    NaN         NaN   \n",
       "6     0.0    0.0         NaN                    NaN         NaN   \n",
       "7   567.2  555.7         NaN                    NaN         NaN   \n",
       "8   209.7  210.6         NaN                    NaN         NaN   \n",
       "9    93.6   89.5         NaN                    NaN         NaN   \n",
       "10   16.2   15.8         NaN                    NaN         NaN   \n",
       "11   62.7   62.7         NaN                    NaN         NaN   \n",
       "12   24.1   22.1         NaN                    NaN         NaN   \n",
       "13    9.5    7.1         NaN                    NaN         NaN   \n",
       "14  415.8  407.8         NaN                    NaN         NaN   \n",
       "15  983.0  963.5         NaN                    NaN         NaN   \n",
       "16   68.9   47.7         NaN                    NaN         NaN   \n",
       "17   69.3   95.5         NaN                    NaN         NaN   \n",
       "18   85.2   78.8         NaN                    NaN         NaN   \n",
       "19  121.0  151.4         NaN                    NaN         NaN   \n",
       "20   38.0   24.9         NaN                    NaN         NaN   \n",
       "21   28.3   30.0         NaN                    NaN         NaN   \n",
       "22  410.7  428.3         NaN                    NaN         NaN   \n",
       "23    1.9   90.5         NaN                    NaN         NaN   \n",
       "24   33.2   32.3         NaN                    NaN         NaN   \n",
       "25   34.6   31.1         NaN                    NaN         NaN   \n",
       "26    0.1    0.1         NaN                    NaN         NaN   \n",
       "27   32.9   30.3         NaN                    NaN         NaN   \n",
       "28  102.7  184.3         NaN                    NaN         NaN   \n",
       "29  513.4  612.6         NaN                    NaN         NaN   \n",
       "30  468.8  350.6         NaN                    NaN         NaN   \n",
       "31    0.8    0.3         NaN                    NaN         NaN   \n",
       "32  469.6  350.9         NaN                    NaN         NaN   \n",
       "33  983.0  963.5         NaN                    NaN         NaN   \n",
       "34  156.5  127.4        -1.4  2015 Non-Cash WC 2015         NaN   \n",
       "35 -100.7  -29.1         NaN                    NaN         NaN   \n",
       "36 -127.6 -154.9         NaN                    NaN         NaN   \n",
       "37 -128.6  -27.3         NaN                    NaN         NaN   \n",
       "\n",
       "                                           Unnamed: 9  \n",
       "0                                                 NaN  \n",
       "1                                                 NaN  \n",
       "2                                                 NaN  \n",
       "3                                                 NaN  \n",
       "4                                                 NaN  \n",
       "5                                                 NaN  \n",
       "6                                                 NaN  \n",
       "7                                                 NaN  \n",
       "8                                                 NaN  \n",
       "9                                                 NaN  \n",
       "10                                                NaN  \n",
       "11                                                NaN  \n",
       "12                                                NaN  \n",
       "13                                                NaN  \n",
       "14                                                NaN  \n",
       "15                                                NaN  \n",
       "16                                                NaN  \n",
       "17                                                NaN  \n",
       "18                                                NaN  \n",
       "19                                                NaN  \n",
       "20                                                NaN  \n",
       "21                                                NaN  \n",
       "22                                                NaN  \n",
       "23                                                NaN  \n",
       "24                                                NaN  \n",
       "25                                                NaN  \n",
       "26                                                NaN  \n",
       "27                                                NaN  \n",
       "28                                                NaN  \n",
       "29                                                NaN  \n",
       "30                                                NaN  \n",
       "31                                                NaN  \n",
       "32                                                NaN  \n",
       "33                                                NaN  \n",
       "34  cantidad de dinero que una empresa necesita pa...  \n",
       "35                                                NaN  \n",
       "36                                                NaN  \n",
       "37                                                NaN  "
      ]
     },
     "execution_count": 7,
     "metadata": {},
     "output_type": "execute_result"
    }
   ],
   "source": [
    "balance_sheet=pd.read_excel(\"balance-general-trad-2020-2016.xlsx\")\n",
    "balance_sheet"
   ]
  },
  {
   "cell_type": "code",
   "execution_count": 8,
   "id": "0f98a70a-b8bb-478d-bc1b-176f36e15d36",
   "metadata": {},
   "outputs": [],
   "source": [
    "balance_sheet_fin=balance_sheet.fillna('-')"
   ]
  },
  {
   "cell_type": "code",
   "execution_count": 9,
   "id": "32ed45db-21af-49f7-9238-5b50c94c0d03",
   "metadata": {},
   "outputs": [
    {
     "data": {
      "text/html": [
       "<div>\n",
       "<style scoped>\n",
       "    .dataframe tbody tr th:only-of-type {\n",
       "        vertical-align: middle;\n",
       "    }\n",
       "\n",
       "    .dataframe tbody tr th {\n",
       "        vertical-align: top;\n",
       "    }\n",
       "\n",
       "    .dataframe thead th {\n",
       "        text-align: right;\n",
       "    }\n",
       "</style>\n",
       "<table border=\"1\" class=\"dataframe\">\n",
       "  <thead>\n",
       "    <tr style=\"text-align: right;\">\n",
       "      <th></th>\n",
       "      <th>BALANCE GENERAL (Expresado en millones)</th>\n",
       "      <th>2016</th>\n",
       "      <th>2017</th>\n",
       "      <th>2018</th>\n",
       "      <th>2019</th>\n",
       "      <th>2020</th>\n",
       "      <th>Unnamed: 6</th>\n",
       "      <th>Unnamed: 7</th>\n",
       "      <th>Unnamed: 8</th>\n",
       "      <th>Unnamed: 9</th>\n",
       "    </tr>\n",
       "  </thead>\n",
       "  <tbody>\n",
       "    <tr>\n",
       "      <th>0</th>\n",
       "      <td>Caja y bancos</td>\n",
       "      <td>365.6</td>\n",
       "      <td>243.3</td>\n",
       "      <td>256.2</td>\n",
       "      <td>284.1</td>\n",
       "      <td>282.3</td>\n",
       "      <td>-</td>\n",
       "      <td>-</td>\n",
       "      <td>-</td>\n",
       "      <td>-</td>\n",
       "    </tr>\n",
       "    <tr>\n",
       "      <th>1</th>\n",
       "      <td>Cuentas por cobrar C/P</td>\n",
       "      <td>7.0</td>\n",
       "      <td>1.1</td>\n",
       "      <td>0.9</td>\n",
       "      <td>0.9</td>\n",
       "      <td>0.9</td>\n",
       "      <td>-</td>\n",
       "      <td>-</td>\n",
       "      <td>-</td>\n",
       "      <td>-</td>\n",
       "    </tr>\n",
       "    <tr>\n",
       "      <th>2</th>\n",
       "      <td>Cuentas por cobrar</td>\n",
       "      <td>59.4</td>\n",
       "      <td>88.3</td>\n",
       "      <td>80.2</td>\n",
       "      <td>68.2</td>\n",
       "      <td>50.4</td>\n",
       "      <td>-</td>\n",
       "      <td>-</td>\n",
       "      <td>-</td>\n",
       "      <td>-</td>\n",
       "    </tr>\n",
       "    <tr>\n",
       "      <th>3</th>\n",
       "      <td>Otras cuentas por cobrar</td>\n",
       "      <td>47.1</td>\n",
       "      <td>62.1</td>\n",
       "      <td>43.7</td>\n",
       "      <td>24.2</td>\n",
       "      <td>26.1</td>\n",
       "      <td>-</td>\n",
       "      <td>-</td>\n",
       "      <td>-</td>\n",
       "      <td>-</td>\n",
       "    </tr>\n",
       "    <tr>\n",
       "      <th>4</th>\n",
       "      <td>RE-IVA</td>\n",
       "      <td>0.0</td>\n",
       "      <td>0.0</td>\n",
       "      <td>0.0</td>\n",
       "      <td>6.9</td>\n",
       "      <td>3.5</td>\n",
       "      <td>-</td>\n",
       "      <td>-</td>\n",
       "      <td>-</td>\n",
       "      <td>-</td>\n",
       "    </tr>\n",
       "    <tr>\n",
       "      <th>5</th>\n",
       "      <td>Inventarios</td>\n",
       "      <td>163.2</td>\n",
       "      <td>192.4</td>\n",
       "      <td>186.6</td>\n",
       "      <td>182.9</td>\n",
       "      <td>192.5</td>\n",
       "      <td>-</td>\n",
       "      <td>-</td>\n",
       "      <td>-</td>\n",
       "      <td>-</td>\n",
       "    </tr>\n",
       "    <tr>\n",
       "      <th>6</th>\n",
       "      <td>Activos mantenidos para la venta</td>\n",
       "      <td>11.5</td>\n",
       "      <td>11.0</td>\n",
       "      <td>10.2</td>\n",
       "      <td>0.0</td>\n",
       "      <td>0.0</td>\n",
       "      <td>-</td>\n",
       "      <td>-</td>\n",
       "      <td>-</td>\n",
       "      <td>-</td>\n",
       "    </tr>\n",
       "    <tr>\n",
       "      <th>7</th>\n",
       "      <td>TOTAL ACTIVOS CORRIENTES</td>\n",
       "      <td>653.8</td>\n",
       "      <td>598.2</td>\n",
       "      <td>577.8</td>\n",
       "      <td>567.2</td>\n",
       "      <td>555.7</td>\n",
       "      <td>-</td>\n",
       "      <td>-</td>\n",
       "      <td>-</td>\n",
       "      <td>-</td>\n",
       "    </tr>\n",
       "    <tr>\n",
       "      <th>8</th>\n",
       "      <td>Activos Fijos</td>\n",
       "      <td>237.2</td>\n",
       "      <td>232.6</td>\n",
       "      <td>212.8</td>\n",
       "      <td>209.7</td>\n",
       "      <td>210.6</td>\n",
       "      <td>-</td>\n",
       "      <td>-</td>\n",
       "      <td>-</td>\n",
       "      <td>-</td>\n",
       "    </tr>\n",
       "    <tr>\n",
       "      <th>9</th>\n",
       "      <td>Activos intangibles y fondos de comercio</td>\n",
       "      <td>10.1</td>\n",
       "      <td>107.8</td>\n",
       "      <td>98.0</td>\n",
       "      <td>93.6</td>\n",
       "      <td>89.5</td>\n",
       "      <td>-</td>\n",
       "      <td>-</td>\n",
       "      <td>-</td>\n",
       "      <td>-</td>\n",
       "    </tr>\n",
       "    <tr>\n",
       "      <th>10</th>\n",
       "      <td>Inversiores Permanentes</td>\n",
       "      <td>3.0</td>\n",
       "      <td>4.0</td>\n",
       "      <td>15.9</td>\n",
       "      <td>16.2</td>\n",
       "      <td>15.8</td>\n",
       "      <td>-</td>\n",
       "      <td>-</td>\n",
       "      <td>-</td>\n",
       "      <td>-</td>\n",
       "    </tr>\n",
       "    <tr>\n",
       "      <th>11</th>\n",
       "      <td>Activos por impuestos diferidos</td>\n",
       "      <td>62.7</td>\n",
       "      <td>62.0</td>\n",
       "      <td>62.7</td>\n",
       "      <td>62.7</td>\n",
       "      <td>62.7</td>\n",
       "      <td>-</td>\n",
       "      <td>-</td>\n",
       "      <td>-</td>\n",
       "      <td>-</td>\n",
       "    </tr>\n",
       "    <tr>\n",
       "      <th>12</th>\n",
       "      <td>Activos para beneficios a empleados.</td>\n",
       "      <td>16.2</td>\n",
       "      <td>29.2</td>\n",
       "      <td>26.4</td>\n",
       "      <td>24.1</td>\n",
       "      <td>22.1</td>\n",
       "      <td>-</td>\n",
       "      <td>-</td>\n",
       "      <td>-</td>\n",
       "      <td>-</td>\n",
       "    </tr>\n",
       "    <tr>\n",
       "      <th>13</th>\n",
       "      <td>Otros activos no corrientes</td>\n",
       "      <td>15.1</td>\n",
       "      <td>14.4</td>\n",
       "      <td>8.7</td>\n",
       "      <td>9.5</td>\n",
       "      <td>7.1</td>\n",
       "      <td>-</td>\n",
       "      <td>-</td>\n",
       "      <td>-</td>\n",
       "      <td>-</td>\n",
       "    </tr>\n",
       "    <tr>\n",
       "      <th>14</th>\n",
       "      <td>TOTAL ACTIVOS NO CORRIENTES</td>\n",
       "      <td>344.3</td>\n",
       "      <td>450.0</td>\n",
       "      <td>424.5</td>\n",
       "      <td>415.8</td>\n",
       "      <td>407.8</td>\n",
       "      <td>-</td>\n",
       "      <td>-</td>\n",
       "      <td>-</td>\n",
       "      <td>-</td>\n",
       "    </tr>\n",
       "    <tr>\n",
       "      <th>15</th>\n",
       "      <td>TOTAL ACTIVOS</td>\n",
       "      <td>998.1</td>\n",
       "      <td>1048.2</td>\n",
       "      <td>1002.3</td>\n",
       "      <td>983.0</td>\n",
       "      <td>963.5</td>\n",
       "      <td>-</td>\n",
       "      <td>-</td>\n",
       "      <td>-</td>\n",
       "      <td>-</td>\n",
       "    </tr>\n",
       "    <tr>\n",
       "      <th>16</th>\n",
       "      <td>Cuentas por pagar</td>\n",
       "      <td>79.4</td>\n",
       "      <td>88.2</td>\n",
       "      <td>96.3</td>\n",
       "      <td>68.9</td>\n",
       "      <td>47.7</td>\n",
       "      <td>-</td>\n",
       "      <td>-</td>\n",
       "      <td>-</td>\n",
       "      <td>-</td>\n",
       "    </tr>\n",
       "    <tr>\n",
       "      <th>17</th>\n",
       "      <td>Anticipos de Clientes</td>\n",
       "      <td>86.7</td>\n",
       "      <td>77.9</td>\n",
       "      <td>58.6</td>\n",
       "      <td>69.3</td>\n",
       "      <td>95.5</td>\n",
       "      <td>-</td>\n",
       "      <td>-</td>\n",
       "      <td>-</td>\n",
       "      <td>-</td>\n",
       "    </tr>\n",
       "    <tr>\n",
       "      <th>18</th>\n",
       "      <td>Otras cuentas por pagar</td>\n",
       "      <td>96.7</td>\n",
       "      <td>105.4</td>\n",
       "      <td>114.1</td>\n",
       "      <td>85.2</td>\n",
       "      <td>78.8</td>\n",
       "      <td>-</td>\n",
       "      <td>-</td>\n",
       "      <td>-</td>\n",
       "      <td>-</td>\n",
       "    </tr>\n",
       "    <tr>\n",
       "      <th>19</th>\n",
       "      <td>Obligaciones financieras</td>\n",
       "      <td>9.1</td>\n",
       "      <td>7.3</td>\n",
       "      <td>0.2</td>\n",
       "      <td>121.0</td>\n",
       "      <td>151.4</td>\n",
       "      <td>-</td>\n",
       "      <td>-</td>\n",
       "      <td>-</td>\n",
       "      <td>-</td>\n",
       "    </tr>\n",
       "    <tr>\n",
       "      <th>20</th>\n",
       "      <td>Impuestos por pagar</td>\n",
       "      <td>6.5</td>\n",
       "      <td>11.5</td>\n",
       "      <td>5.3</td>\n",
       "      <td>38.0</td>\n",
       "      <td>24.9</td>\n",
       "      <td>-</td>\n",
       "      <td>-</td>\n",
       "      <td>-</td>\n",
       "      <td>-</td>\n",
       "    </tr>\n",
       "    <tr>\n",
       "      <th>21</th>\n",
       "      <td>Gastos Corrientes</td>\n",
       "      <td>26.5</td>\n",
       "      <td>32.9</td>\n",
       "      <td>46.1</td>\n",
       "      <td>28.3</td>\n",
       "      <td>30.0</td>\n",
       "      <td>-</td>\n",
       "      <td>-</td>\n",
       "      <td>-</td>\n",
       "      <td>-</td>\n",
       "    </tr>\n",
       "    <tr>\n",
       "      <th>22</th>\n",
       "      <td>TOTAL PASIVOS CORRIENTES</td>\n",
       "      <td>304.9</td>\n",
       "      <td>323.2</td>\n",
       "      <td>320.6</td>\n",
       "      <td>410.7</td>\n",
       "      <td>428.3</td>\n",
       "      <td>-</td>\n",
       "      <td>-</td>\n",
       "      <td>-</td>\n",
       "      <td>-</td>\n",
       "    </tr>\n",
       "    <tr>\n",
       "      <th>23</th>\n",
       "      <td>Cuentas por pagar L/P</td>\n",
       "      <td>100.0</td>\n",
       "      <td>106.6</td>\n",
       "      <td>106.7</td>\n",
       "      <td>1.9</td>\n",
       "      <td>90.5</td>\n",
       "      <td>-</td>\n",
       "      <td>-</td>\n",
       "      <td>-</td>\n",
       "      <td>-</td>\n",
       "    </tr>\n",
       "    <tr>\n",
       "      <th>24</th>\n",
       "      <td>Provisiones por beneficios a empleados</td>\n",
       "      <td>25.9</td>\n",
       "      <td>28.6</td>\n",
       "      <td>30.2</td>\n",
       "      <td>33.2</td>\n",
       "      <td>32.3</td>\n",
       "      <td>-</td>\n",
       "      <td>-</td>\n",
       "      <td>-</td>\n",
       "      <td>-</td>\n",
       "    </tr>\n",
       "    <tr>\n",
       "      <th>25</th>\n",
       "      <td>Pasivos por impuesto diferido</td>\n",
       "      <td>34.4</td>\n",
       "      <td>45.0</td>\n",
       "      <td>40.5</td>\n",
       "      <td>34.6</td>\n",
       "      <td>31.1</td>\n",
       "      <td>-</td>\n",
       "      <td>-</td>\n",
       "      <td>-</td>\n",
       "      <td>-</td>\n",
       "    </tr>\n",
       "    <tr>\n",
       "      <th>26</th>\n",
       "      <td>Otros pasivos no corrientes</td>\n",
       "      <td>1.0</td>\n",
       "      <td>0.4</td>\n",
       "      <td>0.0</td>\n",
       "      <td>0.1</td>\n",
       "      <td>0.1</td>\n",
       "      <td>-</td>\n",
       "      <td>-</td>\n",
       "      <td>-</td>\n",
       "      <td>-</td>\n",
       "    </tr>\n",
       "    <tr>\n",
       "      <th>27</th>\n",
       "      <td>Gastos corrientes L/P</td>\n",
       "      <td>71.2</td>\n",
       "      <td>86.9</td>\n",
       "      <td>57.7</td>\n",
       "      <td>32.9</td>\n",
       "      <td>30.3</td>\n",
       "      <td>-</td>\n",
       "      <td>-</td>\n",
       "      <td>-</td>\n",
       "      <td>-</td>\n",
       "    </tr>\n",
       "    <tr>\n",
       "      <th>28</th>\n",
       "      <td>TOTAL PASIVOS NO CORRIENTES</td>\n",
       "      <td>232.5</td>\n",
       "      <td>267.5</td>\n",
       "      <td>235.1</td>\n",
       "      <td>102.7</td>\n",
       "      <td>184.3</td>\n",
       "      <td>-</td>\n",
       "      <td>-</td>\n",
       "      <td>-</td>\n",
       "      <td>-</td>\n",
       "    </tr>\n",
       "    <tr>\n",
       "      <th>29</th>\n",
       "      <td>TOTAL PASIVOS</td>\n",
       "      <td>537.4</td>\n",
       "      <td>590.7</td>\n",
       "      <td>555.7</td>\n",
       "      <td>513.4</td>\n",
       "      <td>612.6</td>\n",
       "      <td>-</td>\n",
       "      <td>-</td>\n",
       "      <td>-</td>\n",
       "      <td>-</td>\n",
       "    </tr>\n",
       "    <tr>\n",
       "      <th>30</th>\n",
       "      <td>Patrimonio neto</td>\n",
       "      <td>459.6</td>\n",
       "      <td>456.8</td>\n",
       "      <td>445.9</td>\n",
       "      <td>468.8</td>\n",
       "      <td>350.6</td>\n",
       "      <td>-</td>\n",
       "      <td>-</td>\n",
       "      <td>-</td>\n",
       "      <td>-</td>\n",
       "    </tr>\n",
       "    <tr>\n",
       "      <th>31</th>\n",
       "      <td>Aportes de capital por acciones</td>\n",
       "      <td>1.1</td>\n",
       "      <td>0.7</td>\n",
       "      <td>0.7</td>\n",
       "      <td>0.8</td>\n",
       "      <td>0.3</td>\n",
       "      <td>-</td>\n",
       "      <td>-</td>\n",
       "      <td>-</td>\n",
       "      <td>-</td>\n",
       "    </tr>\n",
       "    <tr>\n",
       "      <th>32</th>\n",
       "      <td>TOTAL PATRIMONIO</td>\n",
       "      <td>460.7</td>\n",
       "      <td>457.5</td>\n",
       "      <td>446.6</td>\n",
       "      <td>469.6</td>\n",
       "      <td>350.9</td>\n",
       "      <td>-</td>\n",
       "      <td>-</td>\n",
       "      <td>-</td>\n",
       "      <td>-</td>\n",
       "    </tr>\n",
       "    <tr>\n",
       "      <th>33</th>\n",
       "      <td>TOTAL PATRIMONIO Y PASIVOS</td>\n",
       "      <td>998.1</td>\n",
       "      <td>1048.2</td>\n",
       "      <td>1002.3</td>\n",
       "      <td>983.0</td>\n",
       "      <td>963.5</td>\n",
       "      <td>-</td>\n",
       "      <td>-</td>\n",
       "      <td>-</td>\n",
       "      <td>-</td>\n",
       "    </tr>\n",
       "    <tr>\n",
       "      <th>34</th>\n",
       "      <td>Capital de trabajo neto (activos corrientes- p...</td>\n",
       "      <td>348.9</td>\n",
       "      <td>275.0</td>\n",
       "      <td>257.2</td>\n",
       "      <td>156.5</td>\n",
       "      <td>127.4</td>\n",
       "      <td>-1.4</td>\n",
       "      <td>2015 Non-Cash WC 2015</td>\n",
       "      <td>-</td>\n",
       "      <td>cantidad de dinero que una empresa necesita pa...</td>\n",
       "    </tr>\n",
       "    <tr>\n",
       "      <th>35</th>\n",
       "      <td>Variaciones en el capital de trabajo</td>\n",
       "      <td>0.0</td>\n",
       "      <td>-73.9</td>\n",
       "      <td>-17.8</td>\n",
       "      <td>-100.7</td>\n",
       "      <td>-29.1</td>\n",
       "      <td>-</td>\n",
       "      <td>-</td>\n",
       "      <td>-</td>\n",
       "      <td>-</td>\n",
       "    </tr>\n",
       "    <tr>\n",
       "      <th>36</th>\n",
       "      <td>Capital de trabajo no monetario</td>\n",
       "      <td>-16.7</td>\n",
       "      <td>31.7</td>\n",
       "      <td>1.0</td>\n",
       "      <td>-127.6</td>\n",
       "      <td>-154.9</td>\n",
       "      <td>-</td>\n",
       "      <td>-</td>\n",
       "      <td>-</td>\n",
       "      <td>-</td>\n",
       "    </tr>\n",
       "    <tr>\n",
       "      <th>37</th>\n",
       "      <td>Cambios en el capital de trabajo no monetario</td>\n",
       "      <td>-15.3</td>\n",
       "      <td>48.4</td>\n",
       "      <td>-30.7</td>\n",
       "      <td>-128.6</td>\n",
       "      <td>-27.3</td>\n",
       "      <td>-</td>\n",
       "      <td>-</td>\n",
       "      <td>-</td>\n",
       "      <td>-</td>\n",
       "    </tr>\n",
       "  </tbody>\n",
       "</table>\n",
       "</div>"
      ],
      "text/plain": [
       "              BALANCE GENERAL (Expresado en millones)   2016    2017    2018  \\\n",
       "0                                       Caja y bancos  365.6   243.3   256.2   \n",
       "1                              Cuentas por cobrar C/P    7.0     1.1     0.9   \n",
       "2                                  Cuentas por cobrar   59.4    88.3    80.2   \n",
       "3                           Otras cuentas por cobrar    47.1    62.1    43.7   \n",
       "4                                              RE-IVA    0.0     0.0     0.0   \n",
       "5                                         Inventarios  163.2   192.4   186.6   \n",
       "6                    Activos mantenidos para la venta   11.5    11.0    10.2   \n",
       "7                            TOTAL ACTIVOS CORRIENTES  653.8   598.2   577.8   \n",
       "8                                       Activos Fijos  237.2   232.6   212.8   \n",
       "9            Activos intangibles y fondos de comercio   10.1   107.8    98.0   \n",
       "10                            Inversiores Permanentes    3.0     4.0    15.9   \n",
       "11                    Activos por impuestos diferidos   62.7    62.0    62.7   \n",
       "12               Activos para beneficios a empleados.   16.2    29.2    26.4   \n",
       "13                        Otros activos no corrientes   15.1    14.4     8.7   \n",
       "14                        TOTAL ACTIVOS NO CORRIENTES  344.3   450.0   424.5   \n",
       "15                                      TOTAL ACTIVOS  998.1  1048.2  1002.3   \n",
       "16                                  Cuentas por pagar   79.4    88.2    96.3   \n",
       "17                              Anticipos de Clientes   86.7    77.9    58.6   \n",
       "18                            Otras cuentas por pagar   96.7   105.4   114.1   \n",
       "19                           Obligaciones financieras    9.1     7.3     0.2   \n",
       "20                                Impuestos por pagar    6.5    11.5     5.3   \n",
       "21                                  Gastos Corrientes   26.5    32.9    46.1   \n",
       "22                           TOTAL PASIVOS CORRIENTES  304.9   323.2   320.6   \n",
       "23                              Cuentas por pagar L/P  100.0   106.6   106.7   \n",
       "24             Provisiones por beneficios a empleados   25.9    28.6    30.2   \n",
       "25                      Pasivos por impuesto diferido   34.4    45.0    40.5   \n",
       "26                        Otros pasivos no corrientes    1.0     0.4     0.0   \n",
       "27                              Gastos corrientes L/P   71.2    86.9    57.7   \n",
       "28                        TOTAL PASIVOS NO CORRIENTES  232.5   267.5   235.1   \n",
       "29                                      TOTAL PASIVOS  537.4   590.7   555.7   \n",
       "30                                    Patrimonio neto  459.6   456.8   445.9   \n",
       "31                    Aportes de capital por acciones    1.1     0.7     0.7   \n",
       "32                                   TOTAL PATRIMONIO  460.7   457.5   446.6   \n",
       "33                         TOTAL PATRIMONIO Y PASIVOS  998.1  1048.2  1002.3   \n",
       "34  Capital de trabajo neto (activos corrientes- p...  348.9   275.0   257.2   \n",
       "35               Variaciones en el capital de trabajo    0.0   -73.9   -17.8   \n",
       "36                    Capital de trabajo no monetario  -16.7    31.7     1.0   \n",
       "37      Cambios en el capital de trabajo no monetario  -15.3    48.4   -30.7   \n",
       "\n",
       "     2019   2020 Unnamed: 6             Unnamed: 7 Unnamed: 8  \\\n",
       "0   284.1  282.3          -                      -          -   \n",
       "1     0.9    0.9          -                      -          -   \n",
       "2    68.2   50.4          -                      -          -   \n",
       "3    24.2   26.1          -                      -          -   \n",
       "4     6.9    3.5          -                      -          -   \n",
       "5   182.9  192.5          -                      -          -   \n",
       "6     0.0    0.0          -                      -          -   \n",
       "7   567.2  555.7          -                      -          -   \n",
       "8   209.7  210.6          -                      -          -   \n",
       "9    93.6   89.5          -                      -          -   \n",
       "10   16.2   15.8          -                      -          -   \n",
       "11   62.7   62.7          -                      -          -   \n",
       "12   24.1   22.1          -                      -          -   \n",
       "13    9.5    7.1          -                      -          -   \n",
       "14  415.8  407.8          -                      -          -   \n",
       "15  983.0  963.5          -                      -          -   \n",
       "16   68.9   47.7          -                      -          -   \n",
       "17   69.3   95.5          -                      -          -   \n",
       "18   85.2   78.8          -                      -          -   \n",
       "19  121.0  151.4          -                      -          -   \n",
       "20   38.0   24.9          -                      -          -   \n",
       "21   28.3   30.0          -                      -          -   \n",
       "22  410.7  428.3          -                      -          -   \n",
       "23    1.9   90.5          -                      -          -   \n",
       "24   33.2   32.3          -                      -          -   \n",
       "25   34.6   31.1          -                      -          -   \n",
       "26    0.1    0.1          -                      -          -   \n",
       "27   32.9   30.3          -                      -          -   \n",
       "28  102.7  184.3          -                      -          -   \n",
       "29  513.4  612.6          -                      -          -   \n",
       "30  468.8  350.6          -                      -          -   \n",
       "31    0.8    0.3          -                      -          -   \n",
       "32  469.6  350.9          -                      -          -   \n",
       "33  983.0  963.5          -                      -          -   \n",
       "34  156.5  127.4       -1.4  2015 Non-Cash WC 2015          -   \n",
       "35 -100.7  -29.1          -                      -          -   \n",
       "36 -127.6 -154.9          -                      -          -   \n",
       "37 -128.6  -27.3          -                      -          -   \n",
       "\n",
       "                                           Unnamed: 9  \n",
       "0                                                   -  \n",
       "1                                                   -  \n",
       "2                                                   -  \n",
       "3                                                   -  \n",
       "4                                                   -  \n",
       "5                                                   -  \n",
       "6                                                   -  \n",
       "7                                                   -  \n",
       "8                                                   -  \n",
       "9                                                   -  \n",
       "10                                                  -  \n",
       "11                                                  -  \n",
       "12                                                  -  \n",
       "13                                                  -  \n",
       "14                                                  -  \n",
       "15                                                  -  \n",
       "16                                                  -  \n",
       "17                                                  -  \n",
       "18                                                  -  \n",
       "19                                                  -  \n",
       "20                                                  -  \n",
       "21                                                  -  \n",
       "22                                                  -  \n",
       "23                                                  -  \n",
       "24                                                  -  \n",
       "25                                                  -  \n",
       "26                                                  -  \n",
       "27                                                  -  \n",
       "28                                                  -  \n",
       "29                                                  -  \n",
       "30                                                  -  \n",
       "31                                                  -  \n",
       "32                                                  -  \n",
       "33                                                  -  \n",
       "34  cantidad de dinero que una empresa necesita pa...  \n",
       "35                                                  -  \n",
       "36                                                  -  \n",
       "37                                                  -  "
      ]
     },
     "execution_count": 9,
     "metadata": {},
     "output_type": "execute_result"
    }
   ],
   "source": [
    "balance_sheet_fin #reemplaza los NaN por -"
   ]
  },
  {
   "cell_type": "code",
   "execution_count": 10,
   "id": "00845985-1ad7-448b-a061-99bdd7fd8f68",
   "metadata": {},
   "outputs": [
    {
     "data": {
      "text/plain": [
       "(38, 10)"
      ]
     },
     "execution_count": 10,
     "metadata": {},
     "output_type": "execute_result"
    }
   ],
   "source": [
    "balance_sheet.shape #muestra el tamaño"
   ]
  },
  {
   "cell_type": "code",
   "execution_count": 11,
   "id": "7123cf72-d491-499b-a705-082cac681ec2",
   "metadata": {},
   "outputs": [
    {
     "data": {
      "text/plain": [
       "BALANCE GENERAL (Expresado en millones)     object\n",
       "2016                                       float64\n",
       "2017                                       float64\n",
       "2018                                       float64\n",
       "2019                                       float64\n",
       "2020                                       float64\n",
       "Unnamed: 6                                 float64\n",
       "Unnamed: 7                                  object\n",
       "Unnamed: 8                                 float64\n",
       "Unnamed: 9                                  object\n",
       "dtype: object"
      ]
     },
     "execution_count": 11,
     "metadata": {},
     "output_type": "execute_result"
    }
   ],
   "source": [
    "balance_sheet.dtypes #muestra los tipos de datos"
   ]
  },
  {
   "cell_type": "code",
   "execution_count": 12,
   "id": "fa9001af-88b8-4688-baa4-fc590605ce76",
   "metadata": {},
   "outputs": [
    {
     "data": {
      "text/plain": [
       "Index(['BALANCE GENERAL (Expresado en millones)',\n",
       "                                            2016,\n",
       "                                            2017,\n",
       "                                            2018,\n",
       "                                            2019,\n",
       "                                            2020,\n",
       "                                    'Unnamed: 6',\n",
       "                                    'Unnamed: 7',\n",
       "                                    'Unnamed: 8',\n",
       "                                    'Unnamed: 9'],\n",
       "      dtype='object')"
      ]
     },
     "execution_count": 12,
     "metadata": {},
     "output_type": "execute_result"
    }
   ],
   "source": [
    "balance_sheet.columns"
   ]
  },
  {
   "cell_type": "markdown",
   "id": "37f82bfd-d5c9-48cf-9ff6-fd23fd7b7f88",
   "metadata": {
    "jp-MarkdownHeadingCollapsed": true
   },
   "source": [
    "##### ESTADO DE RESULTADOS"
   ]
  },
  {
   "cell_type": "code",
   "execution_count": 13,
   "id": "c0baafac-af2f-4e92-b0fe-cb50901a4211",
   "metadata": {},
   "outputs": [
    {
     "data": {
      "text/plain": [
       "['.ipynb_checkpoints',\n",
       " 'balance-general-trad-2020-2016.xlsx',\n",
       " 'Company Sales in Million CHF Data.xlsx',\n",
       " 'Consolidated-Balance-Sheet-2020-2016-en.xlsx',\n",
       " 'CONSOLIDATED_INCOME_STATEMENT_2016-2020.xlsx',\n",
       " 'Consolidated_Reports_2016-2020.xlsx',\n",
       " 'DCF_file_Statement.xlsx',\n",
       " 'DCF_Model_Monte_Carlo.xlsx',\n",
       " 'estado-de-resultados-2020-2016.xlsx',\n",
       " 'Flujo_de_caja.xlsx',\n",
       " 'MonteCarlo.ipynb',\n",
       " 'reportes-consolidados.xlsx']"
      ]
     },
     "execution_count": 13,
     "metadata": {},
     "output_type": "execute_result"
    }
   ],
   "source": [
    "os.listdir(os.getcwd())"
   ]
  },
  {
   "cell_type": "code",
   "execution_count": 14,
   "id": "9fdd0b8b-84b7-439b-a0c0-cc3076de5a08",
   "metadata": {},
   "outputs": [],
   "source": [
    "estado_de_resultados=pd.read_excel('estado-de-resultados-2020-2016.xlsx')"
   ]
  },
  {
   "cell_type": "code",
   "execution_count": 15,
   "id": "6f44eaf8-dd21-4d77-b847-a1127712143f",
   "metadata": {},
   "outputs": [
    {
     "data": {
      "text/html": [
       "<div>\n",
       "<style scoped>\n",
       "    .dataframe tbody tr th:only-of-type {\n",
       "        vertical-align: middle;\n",
       "    }\n",
       "\n",
       "    .dataframe tbody tr th {\n",
       "        vertical-align: top;\n",
       "    }\n",
       "\n",
       "    .dataframe thead th {\n",
       "        text-align: right;\n",
       "    }\n",
       "</style>\n",
       "<table border=\"1\" class=\"dataframe\">\n",
       "  <thead>\n",
       "    <tr style=\"text-align: right;\">\n",
       "      <th></th>\n",
       "      <th>ESTADO DE RESULTADOS Expresado en millones</th>\n",
       "      <th>2016</th>\n",
       "      <th>2017</th>\n",
       "      <th>2018</th>\n",
       "      <th>2019</th>\n",
       "      <th>2020</th>\n",
       "    </tr>\n",
       "  </thead>\n",
       "  <tbody>\n",
       "    <tr>\n",
       "      <th>0</th>\n",
       "      <td>Ventas</td>\n",
       "      <td>945.000000</td>\n",
       "      <td>965.600</td>\n",
       "      <td>1075.20</td>\n",
       "      <td>760.00</td>\n",
       "      <td>573.00</td>\n",
       "    </tr>\n",
       "    <tr>\n",
       "      <th>1</th>\n",
       "      <td>Costos de produccion</td>\n",
       "      <td>-699.300000</td>\n",
       "      <td>-714.544</td>\n",
       "      <td>-782.70</td>\n",
       "      <td>-549.90</td>\n",
       "      <td>-439.20</td>\n",
       "    </tr>\n",
       "    <tr>\n",
       "      <th>2</th>\n",
       "      <td>Utilidad Bruta</td>\n",
       "      <td>245.700000</td>\n",
       "      <td>251.056</td>\n",
       "      <td>292.50</td>\n",
       "      <td>210.10</td>\n",
       "      <td>133.80</td>\n",
       "    </tr>\n",
       "    <tr>\n",
       "      <th>3</th>\n",
       "      <td>Gastos de investigacion y desarrollo</td>\n",
       "      <td>0.000000</td>\n",
       "      <td>0.000</td>\n",
       "      <td>-51.90</td>\n",
       "      <td>-53.20</td>\n",
       "      <td>-52.50</td>\n",
       "    </tr>\n",
       "    <tr>\n",
       "      <th>4</th>\n",
       "      <td>Gastos administrativos</td>\n",
       "      <td>-166.900000</td>\n",
       "      <td>-196.800</td>\n",
       "      <td>-215.10</td>\n",
       "      <td>-189.10</td>\n",
       "      <td>-168.80</td>\n",
       "    </tr>\n",
       "    <tr>\n",
       "      <th>5</th>\n",
       "      <td>Otros gastos</td>\n",
       "      <td>20.800000</td>\n",
       "      <td>21.400</td>\n",
       "      <td>23.70</td>\n",
       "      <td>123.60</td>\n",
       "      <td>15.20</td>\n",
       "    </tr>\n",
       "    <tr>\n",
       "      <th>6</th>\n",
       "      <td>Otros ingresos</td>\n",
       "      <td>-43.100000</td>\n",
       "      <td>-59.860</td>\n",
       "      <td>-6.00</td>\n",
       "      <td>-6.50</td>\n",
       "      <td>-12.10</td>\n",
       "    </tr>\n",
       "    <tr>\n",
       "      <th>7</th>\n",
       "      <td>Utilidad operativa antes de impuestos (UAI)</td>\n",
       "      <td>56.500000</td>\n",
       "      <td>15.796</td>\n",
       "      <td>43.20</td>\n",
       "      <td>84.90</td>\n",
       "      <td>-84.40</td>\n",
       "    </tr>\n",
       "    <tr>\n",
       "      <th>8</th>\n",
       "      <td>Participación en utilidades de empresas asociadas</td>\n",
       "      <td>0.400000</td>\n",
       "      <td>0.700</td>\n",
       "      <td>1.40</td>\n",
       "      <td>0.90</td>\n",
       "      <td>-0.30</td>\n",
       "    </tr>\n",
       "    <tr>\n",
       "      <th>9</th>\n",
       "      <td>Ingresos financieros</td>\n",
       "      <td>3.200000</td>\n",
       "      <td>3.900</td>\n",
       "      <td>2.70</td>\n",
       "      <td>4.60</td>\n",
       "      <td>2.20</td>\n",
       "    </tr>\n",
       "    <tr>\n",
       "      <th>10</th>\n",
       "      <td>Gastos financieros</td>\n",
       "      <td>-6.300000</td>\n",
       "      <td>-4.400</td>\n",
       "      <td>-4.70</td>\n",
       "      <td>-5.00</td>\n",
       "      <td>-5.50</td>\n",
       "    </tr>\n",
       "    <tr>\n",
       "      <th>11</th>\n",
       "      <td>Utilidad antes de impuestos</td>\n",
       "      <td>53.800000</td>\n",
       "      <td>15.996</td>\n",
       "      <td>42.60</td>\n",
       "      <td>85.40</td>\n",
       "      <td>-88.00</td>\n",
       "    </tr>\n",
       "    <tr>\n",
       "      <th>12</th>\n",
       "      <td>IUE</td>\n",
       "      <td>-11.144178</td>\n",
       "      <td>-2.700</td>\n",
       "      <td>-10.60</td>\n",
       "      <td>-33.00</td>\n",
       "      <td>-1.80</td>\n",
       "    </tr>\n",
       "    <tr>\n",
       "      <th>13</th>\n",
       "      <td>Utilidad neta</td>\n",
       "      <td>42.655822</td>\n",
       "      <td>13.296</td>\n",
       "      <td>32.00</td>\n",
       "      <td>52.40</td>\n",
       "      <td>-89.80</td>\n",
       "    </tr>\n",
       "    <tr>\n",
       "      <th>14</th>\n",
       "      <td>Atrubuilble a accionistas</td>\n",
       "      <td>42.400000</td>\n",
       "      <td>31.900</td>\n",
       "      <td>31.90</td>\n",
       "      <td>52.40</td>\n",
       "      <td>-89.80</td>\n",
       "    </tr>\n",
       "    <tr>\n",
       "      <th>15</th>\n",
       "      <td>Atrubuilble a accionistas</td>\n",
       "      <td>0.300000</td>\n",
       "      <td>0.100</td>\n",
       "      <td>0.10</td>\n",
       "      <td>0.00</td>\n",
       "      <td>0.00</td>\n",
       "    </tr>\n",
       "    <tr>\n",
       "      <th>16</th>\n",
       "      <td>NaN</td>\n",
       "      <td>NaN</td>\n",
       "      <td>NaN</td>\n",
       "      <td>NaN</td>\n",
       "      <td>NaN</td>\n",
       "      <td>NaN</td>\n",
       "    </tr>\n",
       "    <tr>\n",
       "      <th>17</th>\n",
       "      <td>Ganancias basicas por accion</td>\n",
       "      <td>9.390000</td>\n",
       "      <td>7.070</td>\n",
       "      <td>7.07</td>\n",
       "      <td>11.65</td>\n",
       "      <td>-20.05</td>\n",
       "    </tr>\n",
       "    <tr>\n",
       "      <th>18</th>\n",
       "      <td>Ganancias diluidas por accion</td>\n",
       "      <td>9.380000</td>\n",
       "      <td>7.060</td>\n",
       "      <td>7.06</td>\n",
       "      <td>11.65</td>\n",
       "      <td>-20.03</td>\n",
       "    </tr>\n",
       "  </tbody>\n",
       "</table>\n",
       "</div>"
      ],
      "text/plain": [
       "           ESTADO DE RESULTADOS Expresado en millones        2016     2017  \\\n",
       "0                                              Ventas  945.000000  965.600   \n",
       "1                                Costos de produccion -699.300000 -714.544   \n",
       "2                                      Utilidad Bruta  245.700000  251.056   \n",
       "3                Gastos de investigacion y desarrollo    0.000000    0.000   \n",
       "4                              Gastos administrativos -166.900000 -196.800   \n",
       "5                                        Otros gastos   20.800000   21.400   \n",
       "6                                      Otros ingresos  -43.100000  -59.860   \n",
       "7         Utilidad operativa antes de impuestos (UAI)   56.500000   15.796   \n",
       "8   Participación en utilidades de empresas asociadas    0.400000    0.700   \n",
       "9                                Ingresos financieros    3.200000    3.900   \n",
       "10                                 Gastos financieros   -6.300000   -4.400   \n",
       "11                        Utilidad antes de impuestos   53.800000   15.996   \n",
       "12                                                IUE  -11.144178   -2.700   \n",
       "13                                      Utilidad neta   42.655822   13.296   \n",
       "14                          Atrubuilble a accionistas   42.400000   31.900   \n",
       "15                          Atrubuilble a accionistas    0.300000    0.100   \n",
       "16                                                NaN         NaN      NaN   \n",
       "17                       Ganancias basicas por accion    9.390000    7.070   \n",
       "18                      Ganancias diluidas por accion    9.380000    7.060   \n",
       "\n",
       "       2018    2019    2020  \n",
       "0   1075.20  760.00  573.00  \n",
       "1   -782.70 -549.90 -439.20  \n",
       "2    292.50  210.10  133.80  \n",
       "3    -51.90  -53.20  -52.50  \n",
       "4   -215.10 -189.10 -168.80  \n",
       "5     23.70  123.60   15.20  \n",
       "6     -6.00   -6.50  -12.10  \n",
       "7     43.20   84.90  -84.40  \n",
       "8      1.40    0.90   -0.30  \n",
       "9      2.70    4.60    2.20  \n",
       "10    -4.70   -5.00   -5.50  \n",
       "11    42.60   85.40  -88.00  \n",
       "12   -10.60  -33.00   -1.80  \n",
       "13    32.00   52.40  -89.80  \n",
       "14    31.90   52.40  -89.80  \n",
       "15     0.10    0.00    0.00  \n",
       "16      NaN     NaN     NaN  \n",
       "17     7.07   11.65  -20.05  \n",
       "18     7.06   11.65  -20.03  "
      ]
     },
     "execution_count": 15,
     "metadata": {},
     "output_type": "execute_result"
    }
   ],
   "source": [
    "estado_de_resultados"
   ]
  },
  {
   "cell_type": "code",
   "execution_count": 16,
   "id": "d5c432fc-e832-4238-b478-1e0a73f9bbac",
   "metadata": {},
   "outputs": [
    {
     "data": {
      "text/html": [
       "<div>\n",
       "<style scoped>\n",
       "    .dataframe tbody tr th:only-of-type {\n",
       "        vertical-align: middle;\n",
       "    }\n",
       "\n",
       "    .dataframe tbody tr th {\n",
       "        vertical-align: top;\n",
       "    }\n",
       "\n",
       "    .dataframe thead th {\n",
       "        text-align: right;\n",
       "    }\n",
       "</style>\n",
       "<table border=\"1\" class=\"dataframe\">\n",
       "  <thead>\n",
       "    <tr style=\"text-align: right;\">\n",
       "      <th></th>\n",
       "      <th>ESTADO DE RESULTADOS Expresado en millones</th>\n",
       "      <th>2016</th>\n",
       "      <th>2017</th>\n",
       "      <th>2018</th>\n",
       "      <th>2019</th>\n",
       "      <th>2020</th>\n",
       "    </tr>\n",
       "  </thead>\n",
       "  <tbody>\n",
       "    <tr>\n",
       "      <th>0</th>\n",
       "      <td>Ventas</td>\n",
       "      <td>945.0</td>\n",
       "      <td>965.6</td>\n",
       "      <td>1075.2</td>\n",
       "      <td>760.0</td>\n",
       "      <td>573.0</td>\n",
       "    </tr>\n",
       "    <tr>\n",
       "      <th>1</th>\n",
       "      <td>Costos de produccion</td>\n",
       "      <td>-699.3</td>\n",
       "      <td>-714.544</td>\n",
       "      <td>-782.7</td>\n",
       "      <td>-549.9</td>\n",
       "      <td>-439.2</td>\n",
       "    </tr>\n",
       "    <tr>\n",
       "      <th>2</th>\n",
       "      <td>Utilidad Bruta</td>\n",
       "      <td>245.7</td>\n",
       "      <td>251.056</td>\n",
       "      <td>292.5</td>\n",
       "      <td>210.1</td>\n",
       "      <td>133.8</td>\n",
       "    </tr>\n",
       "    <tr>\n",
       "      <th>3</th>\n",
       "      <td>Gastos de investigacion y desarrollo</td>\n",
       "      <td>0.0</td>\n",
       "      <td>0.0</td>\n",
       "      <td>-51.9</td>\n",
       "      <td>-53.2</td>\n",
       "      <td>-52.5</td>\n",
       "    </tr>\n",
       "    <tr>\n",
       "      <th>4</th>\n",
       "      <td>Gastos administrativos</td>\n",
       "      <td>-166.9</td>\n",
       "      <td>-196.8</td>\n",
       "      <td>-215.1</td>\n",
       "      <td>-189.1</td>\n",
       "      <td>-168.8</td>\n",
       "    </tr>\n",
       "    <tr>\n",
       "      <th>5</th>\n",
       "      <td>Otros gastos</td>\n",
       "      <td>20.8</td>\n",
       "      <td>21.4</td>\n",
       "      <td>23.7</td>\n",
       "      <td>123.6</td>\n",
       "      <td>15.2</td>\n",
       "    </tr>\n",
       "    <tr>\n",
       "      <th>6</th>\n",
       "      <td>Otros ingresos</td>\n",
       "      <td>-43.1</td>\n",
       "      <td>-59.86</td>\n",
       "      <td>-6.0</td>\n",
       "      <td>-6.5</td>\n",
       "      <td>-12.1</td>\n",
       "    </tr>\n",
       "    <tr>\n",
       "      <th>7</th>\n",
       "      <td>Utilidad operativa antes de impuestos (UAI)</td>\n",
       "      <td>56.5</td>\n",
       "      <td>15.796</td>\n",
       "      <td>43.2</td>\n",
       "      <td>84.9</td>\n",
       "      <td>-84.4</td>\n",
       "    </tr>\n",
       "    <tr>\n",
       "      <th>8</th>\n",
       "      <td>Participación en utilidades de empresas asociadas</td>\n",
       "      <td>0.4</td>\n",
       "      <td>0.7</td>\n",
       "      <td>1.4</td>\n",
       "      <td>0.9</td>\n",
       "      <td>-0.3</td>\n",
       "    </tr>\n",
       "    <tr>\n",
       "      <th>9</th>\n",
       "      <td>Ingresos financieros</td>\n",
       "      <td>3.2</td>\n",
       "      <td>3.9</td>\n",
       "      <td>2.7</td>\n",
       "      <td>4.6</td>\n",
       "      <td>2.2</td>\n",
       "    </tr>\n",
       "    <tr>\n",
       "      <th>10</th>\n",
       "      <td>Gastos financieros</td>\n",
       "      <td>-6.3</td>\n",
       "      <td>-4.4</td>\n",
       "      <td>-4.7</td>\n",
       "      <td>-5.0</td>\n",
       "      <td>-5.5</td>\n",
       "    </tr>\n",
       "    <tr>\n",
       "      <th>11</th>\n",
       "      <td>Utilidad antes de impuestos</td>\n",
       "      <td>53.8</td>\n",
       "      <td>15.996</td>\n",
       "      <td>42.6</td>\n",
       "      <td>85.4</td>\n",
       "      <td>-88.0</td>\n",
       "    </tr>\n",
       "    <tr>\n",
       "      <th>12</th>\n",
       "      <td>IUE</td>\n",
       "      <td>-11.144178</td>\n",
       "      <td>-2.7</td>\n",
       "      <td>-10.6</td>\n",
       "      <td>-33.0</td>\n",
       "      <td>-1.8</td>\n",
       "    </tr>\n",
       "    <tr>\n",
       "      <th>13</th>\n",
       "      <td>Utilidad neta</td>\n",
       "      <td>42.655822</td>\n",
       "      <td>13.296</td>\n",
       "      <td>32.0</td>\n",
       "      <td>52.4</td>\n",
       "      <td>-89.8</td>\n",
       "    </tr>\n",
       "    <tr>\n",
       "      <th>14</th>\n",
       "      <td>Atrubuilble a accionistas</td>\n",
       "      <td>42.4</td>\n",
       "      <td>31.9</td>\n",
       "      <td>31.9</td>\n",
       "      <td>52.4</td>\n",
       "      <td>-89.8</td>\n",
       "    </tr>\n",
       "    <tr>\n",
       "      <th>15</th>\n",
       "      <td>Atrubuilble a accionistas</td>\n",
       "      <td>0.3</td>\n",
       "      <td>0.1</td>\n",
       "      <td>0.1</td>\n",
       "      <td>0.0</td>\n",
       "      <td>0.0</td>\n",
       "    </tr>\n",
       "    <tr>\n",
       "      <th>16</th>\n",
       "      <td>-</td>\n",
       "      <td>-</td>\n",
       "      <td>-</td>\n",
       "      <td>-</td>\n",
       "      <td>-</td>\n",
       "      <td>-</td>\n",
       "    </tr>\n",
       "    <tr>\n",
       "      <th>17</th>\n",
       "      <td>Ganancias basicas por accion</td>\n",
       "      <td>9.39</td>\n",
       "      <td>7.07</td>\n",
       "      <td>7.07</td>\n",
       "      <td>11.65</td>\n",
       "      <td>-20.05</td>\n",
       "    </tr>\n",
       "    <tr>\n",
       "      <th>18</th>\n",
       "      <td>Ganancias diluidas por accion</td>\n",
       "      <td>9.38</td>\n",
       "      <td>7.06</td>\n",
       "      <td>7.06</td>\n",
       "      <td>11.65</td>\n",
       "      <td>-20.03</td>\n",
       "    </tr>\n",
       "  </tbody>\n",
       "</table>\n",
       "</div>"
      ],
      "text/plain": [
       "           ESTADO DE RESULTADOS Expresado en millones       2016     2017  \\\n",
       "0                                              Ventas      945.0    965.6   \n",
       "1                                Costos de produccion     -699.3 -714.544   \n",
       "2                                      Utilidad Bruta      245.7  251.056   \n",
       "3                Gastos de investigacion y desarrollo        0.0      0.0   \n",
       "4                              Gastos administrativos     -166.9   -196.8   \n",
       "5                                        Otros gastos       20.8     21.4   \n",
       "6                                      Otros ingresos      -43.1   -59.86   \n",
       "7         Utilidad operativa antes de impuestos (UAI)       56.5   15.796   \n",
       "8   Participación en utilidades de empresas asociadas        0.4      0.7   \n",
       "9                                Ingresos financieros        3.2      3.9   \n",
       "10                                 Gastos financieros       -6.3     -4.4   \n",
       "11                        Utilidad antes de impuestos       53.8   15.996   \n",
       "12                                                IUE -11.144178     -2.7   \n",
       "13                                      Utilidad neta  42.655822   13.296   \n",
       "14                          Atrubuilble a accionistas       42.4     31.9   \n",
       "15                          Atrubuilble a accionistas        0.3      0.1   \n",
       "16                                                  -          -        -   \n",
       "17                       Ganancias basicas por accion       9.39     7.07   \n",
       "18                      Ganancias diluidas por accion       9.38     7.06   \n",
       "\n",
       "      2018   2019   2020  \n",
       "0   1075.2  760.0  573.0  \n",
       "1   -782.7 -549.9 -439.2  \n",
       "2    292.5  210.1  133.8  \n",
       "3    -51.9  -53.2  -52.5  \n",
       "4   -215.1 -189.1 -168.8  \n",
       "5     23.7  123.6   15.2  \n",
       "6     -6.0   -6.5  -12.1  \n",
       "7     43.2   84.9  -84.4  \n",
       "8      1.4    0.9   -0.3  \n",
       "9      2.7    4.6    2.2  \n",
       "10    -4.7   -5.0   -5.5  \n",
       "11    42.6   85.4  -88.0  \n",
       "12   -10.6  -33.0   -1.8  \n",
       "13    32.0   52.4  -89.8  \n",
       "14    31.9   52.4  -89.8  \n",
       "15     0.1    0.0    0.0  \n",
       "16       -      -      -  \n",
       "17    7.07  11.65 -20.05  \n",
       "18    7.06  11.65 -20.03  "
      ]
     },
     "execution_count": 16,
     "metadata": {},
     "output_type": "execute_result"
    }
   ],
   "source": [
    "estado_de_resultados_fin=estado_de_resultados.fillna('-')\n",
    "estado_de_resultados_fin"
   ]
  },
  {
   "cell_type": "code",
   "execution_count": 17,
   "id": "03f9afa0-eaa3-4463-ae54-d553f48b6024",
   "metadata": {},
   "outputs": [
    {
     "data": {
      "text/plain": [
       "(19, 6)"
      ]
     },
     "execution_count": 17,
     "metadata": {},
     "output_type": "execute_result"
    }
   ],
   "source": [
    "estado_de_resultados.shape"
   ]
  },
  {
   "cell_type": "code",
   "execution_count": 18,
   "id": "44b82cc2-79b4-43f1-a9d0-09225288d469",
   "metadata": {},
   "outputs": [
    {
     "data": {
      "text/plain": [
       "ESTADO DE RESULTADOS Expresado en millones     object\n",
       "2016                                          float64\n",
       "2017                                          float64\n",
       "2018                                          float64\n",
       "2019                                          float64\n",
       "2020                                          float64\n",
       "dtype: object"
      ]
     },
     "execution_count": 18,
     "metadata": {},
     "output_type": "execute_result"
    }
   ],
   "source": [
    "estado_de_resultados.dtypes"
   ]
  },
  {
   "cell_type": "code",
   "execution_count": 19,
   "id": "3c4a5362-d9b1-493d-8ef1-fa650b83d7c4",
   "metadata": {},
   "outputs": [
    {
     "data": {
      "text/html": [
       "<div>\n",
       "<style scoped>\n",
       "    .dataframe tbody tr th:only-of-type {\n",
       "        vertical-align: middle;\n",
       "    }\n",
       "\n",
       "    .dataframe tbody tr th {\n",
       "        vertical-align: top;\n",
       "    }\n",
       "\n",
       "    .dataframe thead th {\n",
       "        text-align: right;\n",
       "    }\n",
       "</style>\n",
       "<table border=\"1\" class=\"dataframe\">\n",
       "  <thead>\n",
       "    <tr style=\"text-align: right;\">\n",
       "      <th></th>\n",
       "      <th>AÑOS</th>\n",
       "      <th>unidad</th>\n",
       "      <th>2016</th>\n",
       "      <th>2017</th>\n",
       "      <th>2018</th>\n",
       "      <th>2019</th>\n",
       "      <th>2020</th>\n",
       "    </tr>\n",
       "  </thead>\n",
       "  <tbody>\n",
       "    <tr>\n",
       "      <th>0</th>\n",
       "      <td>Estado de resultados consolidado 2016-2020</td>\n",
       "      <td>unidad</td>\n",
       "      <td>2016.0</td>\n",
       "      <td>2017.0</td>\n",
       "      <td>2018.0</td>\n",
       "      <td>2019.0</td>\n",
       "      <td>2020.0</td>\n",
       "    </tr>\n",
       "    <tr>\n",
       "      <th>1</th>\n",
       "      <td>Ventas</td>\n",
       "      <td>millones</td>\n",
       "      <td>945.0</td>\n",
       "      <td>965.6</td>\n",
       "      <td>1075.2</td>\n",
       "      <td>760.0</td>\n",
       "      <td>573.0</td>\n",
       "    </tr>\n",
       "    <tr>\n",
       "      <th>2</th>\n",
       "      <td>- Paises Asiaticos</td>\n",
       "      <td>millones</td>\n",
       "      <td>286.0</td>\n",
       "      <td>319.0</td>\n",
       "      <td>434.0</td>\n",
       "      <td>293.0</td>\n",
       "      <td>185.0</td>\n",
       "    </tr>\n",
       "    <tr>\n",
       "      <th>3</th>\n",
       "      <td>-China</td>\n",
       "      <td>millones</td>\n",
       "      <td>187.0</td>\n",
       "      <td>184.0</td>\n",
       "      <td>149.0</td>\n",
       "      <td>137.0</td>\n",
       "      <td>93.0</td>\n",
       "    </tr>\n",
       "    <tr>\n",
       "      <th>4</th>\n",
       "      <td>-India</td>\n",
       "      <td>millones</td>\n",
       "      <td>182.0</td>\n",
       "      <td>174.0</td>\n",
       "      <td>146.0</td>\n",
       "      <td>100.0</td>\n",
       "      <td>51.0</td>\n",
       "    </tr>\n",
       "    <tr>\n",
       "      <th>5</th>\n",
       "      <td>-Turquia</td>\n",
       "      <td>millones</td>\n",
       "      <td>119.0</td>\n",
       "      <td>100.0</td>\n",
       "      <td>155.0</td>\n",
       "      <td>67.0</td>\n",
       "      <td>122.0</td>\n",
       "    </tr>\n",
       "    <tr>\n",
       "      <th>6</th>\n",
       "      <td>-Norte y sur America</td>\n",
       "      <td>millones</td>\n",
       "      <td>87.0</td>\n",
       "      <td>115.0</td>\n",
       "      <td>109.0</td>\n",
       "      <td>106.0</td>\n",
       "      <td>66.0</td>\n",
       "    </tr>\n",
       "    <tr>\n",
       "      <th>7</th>\n",
       "      <td>-Europa</td>\n",
       "      <td>millones</td>\n",
       "      <td>41.0</td>\n",
       "      <td>46.0</td>\n",
       "      <td>47.0</td>\n",
       "      <td>41.0</td>\n",
       "      <td>38.0</td>\n",
       "    </tr>\n",
       "    <tr>\n",
       "      <th>8</th>\n",
       "      <td>-Africa</td>\n",
       "      <td>millones</td>\n",
       "      <td>43.0</td>\n",
       "      <td>28.0</td>\n",
       "      <td>36.0</td>\n",
       "      <td>16.0</td>\n",
       "      <td>18.0</td>\n",
       "    </tr>\n",
       "    <tr>\n",
       "      <th>9</th>\n",
       "      <td>Resultado operativo antes de intereses, impues...</td>\n",
       "      <td>millones</td>\n",
       "      <td>95.8</td>\n",
       "      <td>64.7</td>\n",
       "      <td>84.1</td>\n",
       "      <td>123.1</td>\n",
       "      <td>-46.7</td>\n",
       "    </tr>\n",
       "    <tr>\n",
       "      <th>10</th>\n",
       "      <td>EBITDA en % de ventas</td>\n",
       "      <td>%</td>\n",
       "      <td>10.1</td>\n",
       "      <td>6.7</td>\n",
       "      <td>7.8</td>\n",
       "      <td>16.2</td>\n",
       "      <td>-8.2</td>\n",
       "    </tr>\n",
       "    <tr>\n",
       "      <th>11</th>\n",
       "      <td>EBIT antes de cambios de reestructuracion</td>\n",
       "      <td>millones</td>\n",
       "      <td>56.5</td>\n",
       "      <td>51.8</td>\n",
       "      <td>42.9</td>\n",
       "      <td>84.6</td>\n",
       "      <td>-76.7</td>\n",
       "    </tr>\n",
       "    <tr>\n",
       "      <th>12</th>\n",
       "      <td>EBIT en % de ventas</td>\n",
       "      <td>%</td>\n",
       "      <td>6.0</td>\n",
       "      <td>5.4</td>\n",
       "      <td>4.0</td>\n",
       "      <td>11.1</td>\n",
       "      <td>-13.4</td>\n",
       "    </tr>\n",
       "    <tr>\n",
       "      <th>13</th>\n",
       "      <td>Resultado operativo antes de intereses e impue...</td>\n",
       "      <td>millones</td>\n",
       "      <td>56.5</td>\n",
       "      <td>15.8</td>\n",
       "      <td>43.2</td>\n",
       "      <td>84.9</td>\n",
       "      <td>-84.4</td>\n",
       "    </tr>\n",
       "    <tr>\n",
       "      <th>14</th>\n",
       "      <td>- en % de ventas</td>\n",
       "      <td>%</td>\n",
       "      <td>6.0</td>\n",
       "      <td>1.6</td>\n",
       "      <td>4.0</td>\n",
       "      <td>11.2</td>\n",
       "      <td>-14.7</td>\n",
       "    </tr>\n",
       "    <tr>\n",
       "      <th>15</th>\n",
       "      <td>Utilidad Neta</td>\n",
       "      <td>millones</td>\n",
       "      <td>42.7</td>\n",
       "      <td>13.3</td>\n",
       "      <td>32.0</td>\n",
       "      <td>52.4</td>\n",
       "      <td>-89.8</td>\n",
       "    </tr>\n",
       "    <tr>\n",
       "      <th>16</th>\n",
       "      <td>Utilidad neta en % de ventas</td>\n",
       "      <td>%</td>\n",
       "      <td>4.5</td>\n",
       "      <td>1.4</td>\n",
       "      <td>3.0</td>\n",
       "      <td>6.9</td>\n",
       "      <td>-15.7</td>\n",
       "    </tr>\n",
       "    <tr>\n",
       "      <th>17</th>\n",
       "      <td>Rentabilidad sobre activos netos</td>\n",
       "      <td>millones</td>\n",
       "      <td>8.5</td>\n",
       "      <td>3.0</td>\n",
       "      <td>6.6</td>\n",
       "      <td>10.0</td>\n",
       "      <td>-14.3</td>\n",
       "    </tr>\n",
       "    <tr>\n",
       "      <th>18</th>\n",
       "      <td>NaN</td>\n",
       "      <td>NaN</td>\n",
       "      <td>NaN</td>\n",
       "      <td>NaN</td>\n",
       "      <td>NaN</td>\n",
       "      <td>NaN</td>\n",
       "      <td>NaN</td>\n",
       "    </tr>\n",
       "    <tr>\n",
       "      <th>19</th>\n",
       "      <td>Estado de Flujo de caja consolidado</td>\n",
       "      <td>unidad</td>\n",
       "      <td>2016.0</td>\n",
       "      <td>2017.0</td>\n",
       "      <td>2018.0</td>\n",
       "      <td>2019.0</td>\n",
       "      <td>2020.0</td>\n",
       "    </tr>\n",
       "    <tr>\n",
       "      <th>20</th>\n",
       "      <td>Flujo de caja de actividades operativas</td>\n",
       "      <td>millones</td>\n",
       "      <td>102.2</td>\n",
       "      <td>20.6</td>\n",
       "      <td>78.4</td>\n",
       "      <td>-45.7</td>\n",
       "      <td>-49.8</td>\n",
       "    </tr>\n",
       "    <tr>\n",
       "      <th>21</th>\n",
       "      <td>Flujo de caja de inversion</td>\n",
       "      <td>millones</td>\n",
       "      <td>-25.9</td>\n",
       "      <td>-21.7</td>\n",
       "      <td>-14.8</td>\n",
       "      <td>88.0</td>\n",
       "      <td>-25.0</td>\n",
       "    </tr>\n",
       "    <tr>\n",
       "      <th>22</th>\n",
       "      <td>Flujo de caja de actividades de financiacion</td>\n",
       "      <td>millones</td>\n",
       "      <td>-34.4</td>\n",
       "      <td>-19.4</td>\n",
       "      <td>-36.3</td>\n",
       "      <td>-9.8</td>\n",
       "      <td>78.0</td>\n",
       "    </tr>\n",
       "    <tr>\n",
       "      <th>23</th>\n",
       "      <td>Flujo de caja libre</td>\n",
       "      <td>millones</td>\n",
       "      <td>76.3</td>\n",
       "      <td>-1.1</td>\n",
       "      <td>63.6</td>\n",
       "      <td>42.3</td>\n",
       "      <td>-74.8</td>\n",
       "    </tr>\n",
       "    <tr>\n",
       "      <th>24</th>\n",
       "      <td>NaN</td>\n",
       "      <td>NaN</td>\n",
       "      <td>NaN</td>\n",
       "      <td>NaN</td>\n",
       "      <td>NaN</td>\n",
       "      <td>NaN</td>\n",
       "      <td>NaN</td>\n",
       "    </tr>\n",
       "    <tr>\n",
       "      <th>25</th>\n",
       "      <td>Año</td>\n",
       "      <td>unidad</td>\n",
       "      <td>2016.0</td>\n",
       "      <td>2017.0</td>\n",
       "      <td>2018.0</td>\n",
       "      <td>2019.0</td>\n",
       "      <td>2020.0</td>\n",
       "    </tr>\n",
       "    <tr>\n",
       "      <th>26</th>\n",
       "      <td>Numero de empleados al 31 de diciembre</td>\n",
       "      <td>NaN</td>\n",
       "      <td>5022.0</td>\n",
       "      <td>5246.0</td>\n",
       "      <td>5134.0</td>\n",
       "      <td>4591.0</td>\n",
       "      <td>4416.0</td>\n",
       "    </tr>\n",
       "    <tr>\n",
       "      <th>27</th>\n",
       "      <td>NaN</td>\n",
       "      <td>NaN</td>\n",
       "      <td>NaN</td>\n",
       "      <td>NaN</td>\n",
       "      <td>NaN</td>\n",
       "      <td>NaN</td>\n",
       "      <td>NaN</td>\n",
       "    </tr>\n",
       "    <tr>\n",
       "      <th>28</th>\n",
       "      <td>Balance general consolidado al 31 de diciembre</td>\n",
       "      <td>unidad</td>\n",
       "      <td>2016.0</td>\n",
       "      <td>2017.0</td>\n",
       "      <td>2018.0</td>\n",
       "      <td>2019.0</td>\n",
       "      <td>2020.0</td>\n",
       "    </tr>\n",
       "    <tr>\n",
       "      <th>29</th>\n",
       "      <td>Activos corrientes</td>\n",
       "      <td>millones</td>\n",
       "      <td>653.8</td>\n",
       "      <td>598.2</td>\n",
       "      <td>577.8</td>\n",
       "      <td>567.2</td>\n",
       "      <td>555.7</td>\n",
       "    </tr>\n",
       "    <tr>\n",
       "      <th>30</th>\n",
       "      <td>Activos no corrientes</td>\n",
       "      <td>millones</td>\n",
       "      <td>344.3</td>\n",
       "      <td>450.0</td>\n",
       "      <td>424.5</td>\n",
       "      <td>415.8</td>\n",
       "      <td>407.8</td>\n",
       "    </tr>\n",
       "    <tr>\n",
       "      <th>31</th>\n",
       "      <td>Pasivos corrientes</td>\n",
       "      <td>millones</td>\n",
       "      <td>304.9</td>\n",
       "      <td>323.2</td>\n",
       "      <td>320.6</td>\n",
       "      <td>410.7</td>\n",
       "      <td>428.0</td>\n",
       "    </tr>\n",
       "    <tr>\n",
       "      <th>32</th>\n",
       "      <td>Pasivos no corrientes</td>\n",
       "      <td>millones</td>\n",
       "      <td>232.5</td>\n",
       "      <td>267.5</td>\n",
       "      <td>235.1</td>\n",
       "      <td>102.7</td>\n",
       "      <td>184.3</td>\n",
       "    </tr>\n",
       "    <tr>\n",
       "      <th>33</th>\n",
       "      <td>Patrimonio neto atribuible a los accionistas d...</td>\n",
       "      <td>millones</td>\n",
       "      <td>459.6</td>\n",
       "      <td>456.8</td>\n",
       "      <td>445.9</td>\n",
       "      <td>468.8</td>\n",
       "      <td>350.6</td>\n",
       "    </tr>\n",
       "    <tr>\n",
       "      <th>34</th>\n",
       "      <td>Patrimonio neto atribuible a Participaciones n...</td>\n",
       "      <td>millones</td>\n",
       "      <td>1.1</td>\n",
       "      <td>0.7</td>\n",
       "      <td>0.7</td>\n",
       "      <td>0.8</td>\n",
       "      <td>0.3</td>\n",
       "    </tr>\n",
       "    <tr>\n",
       "      <th>35</th>\n",
       "      <td>Activos totales</td>\n",
       "      <td>millones</td>\n",
       "      <td>998.1</td>\n",
       "      <td>1048.2</td>\n",
       "      <td>1002.3</td>\n",
       "      <td>983.0</td>\n",
       "      <td>963.5</td>\n",
       "    </tr>\n",
       "    <tr>\n",
       "      <th>36</th>\n",
       "      <td>ratio de capital</td>\n",
       "      <td>%</td>\n",
       "      <td>46.2</td>\n",
       "      <td>43.6</td>\n",
       "      <td>44.6</td>\n",
       "      <td>47.8</td>\n",
       "      <td>36.4</td>\n",
       "    </tr>\n",
       "    <tr>\n",
       "      <th>37</th>\n",
       "      <td>Efectivo y equivalente de efectivo</td>\n",
       "      <td>millones</td>\n",
       "      <td>365.6</td>\n",
       "      <td>243.3</td>\n",
       "      <td>256.2</td>\n",
       "      <td>284.1</td>\n",
       "      <td>282.3</td>\n",
       "    </tr>\n",
       "    <tr>\n",
       "      <th>38</th>\n",
       "      <td>Valores negociables y depositos a plazo</td>\n",
       "      <td>millones</td>\n",
       "      <td>7.0</td>\n",
       "      <td>1.1</td>\n",
       "      <td>0.9</td>\n",
       "      <td>0.9</td>\n",
       "      <td>0.9</td>\n",
       "    </tr>\n",
       "    <tr>\n",
       "      <th>39</th>\n",
       "      <td>Deuda financiera corriente</td>\n",
       "      <td>millones</td>\n",
       "      <td>-9.1</td>\n",
       "      <td>-7.3</td>\n",
       "      <td>-0.2</td>\n",
       "      <td>-121.0</td>\n",
       "      <td>-151.4</td>\n",
       "    </tr>\n",
       "    <tr>\n",
       "      <th>40</th>\n",
       "      <td>Deuda financiera no corriente</td>\n",
       "      <td>millones</td>\n",
       "      <td>-100.0</td>\n",
       "      <td>-106.6</td>\n",
       "      <td>-106.7</td>\n",
       "      <td>-1.9</td>\n",
       "      <td>-90.5</td>\n",
       "    </tr>\n",
       "    <tr>\n",
       "      <th>41</th>\n",
       "      <td>Liquidez neta</td>\n",
       "      <td>millones</td>\n",
       "      <td>263.5</td>\n",
       "      <td>130.5</td>\n",
       "      <td>150.2</td>\n",
       "      <td>162.1</td>\n",
       "      <td>41.3</td>\n",
       "    </tr>\n",
       "  </tbody>\n",
       "</table>\n",
       "</div>"
      ],
      "text/plain": [
       "                                                 AÑOS    unidad    2016  \\\n",
       "0          Estado de resultados consolidado 2016-2020    unidad  2016.0   \n",
       "1                                              Ventas  millones   945.0   \n",
       "2                                  - Paises Asiaticos  millones   286.0   \n",
       "3                                              -China  millones   187.0   \n",
       "4                                              -India  millones   182.0   \n",
       "5                                            -Turquia  millones   119.0   \n",
       "6                                -Norte y sur America  millones    87.0   \n",
       "7                                             -Europa  millones    41.0   \n",
       "8                                             -Africa  millones    43.0   \n",
       "9   Resultado operativo antes de intereses, impues...  millones    95.8   \n",
       "10                              EBITDA en % de ventas         %    10.1   \n",
       "11          EBIT antes de cambios de reestructuracion  millones    56.5   \n",
       "12                                EBIT en % de ventas         %     6.0   \n",
       "13  Resultado operativo antes de intereses e impue...  millones    56.5   \n",
       "14                                   - en % de ventas         %     6.0   \n",
       "15                                      Utilidad Neta  millones    42.7   \n",
       "16                       Utilidad neta en % de ventas         %     4.5   \n",
       "17                   Rentabilidad sobre activos netos  millones     8.5   \n",
       "18                                                NaN       NaN     NaN   \n",
       "19                Estado de Flujo de caja consolidado    unidad  2016.0   \n",
       "20            Flujo de caja de actividades operativas  millones   102.2   \n",
       "21                         Flujo de caja de inversion  millones   -25.9   \n",
       "22       Flujo de caja de actividades de financiacion  millones   -34.4   \n",
       "23                                Flujo de caja libre  millones    76.3   \n",
       "24                                                NaN       NaN     NaN   \n",
       "25                                                Año    unidad  2016.0   \n",
       "26             Numero de empleados al 31 de diciembre       NaN  5022.0   \n",
       "27                                                NaN       NaN     NaN   \n",
       "28     Balance general consolidado al 31 de diciembre    unidad  2016.0   \n",
       "29                                 Activos corrientes  millones   653.8   \n",
       "30                              Activos no corrientes  millones   344.3   \n",
       "31                                 Pasivos corrientes  millones   304.9   \n",
       "32                              Pasivos no corrientes  millones   232.5   \n",
       "33  Patrimonio neto atribuible a los accionistas d...  millones   459.6   \n",
       "34  Patrimonio neto atribuible a Participaciones n...  millones     1.1   \n",
       "35                                    Activos totales  millones   998.1   \n",
       "36                                   ratio de capital         %    46.2   \n",
       "37                 Efectivo y equivalente de efectivo  millones   365.6   \n",
       "38            Valores negociables y depositos a plazo  millones     7.0   \n",
       "39                         Deuda financiera corriente  millones    -9.1   \n",
       "40                      Deuda financiera no corriente  millones  -100.0   \n",
       "41                                      Liquidez neta  millones   263.5   \n",
       "\n",
       "      2017    2018    2019    2020  \n",
       "0   2017.0  2018.0  2019.0  2020.0  \n",
       "1    965.6  1075.2   760.0   573.0  \n",
       "2    319.0   434.0   293.0   185.0  \n",
       "3    184.0   149.0   137.0    93.0  \n",
       "4    174.0   146.0   100.0    51.0  \n",
       "5    100.0   155.0    67.0   122.0  \n",
       "6    115.0   109.0   106.0    66.0  \n",
       "7     46.0    47.0    41.0    38.0  \n",
       "8     28.0    36.0    16.0    18.0  \n",
       "9     64.7    84.1   123.1   -46.7  \n",
       "10     6.7     7.8    16.2    -8.2  \n",
       "11    51.8    42.9    84.6   -76.7  \n",
       "12     5.4     4.0    11.1   -13.4  \n",
       "13    15.8    43.2    84.9   -84.4  \n",
       "14     1.6     4.0    11.2   -14.7  \n",
       "15    13.3    32.0    52.4   -89.8  \n",
       "16     1.4     3.0     6.9   -15.7  \n",
       "17     3.0     6.6    10.0   -14.3  \n",
       "18     NaN     NaN     NaN     NaN  \n",
       "19  2017.0  2018.0  2019.0  2020.0  \n",
       "20    20.6    78.4   -45.7   -49.8  \n",
       "21   -21.7   -14.8    88.0   -25.0  \n",
       "22   -19.4   -36.3    -9.8    78.0  \n",
       "23    -1.1    63.6    42.3   -74.8  \n",
       "24     NaN     NaN     NaN     NaN  \n",
       "25  2017.0  2018.0  2019.0  2020.0  \n",
       "26  5246.0  5134.0  4591.0  4416.0  \n",
       "27     NaN     NaN     NaN     NaN  \n",
       "28  2017.0  2018.0  2019.0  2020.0  \n",
       "29   598.2   577.8   567.2   555.7  \n",
       "30   450.0   424.5   415.8   407.8  \n",
       "31   323.2   320.6   410.7   428.0  \n",
       "32   267.5   235.1   102.7   184.3  \n",
       "33   456.8   445.9   468.8   350.6  \n",
       "34     0.7     0.7     0.8     0.3  \n",
       "35  1048.2  1002.3   983.0   963.5  \n",
       "36    43.6    44.6    47.8    36.4  \n",
       "37   243.3   256.2   284.1   282.3  \n",
       "38     1.1     0.9     0.9     0.9  \n",
       "39    -7.3    -0.2  -121.0  -151.4  \n",
       "40  -106.6  -106.7    -1.9   -90.5  \n",
       "41   130.5   150.2   162.1    41.3  "
      ]
     },
     "execution_count": 19,
     "metadata": {},
     "output_type": "execute_result"
    }
   ],
   "source": [
    "reportes_consolidados=pd.read_excel(\"reportes-consolidados.xlsx\")\n",
    "reportes_consolidados"
   ]
  },
  {
   "cell_type": "code",
   "execution_count": 20,
   "id": "7e1a4518-f4bd-4ed7-b957-31696d1ba700",
   "metadata": {},
   "outputs": [
    {
     "data": {
      "text/html": [
       "<div>\n",
       "<style scoped>\n",
       "    .dataframe tbody tr th:only-of-type {\n",
       "        vertical-align: middle;\n",
       "    }\n",
       "\n",
       "    .dataframe tbody tr th {\n",
       "        vertical-align: top;\n",
       "    }\n",
       "\n",
       "    .dataframe thead th {\n",
       "        text-align: right;\n",
       "    }\n",
       "</style>\n",
       "<table border=\"1\" class=\"dataframe\">\n",
       "  <thead>\n",
       "    <tr style=\"text-align: right;\">\n",
       "      <th></th>\n",
       "      <th>AÑOS</th>\n",
       "      <th>unidad</th>\n",
       "      <th>2016</th>\n",
       "      <th>2017</th>\n",
       "      <th>2018</th>\n",
       "      <th>2019</th>\n",
       "      <th>2020</th>\n",
       "    </tr>\n",
       "  </thead>\n",
       "  <tbody>\n",
       "    <tr>\n",
       "      <th>0</th>\n",
       "      <td>Estado de resultados consolidado 2016-2020</td>\n",
       "      <td>unidad</td>\n",
       "      <td>2016.0</td>\n",
       "      <td>2017.0</td>\n",
       "      <td>2018.0</td>\n",
       "      <td>2019.0</td>\n",
       "      <td>2020.0</td>\n",
       "    </tr>\n",
       "    <tr>\n",
       "      <th>1</th>\n",
       "      <td>Ventas</td>\n",
       "      <td>millones</td>\n",
       "      <td>945.0</td>\n",
       "      <td>965.6</td>\n",
       "      <td>1075.2</td>\n",
       "      <td>760.0</td>\n",
       "      <td>573.0</td>\n",
       "    </tr>\n",
       "    <tr>\n",
       "      <th>2</th>\n",
       "      <td>- Paises Asiaticos</td>\n",
       "      <td>millones</td>\n",
       "      <td>286.0</td>\n",
       "      <td>319.0</td>\n",
       "      <td>434.0</td>\n",
       "      <td>293.0</td>\n",
       "      <td>185.0</td>\n",
       "    </tr>\n",
       "    <tr>\n",
       "      <th>3</th>\n",
       "      <td>-China</td>\n",
       "      <td>millones</td>\n",
       "      <td>187.0</td>\n",
       "      <td>184.0</td>\n",
       "      <td>149.0</td>\n",
       "      <td>137.0</td>\n",
       "      <td>93.0</td>\n",
       "    </tr>\n",
       "    <tr>\n",
       "      <th>4</th>\n",
       "      <td>-India</td>\n",
       "      <td>millones</td>\n",
       "      <td>182.0</td>\n",
       "      <td>174.0</td>\n",
       "      <td>146.0</td>\n",
       "      <td>100.0</td>\n",
       "      <td>51.0</td>\n",
       "    </tr>\n",
       "    <tr>\n",
       "      <th>5</th>\n",
       "      <td>-Turquia</td>\n",
       "      <td>millones</td>\n",
       "      <td>119.0</td>\n",
       "      <td>100.0</td>\n",
       "      <td>155.0</td>\n",
       "      <td>67.0</td>\n",
       "      <td>122.0</td>\n",
       "    </tr>\n",
       "    <tr>\n",
       "      <th>6</th>\n",
       "      <td>-Norte y sur America</td>\n",
       "      <td>millones</td>\n",
       "      <td>87.0</td>\n",
       "      <td>115.0</td>\n",
       "      <td>109.0</td>\n",
       "      <td>106.0</td>\n",
       "      <td>66.0</td>\n",
       "    </tr>\n",
       "    <tr>\n",
       "      <th>7</th>\n",
       "      <td>-Europa</td>\n",
       "      <td>millones</td>\n",
       "      <td>41.0</td>\n",
       "      <td>46.0</td>\n",
       "      <td>47.0</td>\n",
       "      <td>41.0</td>\n",
       "      <td>38.0</td>\n",
       "    </tr>\n",
       "    <tr>\n",
       "      <th>8</th>\n",
       "      <td>-Africa</td>\n",
       "      <td>millones</td>\n",
       "      <td>43.0</td>\n",
       "      <td>28.0</td>\n",
       "      <td>36.0</td>\n",
       "      <td>16.0</td>\n",
       "      <td>18.0</td>\n",
       "    </tr>\n",
       "    <tr>\n",
       "      <th>9</th>\n",
       "      <td>Resultado operativo antes de intereses, impues...</td>\n",
       "      <td>millones</td>\n",
       "      <td>95.8</td>\n",
       "      <td>64.7</td>\n",
       "      <td>84.1</td>\n",
       "      <td>123.1</td>\n",
       "      <td>-46.7</td>\n",
       "    </tr>\n",
       "    <tr>\n",
       "      <th>10</th>\n",
       "      <td>EBITDA en % de ventas</td>\n",
       "      <td>%</td>\n",
       "      <td>10.1</td>\n",
       "      <td>6.7</td>\n",
       "      <td>7.8</td>\n",
       "      <td>16.2</td>\n",
       "      <td>-8.2</td>\n",
       "    </tr>\n",
       "    <tr>\n",
       "      <th>11</th>\n",
       "      <td>EBIT antes de cambios de reestructuracion</td>\n",
       "      <td>millones</td>\n",
       "      <td>56.5</td>\n",
       "      <td>51.8</td>\n",
       "      <td>42.9</td>\n",
       "      <td>84.6</td>\n",
       "      <td>-76.7</td>\n",
       "    </tr>\n",
       "    <tr>\n",
       "      <th>12</th>\n",
       "      <td>EBIT en % de ventas</td>\n",
       "      <td>%</td>\n",
       "      <td>6.0</td>\n",
       "      <td>5.4</td>\n",
       "      <td>4.0</td>\n",
       "      <td>11.1</td>\n",
       "      <td>-13.4</td>\n",
       "    </tr>\n",
       "    <tr>\n",
       "      <th>13</th>\n",
       "      <td>Resultado operativo antes de intereses e impue...</td>\n",
       "      <td>millones</td>\n",
       "      <td>56.5</td>\n",
       "      <td>15.8</td>\n",
       "      <td>43.2</td>\n",
       "      <td>84.9</td>\n",
       "      <td>-84.4</td>\n",
       "    </tr>\n",
       "    <tr>\n",
       "      <th>14</th>\n",
       "      <td>- en % de ventas</td>\n",
       "      <td>%</td>\n",
       "      <td>6.0</td>\n",
       "      <td>1.6</td>\n",
       "      <td>4.0</td>\n",
       "      <td>11.2</td>\n",
       "      <td>-14.7</td>\n",
       "    </tr>\n",
       "    <tr>\n",
       "      <th>15</th>\n",
       "      <td>Utilidad Neta</td>\n",
       "      <td>millones</td>\n",
       "      <td>42.7</td>\n",
       "      <td>13.3</td>\n",
       "      <td>32.0</td>\n",
       "      <td>52.4</td>\n",
       "      <td>-89.8</td>\n",
       "    </tr>\n",
       "    <tr>\n",
       "      <th>16</th>\n",
       "      <td>Utilidad neta en % de ventas</td>\n",
       "      <td>%</td>\n",
       "      <td>4.5</td>\n",
       "      <td>1.4</td>\n",
       "      <td>3.0</td>\n",
       "      <td>6.9</td>\n",
       "      <td>-15.7</td>\n",
       "    </tr>\n",
       "    <tr>\n",
       "      <th>17</th>\n",
       "      <td>Rentabilidad sobre activos netos</td>\n",
       "      <td>millones</td>\n",
       "      <td>8.5</td>\n",
       "      <td>3.0</td>\n",
       "      <td>6.6</td>\n",
       "      <td>10.0</td>\n",
       "      <td>-14.3</td>\n",
       "    </tr>\n",
       "    <tr>\n",
       "      <th>18</th>\n",
       "      <td>-</td>\n",
       "      <td>-</td>\n",
       "      <td>-</td>\n",
       "      <td>-</td>\n",
       "      <td>-</td>\n",
       "      <td>-</td>\n",
       "      <td>-</td>\n",
       "    </tr>\n",
       "    <tr>\n",
       "      <th>19</th>\n",
       "      <td>Estado de Flujo de caja consolidado</td>\n",
       "      <td>unidad</td>\n",
       "      <td>2016.0</td>\n",
       "      <td>2017.0</td>\n",
       "      <td>2018.0</td>\n",
       "      <td>2019.0</td>\n",
       "      <td>2020.0</td>\n",
       "    </tr>\n",
       "    <tr>\n",
       "      <th>20</th>\n",
       "      <td>Flujo de caja de actividades operativas</td>\n",
       "      <td>millones</td>\n",
       "      <td>102.2</td>\n",
       "      <td>20.6</td>\n",
       "      <td>78.4</td>\n",
       "      <td>-45.7</td>\n",
       "      <td>-49.8</td>\n",
       "    </tr>\n",
       "    <tr>\n",
       "      <th>21</th>\n",
       "      <td>Flujo de caja de inversion</td>\n",
       "      <td>millones</td>\n",
       "      <td>-25.9</td>\n",
       "      <td>-21.7</td>\n",
       "      <td>-14.8</td>\n",
       "      <td>88.0</td>\n",
       "      <td>-25.0</td>\n",
       "    </tr>\n",
       "    <tr>\n",
       "      <th>22</th>\n",
       "      <td>Flujo de caja de actividades de financiacion</td>\n",
       "      <td>millones</td>\n",
       "      <td>-34.4</td>\n",
       "      <td>-19.4</td>\n",
       "      <td>-36.3</td>\n",
       "      <td>-9.8</td>\n",
       "      <td>78.0</td>\n",
       "    </tr>\n",
       "    <tr>\n",
       "      <th>23</th>\n",
       "      <td>Flujo de caja libre</td>\n",
       "      <td>millones</td>\n",
       "      <td>76.3</td>\n",
       "      <td>-1.1</td>\n",
       "      <td>63.6</td>\n",
       "      <td>42.3</td>\n",
       "      <td>-74.8</td>\n",
       "    </tr>\n",
       "    <tr>\n",
       "      <th>24</th>\n",
       "      <td>-</td>\n",
       "      <td>-</td>\n",
       "      <td>-</td>\n",
       "      <td>-</td>\n",
       "      <td>-</td>\n",
       "      <td>-</td>\n",
       "      <td>-</td>\n",
       "    </tr>\n",
       "    <tr>\n",
       "      <th>25</th>\n",
       "      <td>Año</td>\n",
       "      <td>unidad</td>\n",
       "      <td>2016.0</td>\n",
       "      <td>2017.0</td>\n",
       "      <td>2018.0</td>\n",
       "      <td>2019.0</td>\n",
       "      <td>2020.0</td>\n",
       "    </tr>\n",
       "    <tr>\n",
       "      <th>26</th>\n",
       "      <td>Numero de empleados al 31 de diciembre</td>\n",
       "      <td>-</td>\n",
       "      <td>5022.0</td>\n",
       "      <td>5246.0</td>\n",
       "      <td>5134.0</td>\n",
       "      <td>4591.0</td>\n",
       "      <td>4416.0</td>\n",
       "    </tr>\n",
       "    <tr>\n",
       "      <th>27</th>\n",
       "      <td>-</td>\n",
       "      <td>-</td>\n",
       "      <td>-</td>\n",
       "      <td>-</td>\n",
       "      <td>-</td>\n",
       "      <td>-</td>\n",
       "      <td>-</td>\n",
       "    </tr>\n",
       "    <tr>\n",
       "      <th>28</th>\n",
       "      <td>Balance general consolidado al 31 de diciembre</td>\n",
       "      <td>unidad</td>\n",
       "      <td>2016.0</td>\n",
       "      <td>2017.0</td>\n",
       "      <td>2018.0</td>\n",
       "      <td>2019.0</td>\n",
       "      <td>2020.0</td>\n",
       "    </tr>\n",
       "    <tr>\n",
       "      <th>29</th>\n",
       "      <td>Activos corrientes</td>\n",
       "      <td>millones</td>\n",
       "      <td>653.8</td>\n",
       "      <td>598.2</td>\n",
       "      <td>577.8</td>\n",
       "      <td>567.2</td>\n",
       "      <td>555.7</td>\n",
       "    </tr>\n",
       "    <tr>\n",
       "      <th>30</th>\n",
       "      <td>Activos no corrientes</td>\n",
       "      <td>millones</td>\n",
       "      <td>344.3</td>\n",
       "      <td>450.0</td>\n",
       "      <td>424.5</td>\n",
       "      <td>415.8</td>\n",
       "      <td>407.8</td>\n",
       "    </tr>\n",
       "    <tr>\n",
       "      <th>31</th>\n",
       "      <td>Pasivos corrientes</td>\n",
       "      <td>millones</td>\n",
       "      <td>304.9</td>\n",
       "      <td>323.2</td>\n",
       "      <td>320.6</td>\n",
       "      <td>410.7</td>\n",
       "      <td>428.0</td>\n",
       "    </tr>\n",
       "    <tr>\n",
       "      <th>32</th>\n",
       "      <td>Pasivos no corrientes</td>\n",
       "      <td>millones</td>\n",
       "      <td>232.5</td>\n",
       "      <td>267.5</td>\n",
       "      <td>235.1</td>\n",
       "      <td>102.7</td>\n",
       "      <td>184.3</td>\n",
       "    </tr>\n",
       "    <tr>\n",
       "      <th>33</th>\n",
       "      <td>Patrimonio neto atribuible a los accionistas d...</td>\n",
       "      <td>millones</td>\n",
       "      <td>459.6</td>\n",
       "      <td>456.8</td>\n",
       "      <td>445.9</td>\n",
       "      <td>468.8</td>\n",
       "      <td>350.6</td>\n",
       "    </tr>\n",
       "    <tr>\n",
       "      <th>34</th>\n",
       "      <td>Patrimonio neto atribuible a Participaciones n...</td>\n",
       "      <td>millones</td>\n",
       "      <td>1.1</td>\n",
       "      <td>0.7</td>\n",
       "      <td>0.7</td>\n",
       "      <td>0.8</td>\n",
       "      <td>0.3</td>\n",
       "    </tr>\n",
       "    <tr>\n",
       "      <th>35</th>\n",
       "      <td>Activos totales</td>\n",
       "      <td>millones</td>\n",
       "      <td>998.1</td>\n",
       "      <td>1048.2</td>\n",
       "      <td>1002.3</td>\n",
       "      <td>983.0</td>\n",
       "      <td>963.5</td>\n",
       "    </tr>\n",
       "    <tr>\n",
       "      <th>36</th>\n",
       "      <td>ratio de capital</td>\n",
       "      <td>%</td>\n",
       "      <td>46.2</td>\n",
       "      <td>43.6</td>\n",
       "      <td>44.6</td>\n",
       "      <td>47.8</td>\n",
       "      <td>36.4</td>\n",
       "    </tr>\n",
       "    <tr>\n",
       "      <th>37</th>\n",
       "      <td>Efectivo y equivalente de efectivo</td>\n",
       "      <td>millones</td>\n",
       "      <td>365.6</td>\n",
       "      <td>243.3</td>\n",
       "      <td>256.2</td>\n",
       "      <td>284.1</td>\n",
       "      <td>282.3</td>\n",
       "    </tr>\n",
       "    <tr>\n",
       "      <th>38</th>\n",
       "      <td>Valores negociables y depositos a plazo</td>\n",
       "      <td>millones</td>\n",
       "      <td>7.0</td>\n",
       "      <td>1.1</td>\n",
       "      <td>0.9</td>\n",
       "      <td>0.9</td>\n",
       "      <td>0.9</td>\n",
       "    </tr>\n",
       "    <tr>\n",
       "      <th>39</th>\n",
       "      <td>Deuda financiera corriente</td>\n",
       "      <td>millones</td>\n",
       "      <td>-9.1</td>\n",
       "      <td>-7.3</td>\n",
       "      <td>-0.2</td>\n",
       "      <td>-121.0</td>\n",
       "      <td>-151.4</td>\n",
       "    </tr>\n",
       "    <tr>\n",
       "      <th>40</th>\n",
       "      <td>Deuda financiera no corriente</td>\n",
       "      <td>millones</td>\n",
       "      <td>-100.0</td>\n",
       "      <td>-106.6</td>\n",
       "      <td>-106.7</td>\n",
       "      <td>-1.9</td>\n",
       "      <td>-90.5</td>\n",
       "    </tr>\n",
       "    <tr>\n",
       "      <th>41</th>\n",
       "      <td>Liquidez neta</td>\n",
       "      <td>millones</td>\n",
       "      <td>263.5</td>\n",
       "      <td>130.5</td>\n",
       "      <td>150.2</td>\n",
       "      <td>162.1</td>\n",
       "      <td>41.3</td>\n",
       "    </tr>\n",
       "  </tbody>\n",
       "</table>\n",
       "</div>"
      ],
      "text/plain": [
       "                                                 AÑOS    unidad    2016  \\\n",
       "0          Estado de resultados consolidado 2016-2020    unidad  2016.0   \n",
       "1                                              Ventas  millones   945.0   \n",
       "2                                  - Paises Asiaticos  millones   286.0   \n",
       "3                                              -China  millones   187.0   \n",
       "4                                              -India  millones   182.0   \n",
       "5                                            -Turquia  millones   119.0   \n",
       "6                                -Norte y sur America  millones    87.0   \n",
       "7                                             -Europa  millones    41.0   \n",
       "8                                             -Africa  millones    43.0   \n",
       "9   Resultado operativo antes de intereses, impues...  millones    95.8   \n",
       "10                              EBITDA en % de ventas         %    10.1   \n",
       "11          EBIT antes de cambios de reestructuracion  millones    56.5   \n",
       "12                                EBIT en % de ventas         %     6.0   \n",
       "13  Resultado operativo antes de intereses e impue...  millones    56.5   \n",
       "14                                   - en % de ventas         %     6.0   \n",
       "15                                      Utilidad Neta  millones    42.7   \n",
       "16                       Utilidad neta en % de ventas         %     4.5   \n",
       "17                   Rentabilidad sobre activos netos  millones     8.5   \n",
       "18                                                  -         -       -   \n",
       "19                Estado de Flujo de caja consolidado    unidad  2016.0   \n",
       "20            Flujo de caja de actividades operativas  millones   102.2   \n",
       "21                         Flujo de caja de inversion  millones   -25.9   \n",
       "22       Flujo de caja de actividades de financiacion  millones   -34.4   \n",
       "23                                Flujo de caja libre  millones    76.3   \n",
       "24                                                  -         -       -   \n",
       "25                                                Año    unidad  2016.0   \n",
       "26             Numero de empleados al 31 de diciembre         -  5022.0   \n",
       "27                                                  -         -       -   \n",
       "28     Balance general consolidado al 31 de diciembre    unidad  2016.0   \n",
       "29                                 Activos corrientes  millones   653.8   \n",
       "30                              Activos no corrientes  millones   344.3   \n",
       "31                                 Pasivos corrientes  millones   304.9   \n",
       "32                              Pasivos no corrientes  millones   232.5   \n",
       "33  Patrimonio neto atribuible a los accionistas d...  millones   459.6   \n",
       "34  Patrimonio neto atribuible a Participaciones n...  millones     1.1   \n",
       "35                                    Activos totales  millones   998.1   \n",
       "36                                   ratio de capital         %    46.2   \n",
       "37                 Efectivo y equivalente de efectivo  millones   365.6   \n",
       "38            Valores negociables y depositos a plazo  millones     7.0   \n",
       "39                         Deuda financiera corriente  millones    -9.1   \n",
       "40                      Deuda financiera no corriente  millones  -100.0   \n",
       "41                                      Liquidez neta  millones   263.5   \n",
       "\n",
       "      2017    2018    2019    2020  \n",
       "0   2017.0  2018.0  2019.0  2020.0  \n",
       "1    965.6  1075.2   760.0   573.0  \n",
       "2    319.0   434.0   293.0   185.0  \n",
       "3    184.0   149.0   137.0    93.0  \n",
       "4    174.0   146.0   100.0    51.0  \n",
       "5    100.0   155.0    67.0   122.0  \n",
       "6    115.0   109.0   106.0    66.0  \n",
       "7     46.0    47.0    41.0    38.0  \n",
       "8     28.0    36.0    16.0    18.0  \n",
       "9     64.7    84.1   123.1   -46.7  \n",
       "10     6.7     7.8    16.2    -8.2  \n",
       "11    51.8    42.9    84.6   -76.7  \n",
       "12     5.4     4.0    11.1   -13.4  \n",
       "13    15.8    43.2    84.9   -84.4  \n",
       "14     1.6     4.0    11.2   -14.7  \n",
       "15    13.3    32.0    52.4   -89.8  \n",
       "16     1.4     3.0     6.9   -15.7  \n",
       "17     3.0     6.6    10.0   -14.3  \n",
       "18       -       -       -       -  \n",
       "19  2017.0  2018.0  2019.0  2020.0  \n",
       "20    20.6    78.4   -45.7   -49.8  \n",
       "21   -21.7   -14.8    88.0   -25.0  \n",
       "22   -19.4   -36.3    -9.8    78.0  \n",
       "23    -1.1    63.6    42.3   -74.8  \n",
       "24       -       -       -       -  \n",
       "25  2017.0  2018.0  2019.0  2020.0  \n",
       "26  5246.0  5134.0  4591.0  4416.0  \n",
       "27       -       -       -       -  \n",
       "28  2017.0  2018.0  2019.0  2020.0  \n",
       "29   598.2   577.8   567.2   555.7  \n",
       "30   450.0   424.5   415.8   407.8  \n",
       "31   323.2   320.6   410.7   428.0  \n",
       "32   267.5   235.1   102.7   184.3  \n",
       "33   456.8   445.9   468.8   350.6  \n",
       "34     0.7     0.7     0.8     0.3  \n",
       "35  1048.2  1002.3   983.0   963.5  \n",
       "36    43.6    44.6    47.8    36.4  \n",
       "37   243.3   256.2   284.1   282.3  \n",
       "38     1.1     0.9     0.9     0.9  \n",
       "39    -7.3    -0.2  -121.0  -151.4  \n",
       "40  -106.6  -106.7    -1.9   -90.5  \n",
       "41   130.5   150.2   162.1    41.3  "
      ]
     },
     "execution_count": 20,
     "metadata": {},
     "output_type": "execute_result"
    }
   ],
   "source": [
    "reportes_consolidados_fin=reportes_consolidados.fillna(\"-\")\n",
    "reportes_consolidados_fin"
   ]
  },
  {
   "cell_type": "code",
   "execution_count": 21,
   "id": "4127c83a-59f8-472e-aeae-a2f08652438e",
   "metadata": {},
   "outputs": [
    {
     "data": {
      "text/plain": [
       "AÑOS       object\n",
       "unidad     object\n",
       "2016      float64\n",
       "2017      float64\n",
       "2018      float64\n",
       "2019      float64\n",
       "2020      float64\n",
       "dtype: object"
      ]
     },
     "execution_count": 21,
     "metadata": {},
     "output_type": "execute_result"
    }
   ],
   "source": [
    "reportes_consolidados.dtypes"
   ]
  },
  {
   "cell_type": "code",
   "execution_count": 22,
   "id": "9b4a014b-b517-408e-89fd-c796ce6a8a6d",
   "metadata": {},
   "outputs": [
    {
     "data": {
      "text/plain": [
       "(42, 7)"
      ]
     },
     "execution_count": 22,
     "metadata": {},
     "output_type": "execute_result"
    }
   ],
   "source": [
    "reportes_consolidados_fin.shape #dimensiones del df"
   ]
  },
  {
   "cell_type": "code",
   "execution_count": 23,
   "id": "1c72656f-a68e-4e18-acfc-686201d516ff",
   "metadata": {},
   "outputs": [
    {
     "data": {
      "text/html": [
       "<div>\n",
       "<style scoped>\n",
       "    .dataframe tbody tr th:only-of-type {\n",
       "        vertical-align: middle;\n",
       "    }\n",
       "\n",
       "    .dataframe tbody tr th {\n",
       "        vertical-align: top;\n",
       "    }\n",
       "\n",
       "    .dataframe thead th {\n",
       "        text-align: right;\n",
       "    }\n",
       "</style>\n",
       "<table border=\"1\" class=\"dataframe\">\n",
       "  <thead>\n",
       "    <tr style=\"text-align: right;\">\n",
       "      <th></th>\n",
       "    </tr>\n",
       "  </thead>\n",
       "  <tbody>\n",
       "  </tbody>\n",
       "</table>\n",
       "</div>"
      ],
      "text/plain": [
       "Empty DataFrame\n",
       "Columns: []\n",
       "Index: []"
      ]
     },
     "execution_count": 23,
     "metadata": {},
     "output_type": "execute_result"
    }
   ],
   "source": [
    "flujo_de_caja=pd.read_excel(\"Flujo_de_caja.xlsx\")\n",
    "flujo_de_caja"
   ]
  },
  {
   "cell_type": "code",
   "execution_count": 24,
   "id": "5ad36ea3-0a39-4998-89c9-e317874846bb",
   "metadata": {},
   "outputs": [
    {
     "data": {
      "text/html": [
       "<div>\n",
       "<style scoped>\n",
       "    .dataframe tbody tr th:only-of-type {\n",
       "        vertical-align: middle;\n",
       "    }\n",
       "\n",
       "    .dataframe tbody tr th {\n",
       "        vertical-align: top;\n",
       "    }\n",
       "\n",
       "    .dataframe thead th {\n",
       "        text-align: right;\n",
       "    }\n",
       "</style>\n",
       "<table border=\"1\" class=\"dataframe\">\n",
       "  <thead>\n",
       "    <tr style=\"text-align: right;\">\n",
       "      <th></th>\n",
       "    </tr>\n",
       "  </thead>\n",
       "  <tbody>\n",
       "  </tbody>\n",
       "</table>\n",
       "</div>"
      ],
      "text/plain": [
       "Empty DataFrame\n",
       "Columns: []\n",
       "Index: []"
      ]
     },
     "execution_count": 24,
     "metadata": {},
     "output_type": "execute_result"
    }
   ],
   "source": [
    "flujo_de_caja_fin=flujo_de_caja.fillna(\" \")\n",
    "flujo_de_caja_fin"
   ]
  },
  {
   "cell_type": "markdown",
   "id": "7f1d7086-73aa-4fba-911c-772729d6be5a",
   "metadata": {
    "jp-MarkdownHeadingCollapsed": true
   },
   "source": [
    "#### Tambien se puede visualizar el codigo con xlwings que abre el archivo que estamos usando cuando se ejecuta el codigo"
   ]
  },
  {
   "cell_type": "markdown",
   "id": "57ca74ba-a4f6-4d07-8574-2ef89a5ad131",
   "metadata": {},
   "source": [
    "Carga del archivo de Excel con el modelo de cálculo de Flujo de Caja Descontado (DCF) creado especialmente para este proyecto y la simulación.\n",
    "En este caso, leeremos y modificaremos los datos del modelo, así como almacenaremos el resultado necesario en hojas específicas.\n",
    "* El archivo se guarda y cierra automáticamente después de que se ejecuta el código hasta el final del cuaderno Jupyter.\n",
    "\n",
    "Cuando comencé a buscar los datos y las bibliotecas que necesitaría para completar mi proyecto, encontré la biblioteca xlwings y me enamoré de ella. Esta es una biblioteca increíble que hace que algunas de las características de análisis de datos de Python estén disponibles en una instancia de Excel, incluido el soporte para matrices numpy y series y marcos de datos de pandas.\n",
    "\n",
    "Cargando el archivo DCF_Model con xlwings y tomando la Hoja1, donde se construye el modelo con las fórmulas. Este es el modelo que necesitaremos más adelante para las simulaciones.\n",
    "Y veremos los valores de algunas de las celdas importantes que están disponibles al momento de abrir el archivo.\n",
    "Así mismo, iniciamos con la presentación y explicación de las principales fórmulas matemáticas utilizadas en el área de Modelado y Análisis Financiero, las cuales son utilizadas para la creación de modelos en Excel."
   ]
  },
  {
   "cell_type": "code",
   "execution_count": 25,
   "id": "81d1bad7-ec4f-4914-a9da-35b4b9488adc",
   "metadata": {},
   "outputs": [],
   "source": [
    "dfc_file=xw.Book(\"Flujo_de_caja.xlsx\")\n",
    "dfc_model=dfc_file.sheets(\"Hoja1\")"
   ]
  },
  {
   "cell_type": "code",
   "execution_count": 26,
   "id": "c3435e64-0300-4857-890d-d699d33d3d1b",
   "metadata": {},
   "outputs": [
    {
     "data": {
      "text/plain": [
       "Sheets([<Sheet [Flujo_de_caja.xlsx]Simulation>, <Sheet [Flujo_de_caja.xlsx]Sales Forecast>, <Sheet [Flujo_de_caja.xlsx]Hoja1>])"
      ]
     },
     "execution_count": 26,
     "metadata": {},
     "output_type": "execute_result"
    }
   ],
   "source": [
    "dfc_file.sheets"
   ]
  },
  {
   "cell_type": "code",
   "execution_count": 27,
   "id": "6c9f32c1-c54a-4f1c-a208-96d7982c6425",
   "metadata": {},
   "outputs": [
    {
     "data": {
      "text/plain": [
       "573.0"
      ]
     },
     "execution_count": 27,
     "metadata": {},
     "output_type": "execute_result"
    }
   ],
   "source": [
    "#Leemos los datos del 2020 del archivo\n",
    "ventas_2020=dfc_model.range('F16').value\n",
    "ventas_2020"
   ]
  },
  {
   "cell_type": "code",
   "execution_count": 28,
   "id": "869ab7e0-654b-42e4-ba3c-31eb961d3e77",
   "metadata": {},
   "outputs": [
    {
     "data": {
      "text/plain": [
       "(573.6269504482071,\n",
       " 574.2545868769806,\n",
       " 575.5119206793223,\n",
       " 574.882910036889,\n",
       " 576.1416195564924)"
      ]
     },
     "execution_count": 28,
     "metadata": {},
     "output_type": "execute_result"
    }
   ],
   "source": [
    "#ahora de los datos de 2021 en adelante\n",
    "ventas_2021=dfc_model.range('G16').value\n",
    "ventas_2022=dfc_model.range('H16').value\n",
    "ventas_2023=dfc_model.range('J16').value\n",
    "ventas_2024=dfc_model.range('I16').value\n",
    "ventas_2025=dfc_model.range('K16').value\n",
    "ventas_2021,ventas_2022,ventas_2023,ventas_2024,ventas_2025"
   ]
  },
  {
   "cell_type": "markdown",
   "id": "3cfa949f-82d5-4db9-a07d-ea9417406112",
   "metadata": {
    "jp-MarkdownHeadingCollapsed": true
   },
   "source": [
    "#### Utilidad Bruta"
   ]
  },
  {
   "cell_type": "markdown",
   "id": "03ce8fcf-74a7-44d1-a57c-dcb4da447853",
   "metadata": {},
   "source": [
    "El beneficio bruto es el beneficio que obtiene una empresa después de deducir los costes asociados a la fabricación y venta de sus productos, o los costes asociados a la prestación de sus servicios. El beneficio bruto aparecerá en el estado de resultados de una empresa y se puede calcular restando el coste de los bienes vendidos (COGS) de los ingresos (ventas)."
   ]
  },
  {
   "cell_type": "markdown",
   "id": "cebf2505-1c7d-42ec-9082-b5b685ac7244",
   "metadata": {
    "jp-MarkdownHeadingCollapsed": true
   },
   "source": [
    "#### COGS formula"
   ]
  },
  {
   "cell_type": "markdown",
   "id": "0ccf21db-8ce4-4057-b8b4-97823ad9de21",
   "metadata": {},
   "source": [
    "El costo de los bienes vendidos (COGS) se refiere a los costos directos de producir los bienes que vende una empresa. Este monto incluye el costo de los materiales y la mano de obra utilizados directamente para crear el bien. Excluye los gastos indirectos, como los costos de distribución y los costos de la fuerza de ventas."
   ]
  },
  {
   "cell_type": "markdown",
   "id": "ada7fc6f-bbb5-42e2-a94b-f8f75644efb9",
   "metadata": {},
   "source": [
    "COGS=Inventario Inicial + compras durante el periodo - inventario final \\\n",
    "Utilidad Bruta = Ingresos por ventas - COGS \\\n",
    "Utilizaremos la segunda fórmula, asumiendo que el beneficio bruto es el 38% de los ingresos brutos (ingresos por ventas), es decir:\\\n",
    "COGS=Ingreso por ventas-Utilida Bruta"
   ]
  },
  {
   "cell_type": "code",
   "execution_count": 29,
   "id": "65b065c8-0d64-4787-81af-34f957d27ce2",
   "metadata": {},
   "outputs": [],
   "source": [
    "# Lectura de los datos iniciales de la utilidad bruta prevista y el costo de los bienes vendidos (COGS) para un período de 5 años desde el \n",
    "#archivo DCF_Model.\n",
    "# Los datos se volverán a calcular en función de los supuestos del modelo de simulación.\n",
    "utilidad_bruta_2021=dfc_model.range('G19').value\n",
    "cogs_2021=dfc_model.range('G18').value\n",
    "utilidad_bruta_2022=dfc_model.range('H19').value\n",
    "cogs_2022=dfc_model.range('H18').value\n",
    "utilidad_bruta_2023=dfc_model.range('I19').value\n",
    "cogs_2023=dfc_model.range('I18').value\n",
    "utilidad_bruta_2024=dfc_model.range('J19').value\n",
    "cogs_2024=dfc_model.range('J18').value\n",
    "utilidad_bruta_2025=dfc_model.range('K19').value\n",
    "cogs_2025=dfc_model.range('K18').value"
   ]
  },
  {
   "cell_type": "code",
   "execution_count": 30,
   "id": "2568723e-2797-438c-ab87-9c8c40eed1d6",
   "metadata": {},
   "outputs": [
    {
     "data": {
      "text/plain": [
       "(217.9782411703187,\n",
       " 218.21674301325265,\n",
       " 218.45550581401784,\n",
       " 218.6945298581425,\n",
       " 218.9338154314671)"
      ]
     },
     "execution_count": 30,
     "metadata": {},
     "output_type": "execute_result"
    }
   ],
   "source": [
    "utilidad_bruta_2021,utilidad_bruta_2022,utilidad_bruta_2023,utilidad_bruta_2024,utilidad_bruta_2025"
   ]
  },
  {
   "cell_type": "code",
   "execution_count": 31,
   "id": "5d4de6b2-6ebc-4521-96d6-8e752341af61",
   "metadata": {},
   "outputs": [
    {
     "data": {
      "text/plain": [
       "(-355.64870927788843,\n",
       " -356.03784386372797,\n",
       " -356.4274042228712,\n",
       " -356.81739082117986,\n",
       " -357.2078041250253)"
      ]
     },
     "execution_count": 31,
     "metadata": {},
     "output_type": "execute_result"
    }
   ],
   "source": [
    "cogs_2021,cogs_2022,cogs_2023,cogs_2024,cogs_2025"
   ]
  },
  {
   "cell_type": "markdown",
   "id": "fe5dc50a-30ff-4df9-81e8-10637d806022",
   "metadata": {
    "jp-MarkdownHeadingCollapsed": true
   },
   "source": [
    "#### Gasto de venta, generales, y administrativos (Gastos operativos o SG&A)\n",
    "Los gastos de venta, generales y administrativos (SG&A) se incluyen en el estado de resultados en la sección de gastos. Los SG&A no se asignan a un producto específico y, por lo tanto, no se incluyen en el costo de los bienes vendidos (COGS). Los SG&A se incurren como parte de las operaciones comerciales diarias.\n",
    "En nuestro caso, utilizaremos una constante de 170,00 MCHF como SG&A para los 5 años previstos."
   ]
  },
  {
   "cell_type": "markdown",
   "id": "0b98383e-f13e-45a8-a199-cb0424794d8c",
   "metadata": {
    "jp-MarkdownHeadingCollapsed": true
   },
   "source": [
    "#### Depreciacion y Amortizacion"
   ]
  },
  {
   "cell_type": "markdown",
   "id": "9385fe8f-7924-41f6-a617-703100a82f29",
   "metadata": {},
   "source": [
    "La amortización y la depreciación son dos métodos para calcular el valor de los activos de una empresa a lo largo del tiempo. Una empresa calculará estos importes de gastos para utilizarlos como deducción fiscal y reducir su obligación tributaria.\n",
    "En el modelo actual, utilizaremos un valor constante de 39,8 millones de francos suizos."
   ]
  },
  {
   "cell_type": "code",
   "execution_count": 32,
   "id": "6e2c2987-9e2d-430c-9256-7e3d95d9cc8f",
   "metadata": {},
   "outputs": [
    {
     "data": {
      "text/plain": [
       "(170.0, 39.8)"
      ]
     },
     "execution_count": 32,
     "metadata": {},
     "output_type": "execute_result"
    }
   ],
   "source": [
    "gastos_operativos=dfc_model.range('B11').value\n",
    "depreciacion_amortizacion=dfc_model.range('B8').value\n",
    "gastos_operativos,depreciacion_amortizacion"
   ]
  },
  {
   "cell_type": "markdown",
   "id": "3a2c5732-aff0-43ab-a511-1acbbb4a993d",
   "metadata": {
    "jp-MarkdownHeadingCollapsed": true
   },
   "source": [
    "#### Ganancia antes de intereses e Impuestos (EBIT)\n",
    "Este es un indicador de la rentabilidad de una empresa. El EBIT se puede calcular como ingresos menos gastos, excluidos los impuestos e intereses. El EBIT también se conoce como ganancias operativas, beneficio operativo y beneficio antes de intereses e impuestos.\\\n",
    "Cálculo del valor previsto de las Ganancias antes de intereses e impuestos (EBIT) utilizando la siguiente fórmula:\\\n",
    "EBIT=Ingresos por ventas-COGS(Costo de ventas)-Gastos operativos\\\n",
    "Donde gastos operativos=Gastos administrativos, generales y de venta + depreciacion y amortizacion "
   ]
  },
  {
   "cell_type": "markdown",
   "id": "8a3b5cf3-dacd-4806-adbd-d78d7e654411",
   "metadata": {
    "jp-MarkdownHeadingCollapsed": true
   },
   "source": [
    "#### Ganancia antes de intereses e impuestos, depreciacion y amortizacion (EBITDA)\n",
    "El EBITDA es una métrica ampliamente utilizada para medir la rentabilidad corporativa.\\\n",
    "El EBITDA se puede utilizar para comparar empresas entre sí y con los promedios de la industria.\\\n",
    "El EBITDA se puede utilizar para analizar y comparar la rentabilidad entre empresas e industrias, ya que elimina los efectos de los gastos de financiación y de capital.\\\n",
    "Cálculo del valor estimado del EBITDA en función de la siguiente fórmula:\\\n",
    "EBITDA=utilidad bruta - (COGS + Gastos administrativos, de ventas y generales)"
   ]
  },
  {
   "cell_type": "code",
   "execution_count": 33,
   "id": "4c5e3397-57a8-4750-8a94-1935dd01982e",
   "metadata": {},
   "outputs": [],
   "source": [
    "ebit_2021=dfc_model.range('G25').value\n",
    "ebitda_2021=dfc_model.range('G21').value\n",
    "ebit_2022=dfc_model.range('h25').value\n",
    "ebitda_2022=dfc_model.range('h21').value\n",
    "ebit_2023=dfc_model.range('i25').value\n",
    "ebitda_2023=dfc_model.range('i21').value\n",
    "ebit_2024=dfc_model.range('j25').value\n",
    "ebitda_2024=dfc_model.range('j21').value\n",
    "ebit_2025=dfc_model.range('k25').value\n",
    "ebitda_2025=dfc_model.range('k21').value"
   ]
  },
  {
   "cell_type": "code",
   "execution_count": 34,
   "id": "936b71a2-9aec-4cbb-b632-90f135236821",
   "metadata": {},
   "outputs": [
    {
     "data": {
      "text/plain": [
       "(8.178241170318714,\n",
       " 8.416743013252656,\n",
       " 8.655505814017843,\n",
       " 8.89452985814249,\n",
       " 9.133815431467113)"
      ]
     },
     "execution_count": 34,
     "metadata": {},
     "output_type": "execute_result"
    }
   ],
   "source": [
    "ebit_2021,ebit_2022,ebit_2023,ebit_2024,ebit_2025"
   ]
  },
  {
   "cell_type": "code",
   "execution_count": 35,
   "id": "bf7c67b0-1109-43da-af6f-1ab93556d971",
   "metadata": {},
   "outputs": [
    {
     "data": {
      "text/plain": [
       "(47.97824117031871,\n",
       " 48.21674301325265,\n",
       " 48.45550581401784,\n",
       " 48.69452985814249,\n",
       " 48.93381543146711)"
      ]
     },
     "execution_count": 35,
     "metadata": {},
     "output_type": "execute_result"
    }
   ],
   "source": [
    "ebitda_2021,ebitda_2022,ebitda_2023,ebitda_2024,ebitda_2025"
   ]
  },
  {
   "cell_type": "markdown",
   "id": "01ed5e4c-7d03-4e6b-9a93-c71eb70da192",
   "metadata": {},
   "source": [
    "### Utilidad Neta\n",
    "El ingreso neto o utilidad neta es el resultado de las ventas menos el costo de ventas, gastos generales, impuestos e intereses, representa el beneficio que obtiene la empresa despues de deducir todos los gastos, costos e impuestos de sus ingresos totales\\\n",
    "Utilidad Neta = Ingresos Totales - Costos Totales - Gastos Operativos - Gastos no operativos - impuestos \\\n",
    "o\\\n",
    "Utilidad Neta = EBIT - Intereses - impuesto a las utilidades\\\n",
    "Para construir el modelo, aplicamos otro supuesto: los gastos de intereses son constantes en 1,25 millones de francos suizos y la tasa impositiva es del 20 % (lo que no es la realidad en Suiza). Estos supuestos serán necesarios para facilitar el cálculo."
   ]
  },
  {
   "cell_type": "code",
   "execution_count": 36,
   "id": "65e47f7c-e17f-4ae0-a934-38c134e3023e",
   "metadata": {},
   "outputs": [
    {
     "data": {
      "text/plain": [
       "(1.25, 0.2)"
      ]
     },
     "execution_count": 36,
     "metadata": {},
     "output_type": "execute_result"
    }
   ],
   "source": [
    "gastos_intereses = dfc_model.range('B9').value\n",
    "tasa_de_impuestos= dfc_model.range('b5').value\n",
    "gastos_intereses,tasa_de_impuestos"
   ]
  },
  {
   "cell_type": "markdown",
   "id": "3fca6f51-dcc2-479e-98cd-869504985f3f",
   "metadata": {
    "jp-MarkdownHeadingCollapsed": true
   },
   "source": [
    "### Impuesto a las utilidades\n",
    "Se trata de un tipo de impuesto que los gobiernos imponen sobre los ingresos generados por empresas e individuos dentro de su jurisdicción. El impuesto sobre la renta se utiliza para financiar servicios públicos, pagar obligaciones gubernamentales y proporcionar bienes a los ciudadanos.\n",
    "Utilizaremos la siguiente fórmula para calcular el monto del impuesto:\n",
    "IUE= Tasa_de_impuestos*EBIT"
   ]
  },
  {
   "cell_type": "code",
   "execution_count": 37,
   "id": "f107ebf0-7654-4004-8678-b6fadf755383",
   "metadata": {},
   "outputs": [
    {
     "data": {
      "text/plain": [
       "(-1.6356482340637428,\n",
       " -1.6833486026505313,\n",
       " -1.7311011628035686,\n",
       " -1.7789059716284983,\n",
       " -1.8267630862934228)"
      ]
     },
     "execution_count": 37,
     "metadata": {},
     "output_type": "execute_result"
    }
   ],
   "source": [
    "IUE_2021=dfc_model.range('g28').value\n",
    "IUE_2022=dfc_model.range('h28').value\n",
    "IUE_2023=dfc_model.range('i28').value\n",
    "IUE_2024=dfc_model.range('j28').value\n",
    "IUE_2025=dfc_model.range('k28').value\n",
    "\n",
    "IUE_2021,IUE_2022,IUE_2023,IUE_2024,IUE_2025"
   ]
  },
  {
   "cell_type": "code",
   "execution_count": 38,
   "id": "8716f8d8-06ba-481e-aa31-e537bb3056fa",
   "metadata": {},
   "outputs": [
    {
     "data": {
      "text/plain": [
       "(5.292592936254971,\n",
       " 5.483394410602125,\n",
       " 5.6744046512142745,\n",
       " 5.865623886513992,\n",
       " 6.05705234517369)"
      ]
     },
     "execution_count": 38,
     "metadata": {},
     "output_type": "execute_result"
    }
   ],
   "source": [
    "utilidad_neta_2021=dfc_model.range('G29').value\n",
    "utilidad_neta_2022=dfc_model.range('h29').value\n",
    "utilidad_neta_2023=dfc_model.range('I29').value\n",
    "utilidad_neta_2024=dfc_model.range('J29').value\n",
    "utilidad_neta_2025=dfc_model.range('K29').value\n",
    "\n",
    "utilidad_neta_2021,utilidad_neta_2022,utilidad_neta_2023,utilidad_neta_2024,utilidad_neta_2025"
   ]
  },
  {
   "cell_type": "markdown",
   "id": "32798781-8f25-410a-aa47-37b96dda9c46",
   "metadata": {
    "jp-MarkdownHeadingCollapsed": true
   },
   "source": [
    "### Capital de trabajo neto (NWC)\n",
    "El capital de trabajo neto es la diferencia entre los activos corrientes y los pasivos corrientes de una empresa. El capital de trabajo neto se calcula utilizando partidas del balance de una empresa. Por lo general, cuanto mayor sea el saldo de capital de trabajo neto, más probable es que su empresa pueda cubrir sus obligaciones actuales.\n",
    "En el modelo, seguiremos la tendencia decreciente de los 5 años históricos y la aplicaremos en el pronóstico utilizando un valor constante de -30,70 millones de francos suizos de cambio en el capital de trabajo neto."
   ]
  },
  {
   "cell_type": "code",
   "execution_count": 39,
   "id": "866d4996-a2a1-42e3-8970-0a4bc08098ef",
   "metadata": {},
   "outputs": [
    {
     "data": {
      "text/plain": [
       "-30.7"
      ]
     },
     "execution_count": 39,
     "metadata": {},
     "output_type": "execute_result"
    }
   ],
   "source": [
    "cambios_nwc=dfc_model.range('B12').value\n",
    "cambios_nwc"
   ]
  },
  {
   "cell_type": "code",
   "execution_count": 40,
   "id": "a4aadde6-def6-407b-90a8-b96e0a3f8377",
   "metadata": {},
   "outputs": [
    {
     "data": {
      "text/plain": [
       "(127.40000000000003,\n",
       " 96.70000000000003,\n",
       " 66.00000000000003,\n",
       " 35.300000000000026,\n",
       " 4.600000000000026,\n",
       " -26.099999999999973)"
      ]
     },
     "execution_count": 40,
     "metadata": {},
     "output_type": "execute_result"
    }
   ],
   "source": [
    "nwc_2020=dfc_model.range('f31').value\n",
    "nwc_2021=dfc_model.range('g31').value\n",
    "nwc_2022=dfc_model.range('h31').value\n",
    "nwc_2023=dfc_model.range('i31').value\n",
    "nwc_2024=dfc_model.range('j31').value\n",
    "nwc_2025=dfc_model.range('k31').value\n",
    "nwc_2020,nwc_2021,nwc_2022,nwc_2023,nwc_2024,nwc_2025"
   ]
  },
  {
   "cell_type": "markdown",
   "id": "e9eb6d68-3992-468d-9111-f7127eb35b77",
   "metadata": {
    "jp-MarkdownHeadingCollapsed": true
   },
   "source": [
    "### Gastos de Capital (CAPEX)\n",
    "Son fondos que utiliza una empresa para adquirir, mejorar y mantener activos físicos, como propiedades, plantas, edificios, tecnología o equipos. Los gastos de capital suelen utilizarse para llevar a cabo nuevos proyectos o inversiones por parte de una empresa.Inversiones en activos a largo plazo que generan beneficios futuros.\\\n",
    "CAPEX=PP&E_final - PP&E_inicio + depreciacion\\\n",
    "donde:\\\n",
    "PP&E=planata,propiedad y equipos"
   ]
  },
  {
   "cell_type": "code",
   "execution_count": 41,
   "id": "93ba1907-9c17-408f-9ed9-71f1ba5b9456",
   "metadata": {},
   "outputs": [
    {
     "data": {
      "text/plain": [
       "0.03635904567017259"
      ]
     },
     "execution_count": 41,
     "metadata": {},
     "output_type": "execute_result"
    }
   ],
   "source": [
    "CAPEX_proyectado=dfc_model.range('b7').value\n",
    "CAPEX_proyectado"
   ]
  },
  {
   "cell_type": "code",
   "execution_count": 42,
   "id": "0cc8656f-e821-4ca1-9363-c6ec776c1a48",
   "metadata": {},
   "outputs": [
    {
     "data": {
      "text/plain": [
       "(-22.917106485909784,\n",
       " -25.20881713450076,\n",
       " -27.729698847950836,\n",
       " -30.502668732745917,\n",
       " -33.55293560602051)"
      ]
     },
     "execution_count": 42,
     "metadata": {},
     "output_type": "execute_result"
    }
   ],
   "source": [
    "CAPEX_2021=dfc_model.range('G33').value\n",
    "CAPEX_2022=dfc_model.range('H33').value\n",
    "CAPEX_2023=dfc_model.range('I33').value\n",
    "CAPEX_2024=dfc_model.range('J33').value\n",
    "CAPEX_2025=dfc_model.range('K33').value\n",
    "CAPEX_2021,CAPEX_2022,CAPEX_2023,CAPEX_2024,CAPEX_2025"
   ]
  },
  {
   "cell_type": "markdown",
   "id": "9df2da20-a198-467f-969e-1d0613e8b96e",
   "metadata": {
    "jp-MarkdownHeadingCollapsed": true
   },
   "source": [
    "### Flujo de Caja Libre\n",
    "El flujo de caja libre (FCF) representa el efectivo que genera una empresa después de contabilizar las salidas de efectivo para respaldar las operaciones y mantener sus activos de capital. A diferencia de las ganancias o el ingreso neto, el flujo de caja libre es una medida de rentabilidad que excluye los gastos no monetarios del estado de resultados e incluye el gasto en equipos y activos, así como los cambios en el capital de trabajo del balance general.\n",
    "Flujo de Caja Libre = EBIT * (1-tasa de impuestos) + depreciacion y amortizacion - CAPEX - Cambios en NWC \\\n",
    "o \\\n",
    "Flujo de Caja Libre = Utilidad neta + intereses e impuestos + depreciacion y amortizacion - CAPEX - cambios en NWC \\\n",
    "Tambien existen \\\n",
    "flujo de caja operativo = Utilidad neta + depreciacion y amortizacion + cambios en el nwc(capital de trabajo)\\\n",
    "flujo de caja neto = Entradas de dinero - Salidas de Dinero \\\n",
    "o \\\n",
    "flujo de caja neto = Utilidad neta + depreciacion + amortizacion - cambios en NWC - intereses \\\n",
    "Flujo de caja neto = Beneficio neto + Amortización + Provisiones + Cuentas por pagar - cuentas por cobrar\n"
   ]
  },
  {
   "cell_type": "code",
   "execution_count": 43,
   "id": "c4658c6c-e2e6-4d40-8690-6732be7ca8ae",
   "metadata": {},
   "outputs": [
    {
     "data": {
      "text/plain": [
       "(54.12548645034518,\n",
       " 52.024577276101354,\n",
       " 49.69470580326344,\n",
       " 47.11295515376807,\n",
       " 44.254116739153176)"
      ]
     },
     "execution_count": 43,
     "metadata": {},
     "output_type": "execute_result"
    }
   ],
   "source": [
    "fcf_2021=dfc_model.range('G35').value\n",
    "fcf_2022=dfc_model.range('h35').value\n",
    "fcf_2023=dfc_model.range('i35').value\n",
    "fcf_2024=dfc_model.range('j35').value\n",
    "fcf_2025=dfc_model.range('k35').value\n",
    "fcf_2021,fcf_2022,fcf_2023,fcf_2024,fcf_2025"
   ]
  },
  {
   "cell_type": "markdown",
   "id": "ee7bf742-86f1-4f4c-9147-2b919538b755",
   "metadata": {
    "jp-MarkdownHeadingCollapsed": true
   },
   "source": [
    "### Cálculo del valor terminal\n",
    "El valor terminal (VT) es el valor de un activo, negocio o proyecto más allá del período previsto en el que se pueden estimar los flujos de efectivo futuros. El valor terminal supone que un negocio crecerá a una tasa de crecimiento establecida para siempre después del período previsto. El valor terminal a menudo comprende un gran porcentaje del valor total tasado. Estos son dos métodos comúnmente utilizados para calcular el valor terminal: crecimiento perpetuo (modelo de crecimiento de Gordon) y múltiplo de salida. En el modelo, utilizaré el método del múltiplo de salida, donde se supone que un negocio se venderá por un múltiplo de alguna métrica de mercado. Ya dijimos al comienzo del proyecto que utilizaremos el valor EV/EBITDA de 2019, donde el múltiplo es 5x y el último EBTDA calculado al final del quinto año según la proyección. \\\n",
    "TV = (FCF * (1+g))/(d-g) \\\n",
    "donde: \\\n",
    "FCF= Flujo de caja libre\n",
    "g = tasa de crecimiento anual\n",
    "d = tasa de descuento (que suele ser el coste medio ponderado del capital)"
   ]
  },
  {
   "cell_type": "code",
   "execution_count": 44,
   "id": "5eb8ae0d-d1e6-4d92-8781-b46f6d966c8c",
   "metadata": {},
   "outputs": [
    {
     "data": {
      "text/plain": [
       "247.80942761963115"
      ]
     },
     "execution_count": 44,
     "metadata": {},
     "output_type": "execute_result"
    }
   ],
   "source": [
    "multiplo = dfc_model.range('E4').value\n",
    "tv=dfc_model.range('K38').value\n",
    "tv"
   ]
  },
  {
   "cell_type": "markdown",
   "id": "5bcecacd-d79a-4c28-a6ad-a86131be3b59",
   "metadata": {
    "jp-MarkdownHeadingCollapsed": true
   },
   "source": [
    "### Fórmula de flujo de caja descontado\n",
    "El flujo de caja descontado (DCF) es un método de valoración que se utiliza para estimar el valor de una inversión en función de sus flujos de caja futuros esperados. El análisis de DCF intenta determinar el valor actual de una inversión, en función de las proyecciones de cuánto dinero generará en el futuro. La fórmula para el DCF es:"
   ]
  },
  {
   "cell_type": "markdown",
   "id": "b37a625e-bd21-4c61-b495-e4ab0dbf775a",
   "metadata": {},
   "source": [
    "\\begin{aligned}\r\n",
    "&DCF=\\frac{CF_1}{(1+r)^1}+\\frac{CF_2}{(1+r)^2}+\\frac{CF_n}{(1+r)^n} \\\\\r\n",
    "&\\textbf{where:} \\\\\r\n",
    "&CF=\\text{The cash flow for the given year.} \\\\\r\n",
    "&\\quad\\quad\\text{$CF_1$ is for year one, $CF_2$ is for year two,} \\\\\r\n",
    "&\\quad\\quad\\text{$CF_n$ is for additional years} \\\\\r\n",
    "&r=\\text{The discount rate}\r\n",
    "\\end{aligned}\r\n"
   ]
  },
  {
   "cell_type": "markdown",
   "id": "232dd9cd-a54c-4815-90be-93d9559c4778",
   "metadata": {
    "jp-MarkdownHeadingCollapsed": true
   },
   "source": [
    "### Valor actual (VP)\n",
    "El valor actual (VP) es el valor actual de una suma futura de dinero o flujo de efectivo dada una tasa de rendimiento específica. Los flujos de efectivo futuros se descuentan a la tasa de descuento y, cuanto mayor sea la tasa de descuento, menor será el valor actual de los flujos de efectivo futuros.\n",
    "\n",
    "Fórmula y cálculo del VP:"
   ]
  },
  {
   "cell_type": "markdown",
   "id": "59d4e407-c138-4de2-9eba-d3cc5b4a9cd3",
   "metadata": {},
   "source": [
    "\\begin{aligned} \n",
    "&\\text{Present Value} = \\frac{\\text{FV}}{(1+r)^n} \\\\\n",
    "&\\textbf{where:} \\\\\n",
    "&\\text{FV} = \\text{Future Value} \\\\\n",
    "&r = \\text{Rate of return} \\\\\n",
    "&n = \\text{Number of periods} \n",
    "\\end{aligned}\n"
   ]
  },
  {
   "cell_type": "markdown",
   "id": "2f2daf01-50c5-4037-851a-5650cf0cbd81",
   "metadata": {},
   "source": [
    "La fórmula del Valor Presente se utiliza para calcular el Valor Terminal con el fin de que sea comparable con los flujos de efectivo descontados.\n",
    "\r\n"
   ]
  },
  {
   "cell_type": "code",
   "execution_count": 45,
   "id": "32146ada-aba8-4104-b840-0177d82fa0ff",
   "metadata": {},
   "outputs": [
    {
     "data": {
      "text/plain": [
       "187.361101181316"
      ]
     },
     "execution_count": 45,
     "metadata": {},
     "output_type": "execute_result"
    }
   ],
   "source": [
    "tasa_descuento=dfc_model.range('B3').value #wacc\n",
    "tv_descontado=dfc_model.range('k39').value\n",
    "tv_descontado"
   ]
  },
  {
   "cell_type": "code",
   "execution_count": 46,
   "id": "dca2ba6d-f121-4947-b15c-a13e3a27ef9a",
   "metadata": {},
   "outputs": [
    {
     "data": {
      "text/plain": [
       "(51.18163245173327,\n",
       " 46.51930334833526,\n",
       " 42.01913301037427,\n",
       " 37.6694804812452,\n",
       " 33.45917919144335)"
      ]
     },
     "execution_count": 46,
     "metadata": {},
     "output_type": "execute_result"
    }
   ],
   "source": [
    "dfc_2021=dfc_model.range('g37').value\n",
    "dfc_2022=dfc_model.range('h37').value\n",
    "dfc_2023=dfc_model.range('i37').value\n",
    "dfc_2024=dfc_model.range('j37').value\n",
    "dfc_2025=dfc_model.range('k37').value\n",
    "dfc_2021,dfc_2022,dfc_2023,dfc_2024,dfc_2025"
   ]
  },
  {
   "cell_type": "markdown",
   "id": "f87f7efd-d32d-4828-bc10-8d9f3586bd8e",
   "metadata": {
    "jp-MarkdownHeadingCollapsed": true
   },
   "source": [
    "### Valor de la empresa (Valor Actual Neto) "
   ]
  },
  {
   "cell_type": "markdown",
   "id": "e8684633-2e42-4fd2-bb03-3f50c6273329",
   "metadata": {},
   "source": [
    "\r\n",
    "$$Enterprise Value =\r\n",
    "\\sum _{t=1}^{n} \\frac{FCFF_{t}}{(1+WACC_{t})^{t}} + \\frac{\\frac{FCFF_{n+1}}{(WACC_{n+1}-g_{n+1})}}{(1+WACC_{n})^{n}}\r\n",
    "$$\r\n",
    "\\]\r\n"
   ]
  },
  {
   "cell_type": "markdown",
   "id": "5271a4fb-2f54-472f-a444-5e909a78bba4",
   "metadata": {},
   "source": [
    "Donde: \\\n",
    "FCFF es el flujo de caja libre de la empresa (escencialmente es el flujo de caja operativo menos los gastos de capital CAPEX) reducido por impuestos \\\n",
    "WACC es el costo promedio ponderado del capital que combina el costo de capital y el costo de deuda despues de impuestos \\\n",
    "t es el periodo de tiempo \\\n",
    "n es el numero de periodos de tiempo hasta el vencimiento o salida \\\n",
    "g es la tasa de crecimiento sostenible en ese punto "
   ]
  },
  {
   "cell_type": "code",
   "execution_count": 47,
   "id": "81a8353e-51ac-44bd-a77e-3b102035e4d0",
   "metadata": {},
   "outputs": [
    {
     "data": {
      "text/plain": [
       "398.2098296644474"
      ]
     },
     "execution_count": 47,
     "metadata": {},
     "output_type": "execute_result"
    }
   ],
   "source": [
    "VAN=dfc_model.range('k40').value\n",
    "VAN"
   ]
  },
  {
   "cell_type": "markdown",
   "id": "4b4974ff-3db0-4153-8888-6bb360b042ea",
   "metadata": {},
   "source": [
    "<h2 style=\"color:#257524\">II MODELADO E INTERPRETACION</h2>\n",
    "Los datos están listos para ser utilizados y el modelo para ser construido. Aquí es donde comienza la parte divertida... ¡y “donde ocurre la magia”!"
   ]
  },
  {
   "cell_type": "markdown",
   "id": "abdaf4b5-d611-45fc-9899-887ddddca22d",
   "metadata": {
    "jp-MarkdownHeadingCollapsed": true
   },
   "source": [
    "### METODO MONTE CARLO USANDO PYTHON\n",
    "En finanzas, gestión de proyectos, energía, fabricación, investigación, análisis de riesgos y en muchas otras áreas, la simulación Monte Carlo se utiliza para medir o tener en cuenta el riesgo y la toma de decisiones. La simulación Monte Carlo consiste básicamente en construir miles de modelos con diferentes resultados de escenarios. Al utilizar distribuciones de probabilidad, las variables pueden tener diferentes probabilidades de que se produzcan diferentes resultados. Las distribuciones de probabilidad son una forma mucho más realista de describir la incertidumbre en las variables de un análisis de riesgo. Luego calcula los resultados una y otra vez, cada vez utilizando un conjunto diferente de valores aleatorios de las funciones de probabilidad. Dependiendo de la cantidad de incertidumbres y los rangos especificados para ellas, una simulación Monte Carlo podría implicar miles o decenas de miles de recálculos antes de que se complete. La simulación Monte Carlo produce distribuciones de posibles valores de resultados.\n",
    "\n",
    "Teniendo en cuenta la dificultad de hacer predicciones sobre lo que sucederá en el futuro, intentaré crear y utilizar tres simulaciones Monte Carlo diferentes que estén vinculadas entre sí.\n",
    "La primera simulación estará relacionada con los ingresos por ventas y se basa en los datos históricos de las ventas de la empresa. La segunda simulación es la de la tasa de crecimiento de las ventas (basada en los datos históricos de las ventas de la empresa).\n",
    "En la tercera simulación aplicaremos el resultado de la tasa de crecimiento de las ventas obtenido en la simulación anterior y calcularemos la simulación de Monte Carlo basándonos en los Flujos de Caja Descontados del modelo de Excel.\n",
    "Y la tercera simulación sería exactamente la que nos mostraría los resultados en cuanto al Valor de la Empresa en 5 años utilizando el método de Flujos de Caja Descontados y la simulación de Monte Carlo."
   ]
  },
  {
   "cell_type": "markdown",
   "id": "be2bdf74-475a-4e27-acb1-c34c75388c09",
   "metadata": {},
   "source": [
    "### Proyeccion de ingresos por ventas\n",
    "Y aquí está el comienzo de la construcción de mi primer modelo de simulación con respecto a la previsión de ingresos por ventas. En la parte siguiente, ejecutaremos la simulación y exportaremos el resultado en el archivo de Excel utilizado para el modelado. Parte del código utilizado para las siguientes 2 simulaciones proviene de LinkBuild de Rizwan Ahmed Surhio y se modificó un poco para adaptarse al estilo y los requisitos del proyecto actual.\n",
    "\n",
    "Al principio, carguemos los datos históricos del sitio web de la empresa en función de los informes financieros de la empresa. Estos datos se utilizarán para visualizar las tendencias históricas y calcular los valores promedio, mínimo y máximo y la desviación estándar."
   ]
  },
  {
   "cell_type": "code",
   "execution_count": 48,
   "id": "fa1dc630-05e7-4d25-b594-400024df71a6",
   "metadata": {},
   "outputs": [
    {
     "data": {
      "text/html": [
       "<div>\n",
       "<style scoped>\n",
       "    .dataframe tbody tr th:only-of-type {\n",
       "        vertical-align: middle;\n",
       "    }\n",
       "\n",
       "    .dataframe tbody tr th {\n",
       "        vertical-align: top;\n",
       "    }\n",
       "\n",
       "    .dataframe thead th {\n",
       "        text-align: right;\n",
       "    }\n",
       "</style>\n",
       "<table border=\"1\" class=\"dataframe\">\n",
       "  <thead>\n",
       "    <tr style=\"text-align: right;\">\n",
       "      <th></th>\n",
       "      <th>Year</th>\n",
       "      <th>Sales</th>\n",
       "    </tr>\n",
       "  </thead>\n",
       "  <tbody>\n",
       "    <tr>\n",
       "      <th>0</th>\n",
       "      <td>2002</td>\n",
       "      <td>2945.1</td>\n",
       "    </tr>\n",
       "    <tr>\n",
       "      <th>1</th>\n",
       "      <td>2003</td>\n",
       "      <td>3086.2</td>\n",
       "    </tr>\n",
       "    <tr>\n",
       "      <th>2</th>\n",
       "      <td>2004</td>\n",
       "      <td>3136.6</td>\n",
       "    </tr>\n",
       "    <tr>\n",
       "      <th>3</th>\n",
       "      <td>2005</td>\n",
       "      <td>3122.0</td>\n",
       "    </tr>\n",
       "    <tr>\n",
       "      <th>4</th>\n",
       "      <td>2006</td>\n",
       "      <td>3579.9</td>\n",
       "    </tr>\n",
       "    <tr>\n",
       "      <th>5</th>\n",
       "      <td>2007</td>\n",
       "      <td>3930.1</td>\n",
       "    </tr>\n",
       "    <tr>\n",
       "      <th>6</th>\n",
       "      <td>2008</td>\n",
       "      <td>3142.5</td>\n",
       "    </tr>\n",
       "    <tr>\n",
       "      <th>7</th>\n",
       "      <td>2009</td>\n",
       "      <td>1956.3</td>\n",
       "    </tr>\n",
       "    <tr>\n",
       "      <th>8</th>\n",
       "      <td>2010</td>\n",
       "      <td>2585.8</td>\n",
       "    </tr>\n",
       "    <tr>\n",
       "      <th>9</th>\n",
       "      <td>2011</td>\n",
       "      <td>1060.8</td>\n",
       "    </tr>\n",
       "    <tr>\n",
       "      <th>10</th>\n",
       "      <td>2012</td>\n",
       "      <td>888.5</td>\n",
       "    </tr>\n",
       "    <tr>\n",
       "      <th>11</th>\n",
       "      <td>2013</td>\n",
       "      <td>1035.3</td>\n",
       "    </tr>\n",
       "    <tr>\n",
       "      <th>12</th>\n",
       "      <td>2014</td>\n",
       "      <td>1153.4</td>\n",
       "    </tr>\n",
       "    <tr>\n",
       "      <th>13</th>\n",
       "      <td>2015</td>\n",
       "      <td>1036.8</td>\n",
       "    </tr>\n",
       "    <tr>\n",
       "      <th>14</th>\n",
       "      <td>2016</td>\n",
       "      <td>945.0</td>\n",
       "    </tr>\n",
       "    <tr>\n",
       "      <th>15</th>\n",
       "      <td>2017</td>\n",
       "      <td>965.6</td>\n",
       "    </tr>\n",
       "    <tr>\n",
       "      <th>16</th>\n",
       "      <td>2018</td>\n",
       "      <td>1075.2</td>\n",
       "    </tr>\n",
       "    <tr>\n",
       "      <th>17</th>\n",
       "      <td>2019</td>\n",
       "      <td>760.0</td>\n",
       "    </tr>\n",
       "    <tr>\n",
       "      <th>18</th>\n",
       "      <td>2020</td>\n",
       "      <td>573.0</td>\n",
       "    </tr>\n",
       "  </tbody>\n",
       "</table>\n",
       "</div>"
      ],
      "text/plain": [
       "    Year   Sales\n",
       "0   2002  2945.1\n",
       "1   2003  3086.2\n",
       "2   2004  3136.6\n",
       "3   2005  3122.0\n",
       "4   2006  3579.9\n",
       "5   2007  3930.1\n",
       "6   2008  3142.5\n",
       "7   2009  1956.3\n",
       "8   2010  2585.8\n",
       "9   2011  1060.8\n",
       "10  2012   888.5\n",
       "11  2013  1035.3\n",
       "12  2014  1153.4\n",
       "13  2015  1036.8\n",
       "14  2016   945.0\n",
       "15  2017   965.6\n",
       "16  2018  1075.2\n",
       "17  2019   760.0\n",
       "18  2020   573.0"
      ]
     },
     "execution_count": 48,
     "metadata": {},
     "output_type": "execute_result"
    }
   ],
   "source": [
    "#cargamos los datos historicos de ventas de la empresa\n",
    "ventas_actuales=pd.read_excel(\"Company Sales in Million CHF Data.xlsx\")\n",
    "ventas_actuales"
   ]
  },
  {
   "cell_type": "code",
   "execution_count": 49,
   "id": "9c75e42f-63ed-4184-9f89-4e4365652acd",
   "metadata": {},
   "outputs": [
    {
     "data": {
      "text/plain": [
       "' 573.00, 3930.10,  1946.22'"
      ]
     },
     "execution_count": 49,
     "metadata": {},
     "output_type": "execute_result"
    }
   ],
   "source": [
    "#calculamos la media,max,min de los datos obtenidos\n",
    "min_ventas=ventas_actuales[\"Sales\"].min()\n",
    "max_ventas=ventas_actuales[\"Sales\"].max()\n",
    "media_ventas=ventas_actuales['Sales'].mean()\n",
    "f\"{min_ventas: .2f},{max_ventas: .2f}, {media_ventas: .2f}\""
   ]
  },
  {
   "cell_type": "code",
   "execution_count": 50,
   "id": "4f6bb6d4-f1cc-461e-8dfa-c1ba57a77503",
   "metadata": {},
   "outputs": [
    {
     "data": {
      "text/plain": [
       "' 1148.56'"
      ]
     },
     "execution_count": 50,
     "metadata": {},
     "output_type": "execute_result"
    }
   ],
   "source": [
    "    #calculamos la desviacion estandar para trabajar con una distribucion gaussiana(normal) \n",
    "std_ventas=ventas_actuales['Sales'].std()\n",
    "f'{std_ventas: .2f}'"
   ]
  },
  {
   "cell_type": "code",
   "execution_count": 51,
   "id": "aab885db-8a7a-440b-8b5b-0fb5b0e6a7e4",
   "metadata": {},
   "outputs": [
    {
     "data": {
      "text/plain": [
       "'797.66,3094.78'"
      ]
     },
     "execution_count": 51,
     "metadata": {},
     "output_type": "execute_result"
    }
   ],
   "source": [
    "#en el supuesto que los ingresos por ventas siguen una distribucion normal\n",
    "#3l 80% de los datos de ventas de resultados posibles deben estar en el siguiente intervalo\n",
    "f'{media_ventas-std_ventas:.2f},{media_ventas+std_ventas:.2f}'\n"
   ]
  },
  {
   "cell_type": "code",
   "execution_count": 52,
   "id": "d161586f-68fd-437c-998d-58df0ff24632",
   "metadata": {},
   "outputs": [
    {
     "name": "stdout",
     "output_type": "stream",
     "text": [
      "['Solarize_Light2', '_classic_test_patch', '_mpl-gallery', '_mpl-gallery-nogrid', 'bmh', 'classic', 'dark_background', 'fast', 'fivethirtyeight', 'ggplot', 'grayscale', 'petroff10', 'seaborn-v0_8', 'seaborn-v0_8-bright', 'seaborn-v0_8-colorblind', 'seaborn-v0_8-dark', 'seaborn-v0_8-dark-palette', 'seaborn-v0_8-darkgrid', 'seaborn-v0_8-deep', 'seaborn-v0_8-muted', 'seaborn-v0_8-notebook', 'seaborn-v0_8-paper', 'seaborn-v0_8-pastel', 'seaborn-v0_8-poster', 'seaborn-v0_8-talk', 'seaborn-v0_8-ticks', 'seaborn-v0_8-white', 'seaborn-v0_8-whitegrid', 'tableau-colorblind10']\n"
     ]
    }
   ],
   "source": [
    "print(plt.style.available)"
   ]
  },
  {
   "cell_type": "code",
   "execution_count": 53,
   "id": "8a58dc4f-aadd-494c-b436-08dec0f08e02",
   "metadata": {},
   "outputs": [
    {
     "data": {
      "image/png": "[encoded data removed]",
      "text/plain": [
       "<Figure size 640x480 with 1 Axes>"
      ]
     },
     "metadata": {},
     "output_type": "display_data"
    }
   ],
   "source": [
    "#trazamos un histograma con los datos de ventas historicos\n",
    "plt.style.use('seaborn-v0_8-ticks')\n",
    "plt.hist(ventas_actuales['Sales'],bins=10)\n",
    "plt.xlabel(\"Ingresos por ventas en MCF\")\n",
    "plt.ylabel('Frecuencia')\n",
    "plt.axvline(media_ventas,label=f'Valor promedio: {media_ventas: .2f}', color='r')\n",
    "plt.title('Distribucion historica de ventas')\n",
    "plt.legend()\n",
    "plt.show()"
   ]
  },
  {
   "cell_type": "markdown",
   "id": "90c8f7a0-e94b-4f4b-aa99-115a92081470",
   "metadata": {},
   "source": [
    "En el histograma anterior, vemos la distribución de los ingresos por ventas históricos. No se trata de una distribución normal, pero al mismo tiempo tenemos una cantidad limitada de datos. Vemos que la mayoría de las ventas se encuentran en el rango inferior a 1500 millones de francos suizos, una cantidad muy limitada (2-3) en el rango de 1800-2600 millones de francos suizos y una cantidad alta por encima de los 2800 millones de francos suizos también. El valor promedio (media) está representado por la línea roja horizontal que muestra el valor 1946,22 millones de francos suizos."
   ]
  },
  {
   "cell_type": "code",
   "execution_count": 54,
   "id": "c83c98dc-6114-4598-bfee-8a7e54b8d734",
   "metadata": {},
   "outputs": [
    {
     "data": {
      "image/png": "[encoded data removed]",
      "text/plain": [
       "<Figure size 1500x800 with 1 Axes>"
      ]
     },
     "metadata": {},
     "output_type": "display_data"
    }
   ],
   "source": [
    "#trazamos un grafico segun los datos de ventas historicos\n",
    "ventas_actuales.plot(x='Year',y='Sales',kind='bar',colormap='viridis',fontsize=9,figsize=(15,8))\n",
    "plt.ylabel('Ingresos por ventas',fontsize=9)\n",
    "plt.title('Datos Historicos de Ingresos por Venta')\n",
    "plt.show()"
   ]
  },
  {
   "cell_type": "code",
   "execution_count": 55,
   "id": "8814d8d9-f477-4122-a7d7-e613e82198ae",
   "metadata": {},
   "outputs": [
    {
     "data": {
      "image/png": "[encoded data removed]",
      "text/plain": [
       "<Figure size 1200x500 with 1 Axes>"
      ]
     },
     "metadata": {},
     "output_type": "display_data"
    }
   ],
   "source": [
    "#Creamos un diagrama lineal que muestre la tendencia hisotorica de ventas\n",
    "ventas_actuales.plot(x='Year',y='Sales',kind='line',colormap='hsv',figsize=(12,5))\n",
    "plt.show()"
   ]
  },
  {
   "cell_type": "markdown",
   "id": "4ddac504-5d08-44cc-bf0a-989b34bc6349",
   "metadata": {},
   "source": [
    "Al revisar los gráficos de barras y líneas anteriores, veremos claramente la tendencia histórica que muestra una disminución en los ingresos por ventas.\n",
    "Las razones de la disminución pueden ser muy diferentes (incluida la crisis de COVID-19 y la crisis de 2008) y no son objeto del análisis del proyecto actual."
   ]
  },
  {
   "cell_type": "code",
   "execution_count": 56,
   "id": "4d71b0d4-ab1e-4fcb-9195-e0968e32ec03",
   "metadata": {},
   "outputs": [
    {
     "name": "stdout",
     "output_type": "stream",
     "text": [
      "Ventas Minimas:573.00\n",
      " Ventas Maximas: 3930.10\n",
      " Media de ventas: 1946.22\n"
     ]
    }
   ],
   "source": [
    "#vemos los valores calculados de promedio de ingresos de ventas, minimo, maximo del conjunto de datos de ventas_actuales\n",
    "print(f'Ventas Minimas:{min_ventas:.2f}\\n Ventas Maximas: {max_ventas:.2f}\\n Media de ventas: {media_ventas:.2f}' )"
   ]
  },
  {
   "cell_type": "markdown",
   "id": "75702e79-9c62-463e-8596-157be551888c",
   "metadata": {},
   "source": [
    "En las celdas que se muestran a continuación, comenzamos a compilar el código para la previsión de ingresos por ventas mediante la simulación de Monte Carlo y configuramos un ejemplo de umbrales relacionados con las ventas y la tasa de crecimiento. Para definir los valores del umbral, se utilizan las estadísticas de ventas anteriores con valor mínimo, medio y máximo."
   ]
  },
  {
   "cell_type": "markdown",
   "id": "5c7bd461-e0e9-44ea-9db1-a7d6bc9a434b",
   "metadata": {},
   "source": [
    "### Preparacion Inicial"
   ]
  },
  {
   "cell_type": "code",
   "execution_count": 57,
   "id": "ddd48110-74ec-4a99-b170-cf76c120f759",
   "metadata": {},
   "outputs": [],
   "source": [
    "iteraciones=10000\n",
    "umbral_de_ventas=[500, 700, 900, 1100, 1500, 2000]\n",
    "# Probabilidad/posibilidades de ingresos mayores a x cantidad en %.\n",
    "umbral_de_crecimiento =[0.05,0.07,0.10,0.13,0.15,0.20]"
   ]
  },
  {
   "cell_type": "markdown",
   "id": "1278ee44-331e-4550-9763-54b375ea49a5",
   "metadata": {},
   "source": [
    "### Visualizacion y resultados del pronostico\n",
    "Se calculara la media, y la desviacion standard y se extraera muestras aleatorias de una distribucion normal, que se utilizara para pronosticar\n",
    "ingresos de ventas. Asi mismo se calculara y presentara las estadisticas descriptivas y la impresion de resultados . Los datos generados por la \n",
    "simulacion se incluiran en el archivo de Excel."
   ]
  },
  {
   "cell_type": "code",
   "execution_count": 58,
   "id": "57a09a47-ea10-4a93-ae6c-26d296d91056",
   "metadata": {},
   "outputs": [],
   "source": [
    "#Se usara la media/promedio de los ingresos de años anteriores como punto de partida para el monto de ingresos esperados\n",
    "utilidad_media=ventas_actuales['Sales'].mean()\n",
    "utilidad_std=ventas_actuales['Sales'].std()\n",
    "#Calculo de probabilidades normales aleatorias es decir las simulaciones MonteCarlo\n",
    "utilidad_MonteCarlo=np.random.normal(utilidad_media,utilidad_std,iteraciones)\n",
    "ventas_df=pd.DataFrame(utilidad_MonteCarlo, columns=['Forecasted Sales Revenue'])\n",
    "min_ingresos=utilidad_MonteCarlo.min()\n",
    "max_ingresos=utilidad_MonteCarlo.max()\n",
    "media_ingresos=utilidad_MonteCarlo.mean()\n",
    "volatilidad_esperada=utilidad_MonteCarlo.std()\n",
    "\n",
    "#creamos una funcion para definir el color del encabezado\n",
    "def printmd(string,color='orange'):\n",
    "    colorstr=\"<span style='color:{}'></spna><span style='font-weight: bold'>{}</span>\".format(color, string)\n",
    "    display(Markdown(colorstr))\n",
    "    # Creación de estadísticas descriptivas con el resultado de la simulación de Ingresos por Ventas\n",
    "rev_stats = list(np.around(np.array([min_ingresos,max_ingresos,media_ingresos,volatilidad_esperada]),2))\n",
    "\n"
   ]
  },
  {
   "cell_type": "code",
   "execution_count": 59,
   "id": "c79544d0-096a-4c40-804e-5fef06794ecf",
   "metadata": {},
   "outputs": [
    {
     "data": {
      "text/html": [
       "<div>\n",
       "<style scoped>\n",
       "    .dataframe tbody tr th:only-of-type {\n",
       "        vertical-align: middle;\n",
       "    }\n",
       "\n",
       "    .dataframe tbody tr th {\n",
       "        vertical-align: top;\n",
       "    }\n",
       "\n",
       "    .dataframe thead th {\n",
       "        text-align: right;\n",
       "    }\n",
       "</style>\n",
       "<table border=\"1\" class=\"dataframe\">\n",
       "  <thead>\n",
       "    <tr style=\"text-align: right;\">\n",
       "      <th></th>\n",
       "      <th>Forecasted Sales Revenue</th>\n",
       "    </tr>\n",
       "  </thead>\n",
       "  <tbody>\n",
       "    <tr>\n",
       "      <th>0</th>\n",
       "      <td>2838.637582</td>\n",
       "    </tr>\n",
       "    <tr>\n",
       "      <th>1</th>\n",
       "      <td>4223.425175</td>\n",
       "    </tr>\n",
       "    <tr>\n",
       "      <th>2</th>\n",
       "      <td>1509.669702</td>\n",
       "    </tr>\n",
       "    <tr>\n",
       "      <th>3</th>\n",
       "      <td>1595.206933</td>\n",
       "    </tr>\n",
       "    <tr>\n",
       "      <th>4</th>\n",
       "      <td>2155.396955</td>\n",
       "    </tr>\n",
       "  </tbody>\n",
       "</table>\n",
       "</div>"
      ],
      "text/plain": [
       "   Forecasted Sales Revenue\n",
       "0               2838.637582\n",
       "1               4223.425175\n",
       "2               1509.669702\n",
       "3               1595.206933\n",
       "4               2155.396955"
      ]
     },
     "execution_count": 59,
     "metadata": {},
     "output_type": "execute_result"
    }
   ],
   "source": [
    "ventas_df.head()"
   ]
  },
  {
   "cell_type": "code",
   "execution_count": 60,
   "id": "1a3b2a93-1c58-428b-8c9d-f92fb347e34c",
   "metadata": {},
   "outputs": [
    {
     "data": {
      "text/plain": [
       "Sheets([<Sheet [Flujo_de_caja.xlsx]Simulation>, <Sheet [Flujo_de_caja.xlsx]Sales Forecast>, <Sheet [Flujo_de_caja.xlsx]Hoja1>])"
      ]
     },
     "execution_count": 60,
     "metadata": {},
     "output_type": "execute_result"
    }
   ],
   "source": [
    "#visualizamos las hojas existentes en el documento excel modelo\n",
    "dfc_file.sheets"
   ]
  },
  {
   "cell_type": "code",
   "execution_count": 61,
   "id": "1143c879-7a7d-4e87-af41-35dda458cdea",
   "metadata": {},
   "outputs": [
    {
     "data": {
      "text/plain": [
       "['Simulation', 'Sales Forecast', 'Hoja1']"
      ]
     },
     "execution_count": 61,
     "metadata": {},
     "output_type": "execute_result"
    }
   ],
   "source": [
    "# Tomar los nombres de las hojas en una nueva lista para verificar si la hoja ya existe\n",
    "sNamList=[sh.name for sh in dfc_file.sheets]\n",
    "sNamList"
   ]
  },
  {
   "cell_type": "code",
   "execution_count": 62,
   "id": "b146c884-9b15-4806-95e4-5cbcad4bae45",
   "metadata": {},
   "outputs": [],
   "source": [
    "#comprobamos si la hoja ya existe en el documento\n",
    "if 'Sales Forecast' in sNamList:\n",
    "    dfc_file.sheets('Sales Forecast').clear()\n",
    "else:\n",
    "    ventas_sim_sht=dfc_file.sheets.add('Sales Forecast')"
   ]
  },
  {
   "cell_type": "code",
   "execution_count": 63,
   "id": "8aa4f023-fe64-4d3d-81ef-cd3e912c3858",
   "metadata": {},
   "outputs": [],
   "source": [
    "if 'Simulation' in sNamList:\n",
    "    dfc_file.sheets('Simulation').clear()\n",
    "else:\n",
    "    simulation_sht=dfc_file.sheets.add('Simulation')"
   ]
  },
  {
   "cell_type": "code",
   "execution_count": 64,
   "id": "4fda324d-c164-4f53-a412-97231af1a693",
   "metadata": {},
   "outputs": [
    {
     "data": {
      "text/plain": [
       "<Sheet [Flujo_de_caja.xlsx]Sales Forecast>"
      ]
     },
     "execution_count": 64,
     "metadata": {},
     "output_type": "execute_result"
    }
   ],
   "source": [
    "#En las siguientes celdas prepararé y configuraré las hojas necesarias donde guardaré los datos de la simulación.\n",
    "ventas_sim_sht=dfc_file.sheets('Sales Forecast')\n",
    "ventas_sim_sht"
   ]
  },
  {
   "cell_type": "code",
   "execution_count": 65,
   "id": "ec294112-2aba-49ef-8297-7ee32d8603cf",
   "metadata": {},
   "outputs": [
    {
     "data": {
      "text/plain": [
       "<Sheet [Flujo_de_caja.xlsx]Simulation>"
      ]
     },
     "execution_count": 65,
     "metadata": {},
     "output_type": "execute_result"
    }
   ],
   "source": [
    "simulation_sht=dfc_file.sheets('Simulation')\n",
    "simulation_sht"
   ]
  },
  {
   "cell_type": "code",
   "execution_count": 66,
   "id": "cc114e0e-92d3-4bc2-878a-a978c43ef03c",
   "metadata": {},
   "outputs": [],
   "source": [
    "#guardamos los datos en el documento excel\n",
    "ventas_sim_sht.range('A1').options(pd.DataFrame,index=False).value=ventas_df"
   ]
  },
  {
   "cell_type": "code",
   "execution_count": 67,
   "id": "28d6256b-c617-4f40-b07e-881054b3d86b",
   "metadata": {},
   "outputs": [
    {
     "data": {
      "text/html": [
       "<div>\n",
       "<style scoped>\n",
       "    .dataframe tbody tr th:only-of-type {\n",
       "        vertical-align: middle;\n",
       "    }\n",
       "\n",
       "    .dataframe tbody tr th {\n",
       "        vertical-align: top;\n",
       "    }\n",
       "\n",
       "    .dataframe thead th {\n",
       "        text-align: right;\n",
       "    }\n",
       "</style>\n",
       "<table border=\"1\" class=\"dataframe\">\n",
       "  <thead>\n",
       "    <tr style=\"text-align: right;\">\n",
       "      <th></th>\n",
       "      <th>Forecasted Sales Revenue</th>\n",
       "    </tr>\n",
       "  </thead>\n",
       "  <tbody>\n",
       "    <tr>\n",
       "      <th>0</th>\n",
       "      <td>2838.637582</td>\n",
       "    </tr>\n",
       "    <tr>\n",
       "      <th>1</th>\n",
       "      <td>4223.425175</td>\n",
       "    </tr>\n",
       "    <tr>\n",
       "      <th>2</th>\n",
       "      <td>1509.669702</td>\n",
       "    </tr>\n",
       "    <tr>\n",
       "      <th>3</th>\n",
       "      <td>1595.206933</td>\n",
       "    </tr>\n",
       "    <tr>\n",
       "      <th>4</th>\n",
       "      <td>2155.396955</td>\n",
       "    </tr>\n",
       "  </tbody>\n",
       "</table>\n",
       "</div>"
      ],
      "text/plain": [
       "   Forecasted Sales Revenue\n",
       "0               2838.637582\n",
       "1               4223.425175\n",
       "2               1509.669702\n",
       "3               1595.206933\n",
       "4               2155.396955"
      ]
     },
     "execution_count": 67,
     "metadata": {},
     "output_type": "execute_result"
    }
   ],
   "source": [
    "ventas_df.head()"
   ]
  },
  {
   "cell_type": "code",
   "execution_count": 68,
   "id": "59f4323f-2eb1-462f-aa65-98ab6a669d71",
   "metadata": {},
   "outputs": [
    {
     "data": {
      "text/html": [
       "<div>\n",
       "<style scoped>\n",
       "    .dataframe tbody tr th:only-of-type {\n",
       "        vertical-align: middle;\n",
       "    }\n",
       "\n",
       "    .dataframe tbody tr th {\n",
       "        vertical-align: top;\n",
       "    }\n",
       "\n",
       "    .dataframe thead th {\n",
       "        text-align: right;\n",
       "    }\n",
       "</style>\n",
       "<table border=\"1\" class=\"dataframe\">\n",
       "  <thead>\n",
       "    <tr style=\"text-align: right;\">\n",
       "      <th></th>\n",
       "      <th>Forecasted Sales Revenue</th>\n",
       "    </tr>\n",
       "  </thead>\n",
       "  <tbody>\n",
       "    <tr>\n",
       "      <th>count</th>\n",
       "      <td>10000.000000</td>\n",
       "    </tr>\n",
       "    <tr>\n",
       "      <th>mean</th>\n",
       "      <td>1953.821319</td>\n",
       "    </tr>\n",
       "    <tr>\n",
       "      <th>std</th>\n",
       "      <td>1145.045241</td>\n",
       "    </tr>\n",
       "    <tr>\n",
       "      <th>min</th>\n",
       "      <td>-2282.887266</td>\n",
       "    </tr>\n",
       "    <tr>\n",
       "      <th>25%</th>\n",
       "      <td>1177.208043</td>\n",
       "    </tr>\n",
       "    <tr>\n",
       "      <th>50%</th>\n",
       "      <td>1964.076590</td>\n",
       "    </tr>\n",
       "    <tr>\n",
       "      <th>75%</th>\n",
       "      <td>2725.249423</td>\n",
       "    </tr>\n",
       "    <tr>\n",
       "      <th>max</th>\n",
       "      <td>6265.694540</td>\n",
       "    </tr>\n",
       "  </tbody>\n",
       "</table>\n",
       "</div>"
      ],
      "text/plain": [
       "       Forecasted Sales Revenue\n",
       "count              10000.000000\n",
       "mean                1953.821319\n",
       "std                 1145.045241\n",
       "min                -2282.887266\n",
       "25%                 1177.208043\n",
       "50%                 1964.076590\n",
       "75%                 2725.249423\n",
       "max                 6265.694540"
      ]
     },
     "execution_count": 68,
     "metadata": {},
     "output_type": "execute_result"
    }
   ],
   "source": [
    "#estadisticas descriptivas (variante 2)\n",
    "ventas_stat=ventas_df.describe()\n",
    "ventas_stat\n",
    "\n"
   ]
  },
  {
   "cell_type": "code",
   "execution_count": 69,
   "id": "ea79cacc-85d5-45c5-8b6b-5538ce98d7c3",
   "metadata": {},
   "outputs": [],
   "source": [
    "ventas_sim_sht.range('C1').value=ventas_stat"
   ]
  },
  {
   "cell_type": "code",
   "execution_count": 70,
   "id": "fc6918cc-3dd5-452f-b41a-8feb4d9fa81e",
   "metadata": {},
   "outputs": [],
   "source": [
    "#definimos los rangos de celdas que se formatearan: los datos de salida de la simulacion\n",
    "ventas_out_range=ventas_sim_sht.range('A1').expand() #las 3 primeras columnas completas, datos de la primera columna\n",
    "ventas_out_header_range=ventas_sim_sht.range('A1').expand('right')  #las cabeceras en A,B columnas, cabecera de \n",
    "ventas_out_data_range=ventas_sim_sht.range('A2').expand() #solo los datos de las columnas sin cabecera\n",
    "\n",
    "# Definir el rango a formatear desde el marco de datos de estadísticas descriptivas\n",
    "ventas_stats_range=ventas_sim_sht.range('C1').expand()\n",
    "ventas_stats_header_range=ventas_sim_sht.range('D1').expand('right')\n",
    "ventas_stats_data_range=ventas_sim_sht.range('D2').expand()\n",
    "ventas_stats_name_range=ventas_sim_sht.range('C2').expand('down')\n"
   ]
  },
  {
   "cell_type": "code",
   "execution_count": 71,
   "id": "338a8fc4-f5f0-4b98-8f81-2f0f1e37e4dc",
   "metadata": {},
   "outputs": [],
   "source": [
    "#fuente y tamaño\n",
    "header=[ventas_out_header_range,ventas_stats_header_range,ventas_stats_name_range]\n",
    "\n",
    "for cells in header:\n",
    "    cells.api.Font.Name='Arial'\n",
    "    cells.api.Font.Size = 11\n",
    "    cells.api.Font.Bold= True\n",
    "    cells.color = rgb_to_int((35, 17, 35))  # the background color\n",
    "    cells.api.Font.Color= rgb_to_int((239, 247, 255))  # font color\n",
    "    cells.column_width = 13\n",
    "    cells.api.WrapText = True"
   ]
  },
  {
   "cell_type": "code",
   "execution_count": 72,
   "id": "5906c9f9-63ee-43ee-a257-16adfa095b84",
   "metadata": {},
   "outputs": [],
   "source": [
    "#aplicar alineacion central\n",
    "ventas_out_range.api.HorizontalAlignment = xw.constants.HAlign.xlHAlignCenter\n",
    "ventas_stats_range.api.HorizontalAlignment = xw.constants.HAlign.xlHAlignCenter"
   ]
  },
  {
   "cell_type": "code",
   "execution_count": 73,
   "id": "abb3b439-e36e-4ed2-bc14-229d2d2f42fc",
   "metadata": {},
   "outputs": [],
   "source": [
    "ventas_stats_name_range.color=(130, 32, 74)\n",
    "ventas_stats_name_range.autofit()"
   ]
  },
  {
   "cell_type": "code",
   "execution_count": 74,
   "id": "bb56a147-3e32-4269-95e6-28b2086f3962",
   "metadata": {},
   "outputs": [],
   "source": [
    "#se da formato a los numeros\n",
    "ventas_out_data_range.number_format='0,00'\n",
    "ventas_stats_data_range.number_format='0,00'\n",
    "#damos un color de fondo\n",
    "ventas_out_data_range.color=rgb_to_int((124, 152, 179))\n",
    "ventas_stats_data_range.color=rgb_to_int((172, 203, 225))\n",
    "ventas_stats_name_range.color=rgb_to_int((99, 112, 129))"
   ]
  },
  {
   "cell_type": "code",
   "execution_count": 75,
   "id": "4bc4cac8-a96a-4496-83ea-8b3b015ef89f",
   "metadata": {},
   "outputs": [],
   "source": [
    "for border_id in range(7,13):\n",
    "    ventas_out_data_range.api.Borders(border_id).Color = 0xFFFFFF # white border frame\n",
    "    ventas_out_data_range.api.Borders(border_id).Weight = 2 # thin border\n",
    "    \n",
    "    ventas_out_data_range.api.Borders(border_id).Color = 0xFFFFFF # white border frame\n",
    "    ventas_out_data_range.api.Borders(border_id).Weight = 2 # thin border"
   ]
  },
  {
   "cell_type": "markdown",
   "id": "be6a9694-3221-42f8-bb9d-2766a1c9b2ff",
   "metadata": {},
   "source": [
    "Ahora visualicemos el resultado de la simulación en un gráfico que luego será copiado en el modelo."
   ]
  },
  {
   "cell_type": "code",
   "execution_count": 76,
   "id": "efa4188d-0fba-4324-9b9b-2c79f77859f7",
   "metadata": {},
   "outputs": [
    {
     "data": {
      "text/markdown": [
       "<span style='color:orange'></spna><span style='font-weight: bold'>RESULTADOS</span>"
      ],
      "text/plain": [
       "<IPython.core.display.Markdown object>"
      ]
     },
     "metadata": {},
     "output_type": "display_data"
    },
    {
     "name": "stdout",
     "output_type": "stream",
     "text": [
      "\n",
      "El mayor movimiento de ingresos $  (1 Standard Deviation) esta entre 3098.81 y 808.83 en el area de color gris\n"
     ]
    },
    {
     "data": {
      "image/png": "[encoded data removed]",
      "text/plain": [
       "<Figure size 1800x900 with 1 Axes>"
      ]
     },
     "metadata": {},
     "output_type": "display_data"
    }
   ],
   "source": [
    "printmd(\"RESULTADOS\")\n",
    "#Creamos el diagrama con el resultado de las simulaciones de ventas\n",
    "fig=plt.figure(dpi=150,figsize=(12,6))\n",
    "fig.patch.set_facecolor('white')\n",
    "plt.title('Simulacion MonteCarlo de ventas',fontsize=14)\n",
    "plt.plot(media_ingresos,linewidth=5,c='red',label='Promedio')\n",
    "plt.legend(loc='upper left')\n",
    "\n",
    "plt.grid()\n",
    "plt.grid(color='yellow',linestyle=':',linewidth=0.5)\n",
    "\n",
    "plt.xlabel('Numero de simulaciones',fontsize=9)\n",
    "plt.ylabel('Ganancia por ventas',fontsize=9)\n",
    "\n",
    "plt.plot(utilidad_MonteCarlo,linewidth=0.7,color='salmon')\n",
    "plt.axhline(y=media_ingresos,linewidth=1.5,color='red',linestyle='-')\n",
    "\n",
    "# Añadiendo el área gris oscura a la figura que representa la distribución\n",
    "plt.axhspan(media_ingresos-volatilidad_esperada,\n",
    "            media_ingresos+volatilidad_esperada, facecolor='0.7',alpha=0.7)\n",
    "plt.legend(loc='lower left',fontsize=9)\n",
    "x_pos=1\n",
    "y_pos=media_ingresos+(2.8*volatilidad_esperada)\n",
    "plt.text(x_pos,y_pos, '- Nivel Minimo: {}\\n'\n",
    "                        '- Nivel Maximo: {} \\n'\n",
    "                         '- Nivel Promedio: {} \\n'\n",
    "                          '- Volatilidad : {})'\n",
    "                             .format(rev_stats[0], rev_stats[1], rev_stats[2], rev_stats[3]) ,fontsize=10)\n",
    "low_vol=media_ingresos-volatilidad_esperada\n",
    "high_vol=media_ingresos+volatilidad_esperada\n",
    "\n",
    "rev_mov=list(np.around(np.array([high_vol,low_vol]),2))\n",
    "print('')\n",
    "print('El mayor movimiento de ingresos $  (1 Standard Deviation) esta entre {} y {} en el area de color gris'.format(rev_mov[0],rev_mov[1]))\n"
   ]
  },
  {
   "cell_type": "code",
   "execution_count": 77,
   "id": "c4b06784-49a9-42d2-81f1-efc3c5673cdc",
   "metadata": {},
   "outputs": [
    {
     "data": {
      "text/plain": [
       "<Picture 'SalesForecast' in <Sheet [Flujo_de_caja.xlsx]Sales Forecast>>"
      ]
     },
     "execution_count": 77,
     "metadata": {},
     "output_type": "execute_result"
    }
   ],
   "source": [
    "#llevamos la figura al archivo de excel\n",
    "rng1=dfc_file.sheets['Sales Forecast'].range('F1')\n",
    "ventas_sim_sht.pictures.add(fig,name='SalesForecast',update=True,top=rng1.top,left=rng1.left)"
   ]
  },
  {
   "cell_type": "markdown",
   "id": "7f4fddb6-8455-47ff-8621-b90f64c5a13c",
   "metadata": {},
   "source": [
    "El diagrama anterior se asemeja a un electrocardiograma, especialmente si el número de iteraciones es bajo. En el gráfico se puede ver el resultado de cada simulación. Los valores varían considerablemente, desde valores negativos de ingresos hasta valores positivos altos (por ejemplo, de -2000 MCHF a +6000 MCHF).\n",
    "Dependiendo del número de simulaciones, las líneas del gráfico prácticamente se fusionan, lo que dificulta la lectura del valor exacto correspondiente a cada iteración.\n",
    "Cuanto mayor sea el número de simulaciones, más se asemeja el diagrama a un gráfico de sonido (esta es mi asociación visual).\n"
   ]
  },
  {
   "cell_type": "markdown",
   "id": "c1bb21db-6af5-4089-a1de-1c40ebf6e219",
   "metadata": {},
   "source": [
    "### Desarrollo de posibilidades de ingreso\n",
    "Aqui veremos las diferentes formas que tienen los ingresos especificados en la variable umbral.\n",
    "El objetivo del codigo a continuacion es presentar el resultado en una vista estadistica clara"
   ]
  },
  {
   "cell_type": "code",
   "execution_count": 78,
   "id": "ce509e5a-34c8-467f-92d0-dccb7fc1c168",
   "metadata": {},
   "outputs": [
    {
     "data": {
      "text/markdown": [
       "<span style='color:orange'></spna><span style='font-weight: bold'>RESULTADOS</span>"
      ],
      "text/plain": [
       "<IPython.core.display.Markdown object>"
      ]
     },
     "metadata": {},
     "output_type": "display_data"
    },
    {
     "name": "stdout",
     "output_type": "stream",
     "text": [
      "Ingresos Esperados(MCHF): \n",
      " Ingreso Minimo: -2282.89 MCHF \n",
      " Ingreso Maximo: 6265.69 MCHF\n",
      " Ingreso Promedio: 1953.82 MCHF \n",
      " Volatilidad: 1144.99 MCHF\n",
      "\n"
     ]
    },
    {
     "data": {
      "text/markdown": [
       "<span style='color:orange'></spna><span style='font-weight: bold'>POSIBILIDADES DE IMPORTE DE INGRESOS</span>"
      ],
      "text/plain": [
       "<IPython.core.display.Markdown object>"
      ]
     },
     "metadata": {},
     "output_type": "display_data"
    },
    {
     "name": "stdout",
     "output_type": "stream",
     "text": [
      "Probabilidad de ingresos mayores a 500 MCHF:89.96%\n",
      "Probabilidad de ingresos mayores a 700 MCHF:86.15%\n",
      "Probabilidad de ingresos mayores a 900 MCHF:82.09%\n",
      "Probabilidad de ingresos mayores a 1100 MCHF:77.29%\n",
      "Probabilidad de ingresos mayores a 1500 MCHF:65.7%\n",
      "Probabilidad de ingresos mayores a 2000 MCHF:48.66%\n",
      "\n",
      "Mayor movimiento de ingresos en  MCHF (1 Desviacion Standard) entre 3098.81 y 808.83 en el area gris.\n"
     ]
    }
   ],
   "source": [
    "printmd('RESULTADOS')\n",
    "print(\"Ingresos Esperados(MCHF): \\n Ingreso Minimo: {} MCHF \\n Ingreso Maximo: {} MCHF\"\n",
    "     \"\\n Ingreso Promedio: {} MCHF \\n Volatilidad: {} MCHF\"\n",
    "     .format(rev_stats[0],rev_stats[1],rev_stats[2],rev_stats[3]))\n",
    "print('')\n",
    "# Esta es la función que calculará las diferentes posibilidades en función de los umbrales predefinidos.\n",
    "def rev_possibilities(data,monte_carlo,iteraciones):\n",
    "    for i in data:\n",
    "        per=[]\n",
    "        threshold=[] #liminte\n",
    "        ### Verificar si los ingresos son mayores que el umbral de ingresos, es decir, 500 MCHF\n",
    "        above_certain=monte_carlo[np.where(monte_carlo>i)]\n",
    "        ##Verificamos cuantas veces aparecen los ingresos umbral en la lista\n",
    "        ##Divido por el total de iteraciones para encontrar la probabilidad\n",
    "        percentage=round((above_certain.size/iteraciones*100),2)\n",
    "        per.append(percentage)\n",
    "        threshold.append(i)\n",
    "        print(\"Probabilidad de ingresos mayores a {} MCHF:{}%\".format(i,percentage))\n",
    "\n",
    "printmd('POSIBILIDADES DE IMPORTE DE INGRESOS')\n",
    "rev_possibilities(umbral_de_ventas,utilidad_MonteCarlo,iteraciones)\n",
    "low_vol=media_ingresos-volatilidad_esperada\n",
    "high_vol=media_ingresos+volatilidad_esperada\n",
    "rev_mov=list(np.around(np.array([high_vol,low_vol]),2))\n",
    "print('')\n",
    "print('Mayor movimiento de ingresos en  MCHF (1 Desviacion Standard) entre {} y {} en el area gris.'.format(rev_mov[0],rev_mov[1]))\n"
   ]
  },
  {
   "cell_type": "markdown",
   "id": "5d497ca0-1a2f-4aae-a149-79b8f597963e",
   "metadata": {},
   "source": [
    "Intentemos visualizar los datos de ventas pronosticados con un histograma (el primer gráfico de la figura a continuación).\n",
    "Cuanto mayor sea el número de iteraciones, más cercano será el resultado a la distribución normal.\n",
    "En el histograma, podemos ver el valor promedio representado por la línea roja horizontal.\n",
    "\n",
    "Cuantas más simulaciones hagamos, mejor representaremos la realidad, y el histograma mostrará una forma más clara y precisa de la distribución de ventas esperadas. 🚀"
   ]
  },
  {
   "cell_type": "code",
   "execution_count": 79,
   "id": "3c9bc5df-c7dc-4d90-be12-764c91822b8d",
   "metadata": {},
   "outputs": [
    {
     "data": {
      "image/png": "[encoded data removed]",
      "text/plain": [
       "<Figure size 1200x500 with 2 Axes>"
      ]
     },
     "metadata": {},
     "output_type": "display_data"
    }
   ],
   "source": [
    "sim_figura_ventas=plt.figure(figsize=(12,5))\n",
    "\n",
    "plt.subplot(1,2,1)\n",
    "#Histograma del valor estimado de la empresa\n",
    "plt.hist(ventas_df['Forecasted Sales Revenue'],density=True,bins=100) #bins divide en segmentos \n",
    "#inplace sirve para modificar de forma directa el df\n",
    "#axis 0 fila, axis 1 columna\n",
    "plt.xlabel(\"Ingresos por ventas\")\n",
    "plt.ylabel('Frecuencia')\n",
    "plt.title('Distribucion de ingresos por ventas', fontsize=12)\n",
    "plt.axvline(ventas_df['Forecasted Sales Revenue'].mean(), label=f'Valor Medio:{rev_stats[2]:.2f}',color='r')\n",
    "plt.legend()\n",
    "\n",
    "plt.subplot(1,2,2)\n",
    "x=np.sort(ventas_df['Forecasted Sales Revenue'])\n",
    "y=np.arange(1,len(x)+1/len(x))\n",
    "plt.plot(x,y,marker='.',linestyle='none')\n",
    "plt.xlabel('Ingreso de ventas pronosticado')\n",
    "plt.ylabel('Probabilidad')\n",
    "plt.title('Funcion de distribucion acumulativa')\n",
    "plt.show()"
   ]
  },
  {
   "cell_type": "code",
   "execution_count": 80,
   "id": "e335803a-a309-4f95-8b91-5a6cba2b6eba",
   "metadata": {},
   "outputs": [
    {
     "data": {
      "text/plain": [
       "<Picture 'Sales Forecast Histogram & CDF' in <Sheet [Flujo_de_caja.xlsx]Sales Forecast>>"
      ]
     },
     "execution_count": 80,
     "metadata": {},
     "output_type": "execute_result"
    }
   ],
   "source": [
    "#llevamos los graficos a excel\n",
    "rng2=dfc_file.sheets['Sales Forecast'].range('F27')\n",
    "ventas_sim_sht.pictures.add(sim_figura_ventas,name='Sales Forecast Histogram & CDF', update=True,top=rng2.top,left=rng2.left)"
   ]
  },
  {
   "cell_type": "code",
   "execution_count": 81,
   "id": "0f19a531-980d-4eae-8a54-7dea76e9dfc9",
   "metadata": {},
   "outputs": [
    {
     "data": {
      "text/plain": [
       "1953.82"
      ]
     },
     "execution_count": 81,
     "metadata": {},
     "output_type": "execute_result"
    }
   ],
   "source": [
    "rev_stats[2]"
   ]
  },
  {
   "cell_type": "markdown",
   "id": "cd764691-dd76-4ddf-998a-56d765cebd6d",
   "metadata": {},
   "source": [
    "#### Funcion de distribucion acumulada\n",
    "La función de distribución acumulativa (FDA) de una variable aleatoria es otro método para describir la distribución de variables aleatorias. La ventaja de la FDA es que puede definirse para cualquier tipo de variable aleatoria.\n",
    "La función de distribución acumulativa (FDA) de la variable aleatoria X se define como: \\\n",
    "<h5 style=\"text-align:center\">FX(x)=P(X<=x)</h5>"
   ]
  },
  {
   "cell_type": "markdown",
   "id": "27f0a71b-0bfb-4ffd-bad8-df9f88a6f1d9",
   "metadata": {},
   "source": [
    "Para todo x perteneciente a los reales R,Muestra la probabilidad de que el valor de la empresa caiga por debajo de un nivel de riesgo.\n",
    "Este es el segundo diagrama que visualiza los datos calculados anteriormente.\\\n",
    "Por ejemplo, en el segundo gráfico de la figura anterior, podemos ver que hay un 20 % de probabilidad de que el volumen de ventas sea inferior a 1000 millones de francos suizos (MMHF), inferior a 2000 millones de francos suizos (MMHF), alrededor del 50 %, etc."
   ]
  },
  {
   "cell_type": "markdown",
   "id": "6506b90c-805d-49bd-a947-3f44c204e450",
   "metadata": {},
   "source": [
    "<h4 style=\"color:#0ce787\">2. SIMULACION DE LA TASA DE CRECIMIENTO DE VENTAS</h4>"
   ]
  },
  {
   "cell_type": "markdown",
   "id": "fa2ca0dc-4c89-4ad8-9b75-826c60c546aa",
   "metadata": {},
   "source": [
    "Ahora realizaremos la simulacion de Monte Carlo, sobre la tasa de crecimiento de ventas. Nuevamente parte del codigo utilizado para\n",
    "las dos siguientes simulaciones proviene de Rizwan Ahmed Surhio y se modifico para adaptarse al estilo y los requisitos actuales\n",
    "del proyecto.\n",
    "El resultado de esta simulacion se utilizara como entrada de la simulacion final, que calculara el valor de la empresa segun el metodo \n",
    "de flujo de caja descontado."
   ]
  },
  {
   "cell_type": "markdown",
   "id": "3dd679b4-e462-4efd-b79b-e5d85ac0d3e3",
   "metadata": {},
   "source": [
    "Utilizaremos np para la generación inicial de la tasa de crecimiento basada en los datos históricos de ventas.\n",
    "\n",
    "<li>np.exp: calcula la exponencial de todos los elementos del array de entrada.</li>\n",
    "<li>np.diff: calcula la n-ésima diferencia discreta a lo largo del eje dado. La primera diferencia viene dada por out[i] = a[i+1] - a[i] a lo largo del eje dado. Las diferencias mayores se calculan utilizando diff recursivamente. Ejemplos: x = np.array([1,2,4,7,0]) np.diff(x) array([1,2,3,-7])</li>\n",
    "<li>np.log: logaritmo neperiano, elemento por elemento. El logaritmo neperiano es el inverso de la función exponencial, por lo que log(exp(x)) = x. El logaritmo neperiano es un logaritmo en base e.</li>\n"
   ]
  },
  {
   "cell_type": "code",
   "execution_count": 82,
   "id": "8725197b-2272-4195-92c5-1cff5b6d94ef",
   "metadata": {},
   "outputs": [],
   "source": [
    "# Cálculo de la tasa de crecimiento de ventas utilizando los datos históricos de ventas; esta es la tendencia histórica\n",
    "tasa_crecimiento=np.exp(np.diff(np.log(ventas_actuales['Sales'])))-1\n",
    "t_crec_df=pd.DataFrame(tasa_crecimiento,columns=['Tasa de crecimiento historico'])\n",
    "#calculamos la media y desviacion standard\n",
    "tasa_crecimiento_media=tasa_crecimiento.mean()\n",
    "tasa_crecimiento_std=tasa_crecimiento.std()\n",
    "# Generación de la simulación basada en números aleatorios (Distribución Normal) y el número predefinido de iteraciones\n",
    "crecimiento_monte_carlo=np.random.normal(tasa_crecimiento_media,tasa_crecimiento_std,iteraciones)\n",
    "crecimiento_df=pd.DataFrame(crecimiento_monte_carlo,columns=['Crecimiento de ventas previsto'])\n",
    "\n",
    "min_crecimiento=crecimiento_monte_carlo.min()\n",
    "max_crecimiento=crecimiento_monte_carlo.max()\n",
    "promedio_ingresos_crecimiento=crecimiento_monte_carlo.mean()\n",
    "volatilidad_esperada_c=crecimiento_monte_carlo.std()"
   ]
  },
  {
   "cell_type": "code",
   "execution_count": 83,
   "id": "a552f5e8-4cca-45e0-a482-666da1c5b4e3",
   "metadata": {},
   "outputs": [
    {
     "data": {
      "text/html": [
       "<div>\n",
       "<style scoped>\n",
       "    .dataframe tbody tr th:only-of-type {\n",
       "        vertical-align: middle;\n",
       "    }\n",
       "\n",
       "    .dataframe tbody tr th {\n",
       "        vertical-align: top;\n",
       "    }\n",
       "\n",
       "    .dataframe thead th {\n",
       "        text-align: right;\n",
       "    }\n",
       "</style>\n",
       "<table border=\"1\" class=\"dataframe\">\n",
       "  <thead>\n",
       "    <tr style=\"text-align: right;\">\n",
       "      <th></th>\n",
       "      <th>Crecimiento de ventas previsto</th>\n",
       "    </tr>\n",
       "  </thead>\n",
       "  <tbody>\n",
       "    <tr>\n",
       "      <th>0</th>\n",
       "      <td>-0.231346</td>\n",
       "    </tr>\n",
       "    <tr>\n",
       "      <th>1</th>\n",
       "      <td>-0.225810</td>\n",
       "    </tr>\n",
       "    <tr>\n",
       "      <th>2</th>\n",
       "      <td>0.185413</td>\n",
       "    </tr>\n",
       "    <tr>\n",
       "      <th>3</th>\n",
       "      <td>-0.000130</td>\n",
       "    </tr>\n",
       "    <tr>\n",
       "      <th>4</th>\n",
       "      <td>0.249577</td>\n",
       "    </tr>\n",
       "  </tbody>\n",
       "</table>\n",
       "</div>"
      ],
      "text/plain": [
       "   Crecimiento de ventas previsto\n",
       "0                       -0.231346\n",
       "1                       -0.225810\n",
       "2                        0.185413\n",
       "3                       -0.000130\n",
       "4                        0.249577"
      ]
     },
     "execution_count": 83,
     "metadata": {},
     "output_type": "execute_result"
    }
   ],
   "source": [
    "crecimiento_df.head()"
   ]
  },
  {
   "cell_type": "code",
   "execution_count": 84,
   "id": "0130a166-b1dc-4327-ad65-11094c477899",
   "metadata": {},
   "outputs": [
    {
     "data": {
      "text/html": [
       "<div>\n",
       "<style scoped>\n",
       "    .dataframe tbody tr th:only-of-type {\n",
       "        vertical-align: middle;\n",
       "    }\n",
       "\n",
       "    .dataframe tbody tr th {\n",
       "        vertical-align: top;\n",
       "    }\n",
       "\n",
       "    .dataframe thead th {\n",
       "        text-align: right;\n",
       "    }\n",
       "</style>\n",
       "<table border=\"1\" class=\"dataframe\">\n",
       "  <thead>\n",
       "    <tr style=\"text-align: right;\">\n",
       "      <th></th>\n",
       "      <th>Tasa de crecimiento historico</th>\n",
       "    </tr>\n",
       "  </thead>\n",
       "  <tbody>\n",
       "    <tr>\n",
       "      <th>13</th>\n",
       "      <td>-0.088542</td>\n",
       "    </tr>\n",
       "    <tr>\n",
       "      <th>14</th>\n",
       "      <td>0.021799</td>\n",
       "    </tr>\n",
       "    <tr>\n",
       "      <th>15</th>\n",
       "      <td>0.113505</td>\n",
       "    </tr>\n",
       "    <tr>\n",
       "      <th>16</th>\n",
       "      <td>-0.293155</td>\n",
       "    </tr>\n",
       "    <tr>\n",
       "      <th>17</th>\n",
       "      <td>-0.246053</td>\n",
       "    </tr>\n",
       "  </tbody>\n",
       "</table>\n",
       "</div>"
      ],
      "text/plain": [
       "    Tasa de crecimiento historico\n",
       "13                      -0.088542\n",
       "14                       0.021799\n",
       "15                       0.113505\n",
       "16                      -0.293155\n",
       "17                      -0.246053"
      ]
     },
     "execution_count": 84,
     "metadata": {},
     "output_type": "execute_result"
    }
   ],
   "source": [
    "# Visualización de la tendencia de la tasa de crecimiento en formato de tabla\n",
    "t_crec_df.tail()"
   ]
  },
  {
   "cell_type": "code",
   "execution_count": 85,
   "id": "862b032d-3d1c-469b-87fb-83bb308b4ded",
   "metadata": {},
   "outputs": [
    {
     "data": {
      "text/plain": [
       "['Simulation', 'Sales Forecast', 'Hoja1']"
      ]
     },
     "execution_count": 85,
     "metadata": {},
     "output_type": "execute_result"
    }
   ],
   "source": [
    "# Tomar los nombres de las hojas en una nueva lista para verificar si la hoja ya existe \n",
    "sNamList=[sh.name for sh in dfc_file.sheets]\n",
    "sNamList"
   ]
  },
  {
   "cell_type": "code",
   "execution_count": 86,
   "id": "6f843d47-2893-4256-852f-21ef3bade2ff",
   "metadata": {},
   "outputs": [],
   "source": [
    "# Ahora se creará/borrará la nueva hoja para la simulación de la tasa de crecimiento en el archivo de Excel de trabajo.\n",
    "# Se comprobará si la hoja que necesitamos ya existe en el archivo de Excel.\n",
    "if 'Growth Forecast' in sNamList:\n",
    "    dfc_file.sheets('Growth Forecast').clear()\n",
    "else:\n",
    "    crec_sim_sht=dfc_file.sheets.add('Growth Forecast')"
   ]
  },
  {
   "cell_type": "code",
   "execution_count": 87,
   "id": "8db6b817-d97b-4161-8ff0-6bb0a97212ec",
   "metadata": {},
   "outputs": [
    {
     "data": {
      "text/plain": [
       "<Sheet [Flujo_de_caja.xlsx]Growth Forecast>"
      ]
     },
     "execution_count": 87,
     "metadata": {},
     "output_type": "execute_result"
    }
   ],
   "source": [
    "crec_sim_sht=dfc_file.sheets('Growth Forecast')\n",
    "crec_sim_sht"
   ]
  },
  {
   "cell_type": "code",
   "execution_count": 88,
   "id": "27995e23-b779-4871-a381-007a74625e54",
   "metadata": {},
   "outputs": [],
   "source": [
    "#guardando los datos en el documento excel\n",
    "crec_sim_sht.range('A1').options(pd.DataFrame, index=False).value=crecimiento_df"
   ]
  },
  {
   "cell_type": "code",
   "execution_count": 89,
   "id": "de194ed4-24df-49ba-83e5-375c49b648a7",
   "metadata": {},
   "outputs": [],
   "source": [
    "crec_sim_sht.range('C1').options(pd.DataFrame, index=False).value=t_crec_df"
   ]
  },
  {
   "cell_type": "code",
   "execution_count": 90,
   "id": "a7e1b1a1-c463-4e88-9ab2-896ee0e32fb2",
   "metadata": {},
   "outputs": [
    {
     "data": {
      "text/html": [
       "<div>\n",
       "<style scoped>\n",
       "    .dataframe tbody tr th:only-of-type {\n",
       "        vertical-align: middle;\n",
       "    }\n",
       "\n",
       "    .dataframe tbody tr th {\n",
       "        vertical-align: top;\n",
       "    }\n",
       "\n",
       "    .dataframe thead th {\n",
       "        text-align: right;\n",
       "    }\n",
       "</style>\n",
       "<table border=\"1\" class=\"dataframe\">\n",
       "  <thead>\n",
       "    <tr style=\"text-align: right;\">\n",
       "      <th></th>\n",
       "      <th>Crecimiento de ventas previsto</th>\n",
       "    </tr>\n",
       "  </thead>\n",
       "  <tbody>\n",
       "    <tr>\n",
       "      <th>count</th>\n",
       "      <td>10000.000000</td>\n",
       "    </tr>\n",
       "    <tr>\n",
       "      <th>mean</th>\n",
       "      <td>-0.053873</td>\n",
       "    </tr>\n",
       "    <tr>\n",
       "      <th>std</th>\n",
       "      <td>0.217898</td>\n",
       "    </tr>\n",
       "    <tr>\n",
       "      <th>min</th>\n",
       "      <td>-0.856690</td>\n",
       "    </tr>\n",
       "    <tr>\n",
       "      <th>25%</th>\n",
       "      <td>-0.202680</td>\n",
       "    </tr>\n",
       "    <tr>\n",
       "      <th>50%</th>\n",
       "      <td>-0.051361</td>\n",
       "    </tr>\n",
       "    <tr>\n",
       "      <th>75%</th>\n",
       "      <td>0.097707</td>\n",
       "    </tr>\n",
       "    <tr>\n",
       "      <th>max</th>\n",
       "      <td>0.708883</td>\n",
       "    </tr>\n",
       "  </tbody>\n",
       "</table>\n",
       "</div>"
      ],
      "text/plain": [
       "       Crecimiento de ventas previsto\n",
       "count                    10000.000000\n",
       "mean                        -0.053873\n",
       "std                          0.217898\n",
       "min                         -0.856690\n",
       "25%                         -0.202680\n",
       "50%                         -0.051361\n",
       "75%                          0.097707\n",
       "max                          0.708883"
      ]
     },
     "execution_count": 90,
     "metadata": {},
     "output_type": "execute_result"
    }
   ],
   "source": [
    "# Descriptive statistics (variant 2)\n",
    "c_estadisticas=crecimiento_df.describe()\n",
    "c_estadisticas"
   ]
  },
  {
   "cell_type": "code",
   "execution_count": 91,
   "id": "fe349b19-1a66-44a7-b767-5601376ac843",
   "metadata": {},
   "outputs": [],
   "source": [
    "#agregamos las estadisticas al documento excel\n",
    "crec_sim_sht.range('E1').value=c_estadisticas"
   ]
  },
  {
   "cell_type": "code",
   "execution_count": 92,
   "id": "e625f67e-8099-466f-b7b5-2579ec993bb0",
   "metadata": {},
   "outputs": [],
   "source": [
    "# Definición de los rangos de celdas que se formatearán: los datos de salida de la simulación\n",
    "c_range=crec_sim_sht.range('A1').expand() # las primeras 3 columnas completas\n",
    "c_header_range=crec_sim_sht.range('A1').expand('right') #los header de la columna A,B\n",
    "c_data_range=crec_sim_sht.range('A2').expand() #solo los datos de las columnas\n",
    "# Definición de los rangos que serán formateados\n",
    "c_hist_range=crec_sim_sht.range('C1').expand()\n",
    "c_hist_header_range=crec_sim_sht.range('c1').expand('right')\n",
    "c_hist_data_range=crec_sim_sht.range('C2').expand()\n",
    "# Definición del rango que se formateará a partir del marco de datos de estadísticas descriptivas\n",
    "c_stats_range=crec_sim_sht.range('e1').expand()\n",
    "c_stats_header_range=crec_sim_sht.range('F1').expand('right')\n",
    "c_stats_data_range=crec_sim_sht.range('F2').expand()\n",
    "c_stats_name_range=crec_sim_sht.range('E2').expand('down')"
   ]
  },
  {
   "cell_type": "code",
   "execution_count": 93,
   "id": "5e51dfb0-2d8c-49ec-9255-6b7a2698c1f8",
   "metadata": {},
   "outputs": [],
   "source": [
    "#fuente y tamaño\n",
    "header=[c_header_range,c_stats_header_range,c_stats_name_range,c_hist_header_range]\n",
    "for cells in header:\n",
    "    cells.api.Font.Name='Arial'\n",
    "    cells.api.Font.Size=11\n",
    "    cells.api.Font.Bold=True\n",
    "    cells.color=rgb_to_int((204, 41, 54))#color de fondo\n",
    "    cells.api.Font.Color=rgb_to_int((241, 191, 152))#color de letra\n",
    "    cells.column_width=13\n",
    "    cells.api.WrapText=True\n",
    "    "
   ]
  },
  {
   "cell_type": "code",
   "execution_count": 94,
   "id": "8b395871-9e2d-4a1a-be0e-eabf9e7aa42e",
   "metadata": {},
   "outputs": [],
   "source": [
    "#Alineando al centro\n",
    "c_data_range.api.HorizontalAlignment = xw.constants.HAlign.xlHAlignCenter\n",
    "c_stats_data_range.api.HorizontalAlignment = xw.constants.HAlign.xlHAlignCenter\n",
    "c_hist_data_range.api.HorizontalAlignment = xw.constants.HAlign.xlHAlignCenter"
   ]
  },
  {
   "cell_type": "code",
   "execution_count": 95,
   "id": "14dc4dbf-3741-46a9-8a21-ae5b7fa68f86",
   "metadata": {},
   "outputs": [],
   "source": [
    "c_stats_name_range.autofit()\n"
   ]
  },
  {
   "cell_type": "code",
   "execution_count": 96,
   "id": "92f2c2b6-43ae-4571-b41a-5282cab39321",
   "metadata": {},
   "outputs": [],
   "source": [
    "#formato de los numeros\n",
    "c_data_range.number_format='0,00'\n",
    "c_stats_data_range.number_format='0,00'\n",
    "c_hist_data_range.number_format='0,00'\n",
    "\n",
    "c_data_range.color=(196, 255, 249)\n",
    "c_stats_data_range.color=(210, 161, 184)\n",
    "c_hist_data_range.color=(156, 234, 239)"
   ]
  },
  {
   "cell_type": "code",
   "execution_count": 97,
   "id": "2eab4d49-b991-4851-a5f8-0b85cfbba836",
   "metadata": {},
   "outputs": [],
   "source": [
    "#dando estilo al borde\n",
    "for border_id in range(7,13):\n",
    "    c_range.api.Borders(border_id).Color = 0xFFFFFF # white border frame\n",
    "    c_range.api.Borders(border_id).Weight = 2 # thin border\n",
    "    \n",
    "    c_stats_range.api.Borders(border_id).Color = 0xFFFFFF # white border frame\n",
    "    c_stats_range.api.Borders(border_id).Weight = 2 # thin border\n",
    "    \n",
    "    c_hist_range.api.Borders(border_id).Color = 0xFFFFFF # white border frame\n",
    "    c_hist_range.api.Borders(border_id).Weight = 2 # thin border"
   ]
  },
  {
   "cell_type": "markdown",
   "id": "3ffc4ec0-ba9a-44a6-9efb-dd7ecdf3bd43",
   "metadata": {},
   "source": [
    "Ahora visualicemos el resultado de la simulación en un gráfico que posteriormente se copiará en el modelo.\n",
    "El código, la lógica y el gráfico principal son similares a los de la simulación anterior para la previsión de ingresos por ventas."
   ]
  },
  {
   "cell_type": "code",
   "execution_count": 98,
   "id": "9027a51c-01b3-460a-8a56-6b4b16fb41d7",
   "metadata": {},
   "outputs": [
    {
     "data": {
      "text/markdown": [
       "<span style='color:orange'></spna><span style='font-weight: bold'>RESULTADO:</span>"
      ],
      "text/plain": [
       "<IPython.core.display.Markdown object>"
      ]
     },
     "metadata": {},
     "output_type": "display_data"
    },
    {
     "data": {
      "image/png": "[encoded data removed]",
      "text/plain": [
       "<Figure size 1800x900 with 1 Axes>"
      ]
     },
     "metadata": {},
     "output_type": "display_data"
    },
    {
     "data": {
      "text/markdown": [
       "<span style='color:orange'></spna><span style='font-weight: bold'>RESULTADOS:</span>"
      ],
      "text/plain": [
       "<IPython.core.display.Markdown object>"
      ]
     },
     "metadata": {},
     "output_type": "display_data"
    },
    {
     "name": "stdout",
     "output_type": "stream",
     "text": [
      "Crecimiento esperado: \n",
      "Crecimiento Minimo: -0.86\n",
      "Crecimiento Maximo: 0.71\n",
      "Promedio de Crecimiento: -0.05\n",
      "Volatilidad: 0.22 \n",
      "\n",
      "\n"
     ]
    },
    {
     "data": {
      "text/markdown": [
       "<span style='color:orange'></spna><span style='font-weight: bold'>POSIBILIDADES DE LA TASA DE CRECIMIENTO DE LOS INGRESOS:</span>"
      ],
      "text/plain": [
       "<IPython.core.display.Markdown object>"
      ]
     },
     "metadata": {},
     "output_type": "display_data"
    },
    {
     "name": "stdout",
     "output_type": "stream",
     "text": [
      "Probabilidad de crecimiento mayor que 0.05: 32.41%\n",
      "Probabilidad de crecimiento mayor que 0.07: 29.33%\n",
      "Probabilidad de crecimiento mayor que 0.1: 24.68%\n",
      "Probabilidad de crecimiento mayor que 0.13: 20.08%\n",
      "Probabilidad de crecimiento mayor que 0.15: 17.26%\n",
      "Probabilidad de crecimiento mayor que 0.2: 11.75%\n",
      "\n",
      "El principal movimiento de crecimiento de los ingresos (1 desviacion standard) esta entre 0.16 y -0.27 en el area gris\n"
     ]
    }
   ],
   "source": [
    "printmd(\"RESULTADO:\")\n",
    "g=crecimiento_monte_carlo\n",
    "g_fig=plt.figure(dpi=150,figsize=(12,6))\n",
    "plt.title('Simulacion Monte Carlo de crecimiento de Ingresos',fontsize=12)\n",
    "plt.plot(promedio_ingresos_crecimiento,linewidth=2,c='blue',label='Promedio',linestyle='-')\n",
    "plt.legend(loc='lower left')\n",
    "\n",
    "plt.grid(color='yellow',linestyle=':',linewidth=0.5)\n",
    "plt.xlabel('Numero de simulaciones', fontsize=9)\n",
    "plt.ylabel('Crecimiento de los ingresos',fontsize=9)\n",
    "\n",
    "# Añadiendo el área gris oscura a la figura que representa la distribución\n",
    "plt.axhspan(promedio_ingresos_crecimiento-volatilidad_esperada_c,promedio_ingresos_crecimiento+volatilidad_esperada_c,facecolor='0.7',alpha=0.5)\n",
    "plt.plot(g,linewidth=0.2,color='#f2bb05')\n",
    "plt.axhline(y=promedio_ingresos_crecimiento,linewidth=1.5,color='blue',linestyle='-')\n",
    "plt.show()\n",
    "\n",
    "printmd(\"RESULTADOS:\")\n",
    "c_stats=list(np.around(np.array([min_crecimiento,max_crecimiento,promedio_ingresos_crecimiento,volatilidad_esperada_c]),2))\n",
    "print(\"Crecimiento esperado: \\n\"\n",
    "        \"Crecimiento Minimo: {}\\n\"\n",
    "          \"Crecimiento Maximo: {}\\n\"\n",
    "              \"Promedio de Crecimiento: {}\\n\"\n",
    "              \"Volatilidad: {} \\n\".format(c_stats[0],c_stats[1],c_stats[2],c_stats[3])\n",
    "        )\n",
    "print('')\n",
    "# Definir la función con la que visualizar el resultado\n",
    "def rev_possibilities(data,monte_carlo,iteraciones):\n",
    "    for i in data:\n",
    "        per=[]\n",
    "        threshold=[]\n",
    "        ## Verificar si los ingresos son mayores que el umbral de ingresos, es decir, 400 MCHF\n",
    "        above_certain=monte_carlo[np.where(monte_carlo>i)]\n",
    "        ## Verificar cuántas veces aparece el ingreso umbral \n",
    "        ## en la lista dividido por el total de iteraciones ## para encontrar la probabilidad\n",
    "        percentage=round((above_certain.size/iteraciones*100),2)\n",
    "        per.append(percentage)\n",
    "        threshold.append(i)\n",
    "        print(\"Probabilidad de crecimiento mayor que {}: {}%\".format(i,percentage))\n",
    "printmd(\"POSIBILIDADES DE LA TASA DE CRECIMIENTO DE LOS INGRESOS:\")\n",
    "rev_possibilities(umbral_de_crecimiento,crecimiento_monte_carlo,iteraciones)\n",
    "low_c_vol=promedio_ingresos_crecimiento-volatilidad_esperada_c\n",
    "high_c_vol=promedio_ingresos_crecimiento+volatilidad_esperada_c\n",
    "c_list=list(np.around(np.array([low_c_vol,high_c_vol]),2))\n",
    "print(\"\")\n",
    "print(\"El principal movimiento de crecimiento de los ingresos (1 desviacion standard) esta entre {} y {} en el area gris\".format(c_list[1],c_list[0]))"
   ]
  },
  {
   "cell_type": "markdown",
   "id": "c2ac37c5-2aaa-4475-a0fe-d0cf54eaa862",
   "metadata": {},
   "source": [
    "El diagrama es bastante similar al de la simulación anterior, con la salvedad de que aquí se revisan los posibles valores aleatorios de las tasas de crecimiento, no los ingresos por ventas.\n",
    "Esta cifra también se incluirá en el archivo de Excel.\n",
    "Las posibilidades de tener las tasas de crecimiento dentro de los rangos predefinidos se pueden ver en las estadísticas anteriores preparadas con el diagrama."
   ]
  },
  {
   "cell_type": "code",
   "execution_count": 99,
   "id": "b5792f6c-2901-484f-ae64-c96548fce8f3",
   "metadata": {},
   "outputs": [
    {
     "data": {
      "text/plain": [
       "<Picture 'Simulacion Monte Carlo de crecimiento de ingresos' in <Sheet [Flujo_de_caja.xlsx]Growth Forecast>>"
      ]
     },
     "execution_count": 99,
     "metadata": {},
     "output_type": "execute_result"
    }
   ],
   "source": [
    "rng3=dfc_file.sheets['Growth Forecast'].range('H1')\n",
    "crec_sim_sht.pictures.add(g_fig,name='Simulacion Monte Carlo de crecimiento de ingresos',update=True,top=rng3.top,left=rng3.left)"
   ]
  },
  {
   "cell_type": "code",
   "execution_count": 100,
   "id": "3fe543a6-7306-4c98-a5c5-c73b8246398d",
   "metadata": {},
   "outputs": [
    {
     "data": {
      "image/png": "[encoded data removed]",
      "text/plain": [
       "<Figure size 1200x500 with 2 Axes>"
      ]
     },
     "metadata": {},
     "output_type": "display_data"
    }
   ],
   "source": [
    "g_figure=plt.figure(figsize=(12,5))\n",
    "plt.subplot(1,2,1)\n",
    "plt.hist(crecimiento_df['Crecimiento de ventas previsto'],density=True,bins=200,color='blue')\n",
    "plt.xlabel('Tasa de Crecimiento')\n",
    "plt.ylabel('Frecuencia')\n",
    "plt.title('Distribucion de la tasa de crecimiento', fontsize=12)\n",
    "plt.axvline(crecimiento_df['Crecimiento de ventas previsto'].mean(),label='Promeio', color='green')\n",
    "plt.legend()\n",
    "\n",
    "plt.subplot(1,2,2)\n",
    "x=np.sort(crecimiento_df['Crecimiento de ventas previsto'])\n",
    "y=np.arange(1,len(x)+1/len(x))\n",
    "plt.plot(x,y,marker='.',linestyle='none',color='green')\n",
    "plt.xlabel('Tasa de crecimiento pronosticado')\n",
    "plt.ylabel('Funcion de distribucion acumulada')\n",
    "plt.show()"
   ]
  },
  {
   "cell_type": "code",
   "execution_count": 101,
   "id": "e0a14a15-ecb6-4840-af01-f6960536b5e8",
   "metadata": {},
   "outputs": [
    {
     "data": {
      "text/plain": [
       "<Picture 'Figure 2' in <Sheet [Flujo_de_caja.xlsx]Growth Forecast>>"
      ]
     },
     "execution_count": 101,
     "metadata": {},
     "output_type": "execute_result"
    }
   ],
   "source": [
    "rng4=dfc_file.sheets['Growth Forecast'].range('H27')\n",
    "crec_sim_sht.pictures.add(g_figure,name='Figure 2', update=True,top=rng4.top,left=rng4.left)"
   ]
  },
  {
   "cell_type": "markdown",
   "id": "3c9b3de8-59d0-4c3a-9037-be5c8f6aa996",
   "metadata": {},
   "source": [
    "Según el histograma, podemos observar la distribución de los resultados relacionados con la tasa de crecimiento de las ventas, según el modelo de simulación de Monte Carlos. Se asemeja al histograma de distribución normal, con un valor promedio representado por la línea horizontal verde.\n",
    "El segundo gráfico es la función de distribución acumulativa, donde podemos ver la probabilidad de que la tasa de crecimiento sea inferior o superior a un valor determinado. Por ejemplo, la probabilidad de una tasa de crecimiento negativa (menor a 0,00) es de 0,6 (desafortunadamente, la tendencia histórica de la tasa de crecimiento de las ventas tampoco fue favorable)."
   ]
  },
  {
   "cell_type": "markdown",
   "id": "04f468c0-6e30-4337-b7a6-96f9b1efd862",
   "metadata": {},
   "source": [
    "<h4 style=\"color:#d1345b\">3. Simulacion Monte Carlo respecto al Valor de la Empresa basado en el modelo de Flujo de Caja Descontado </h4>"
   ]
  },
  {
   "cell_type": "markdown",
   "id": "741b7b8e-5f3d-4a87-b9d1-4c3c34954415",
   "metadata": {},
   "source": [
    "El Valor Presente Neto (VAN) se obtiene al restar la inversión inicial a la suma de los flujos de caja descontados."
   ]
  },
  {
   "cell_type": "markdown",
   "id": "5b99ca3b-715f-4d44-9a2e-2331436c251f",
   "metadata": {},
   "source": [
    "Y volvemos a la simulación de Monte Carlo para la evaluación del valor de la empresa. En este caso, basándome en los resultados de la simulación anterior, construiré el último modelo para cumplir el objetivo principal del proyecto: la estimación del valor de la empresa en 5 años mediante el método de flujo de caja descontado (DCF).\n",
    "\n",
    "Para crear el modelo, intentaré utilizar dos tipos de distribución (para lograr cierta diversidad): la normal y la uniforme."
   ]
  },
  {
   "cell_type": "markdown",
   "id": "9d8237e0-eebc-45ad-bdb5-54ccd3af78b4",
   "metadata": {},
   "source": [
    "#### Distribucion Normal\n",
    "La distribución normal, también conocida como distribución gaussiana o de Gauss, se utiliza ampliamente en ciencias naturales y sociales. Su relevancia reside en el Teorema del Límite Central, que establece que los promedios obtenidos de variables aleatorias independientes con distribución idéntica tienden a formar distribuciones normales, independientemente del tipo de distribución del que se extraigan.\n",
    "Se utilizará para generar los valores aleatorios de la tasa de crecimiento a partir de los valores promedio y de desviación estándar obtenidos en la simulación anterior."
   ]
  },
  {
   "cell_type": "markdown",
   "id": "cad8da85-1801-499e-8501-e5c390ce1cc1",
   "metadata": {},
   "source": [
    "#### Distribucion Uniforme\n",
    "La distribución uniforme es la distribución estadística más simple. El concepto de distribución uniforme, así como las variables aleatorias que describe, constituyen la base del análisis estadístico y la teoría de la probabilidad. El porcentaje de probabilidad es 1 dividido entre el número total de resultados.\n",
    "Esta distribución se utilizará para generar los valores aleatorios de las tasas de descuento esperadas. En este caso, se aplicará el supuesto de una tasa de descuento mínima del 5 % y máxima del 10 % para la simulación."
   ]
  },
  {
   "cell_type": "code",
   "execution_count": null,
   "id": "fa86c54c-e138-46f4-a1e2-f0e595ef6b77",
   "metadata": {},
   "outputs": [],
   "source": []
  },
  {
   "cell_type": "code",
   "execution_count": null,
   "id": "83185de2-c422-44d3-874f-7efe757dd659",
   "metadata": {},
   "outputs": [],
   "source": []
  }
 ],
 "metadata": {
  "kernelspec": {
   "display_name": "Python 3 (ipykernel)",
   "language": "python",
   "name": "python3"
  },
  "language_info": {
   "codemirror_mode": {
    "name": "ipython",
    "version": 3
   },
   "file_extension": ".py",
   "mimetype": "text/x-python",
   "name": "python",
   "nbconvert_exporter": "python",
   "pygments_lexer": "ipython3",
   "version": "3.12.1"
  }
 },
 "nbformat": 4,
 "nbformat_minor": 5
}
